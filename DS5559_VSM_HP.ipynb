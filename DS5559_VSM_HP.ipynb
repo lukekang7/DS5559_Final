{
 "cells": [
  {
   "cell_type": "code",
   "execution_count": 1,
   "metadata": {
    "colab": {},
    "colab_type": "code",
    "id": "YbadDvzWW0Sw"
   },
   "outputs": [],
   "source": [
    "import pandas as pd\n",
    "import numpy as np\n",
    "import matplotlib.pyplot as plt\n",
    "import sqlite3\n",
    "import textman as tx\n",
    "import seaborn as sns; sns.set()\n",
    "import re\n",
    "%matplotlib inline"
   ]
  },
  {
   "cell_type": "markdown",
   "metadata": {
    "colab_type": "text",
    "id": "3prN-_cQ-8qd"
   },
   "source": [
    "# Import and Preprocess "
   ]
  },
  {
   "cell_type": "code",
   "execution_count": 2,
   "metadata": {
    "colab": {
     "base_uri": "https://localhost:8080/",
     "height": 238
    },
    "colab_type": "code",
    "id": "2K22-bh4W488",
    "outputId": "e9fca821-305c-42a5-f813-c37f7b8a2eeb"
   },
   "outputs": [
    {
     "name": "stdout",
     "output_type": "stream",
     "text": [
      "[nltk_data] Downloading package punkt to /home/sk5be/nltk_data...\n",
      "[nltk_data]   Package punkt is already up-to-date!\n",
      "[nltk_data] Downloading package averaged_perceptron_tagger to\n",
      "[nltk_data]     /home/sk5be/nltk_data...\n",
      "[nltk_data]   Package averaged_perceptron_tagger is already up-to-\n",
      "[nltk_data]       date!\n",
      "[nltk_data] Downloading package stopwords to /home/sk5be/nltk_data...\n",
      "[nltk_data]   Package stopwords is already up-to-date!\n",
      "[nltk_data] Downloading package tagsets to /home/sk5be/nltk_data...\n",
      "[nltk_data]   Package tagsets is already up-to-date!\n",
      "[nltk_data] Downloading package wordnet to /home/sk5be/nltk_data...\n",
      "[nltk_data]   Package wordnet is already up-to-date!\n"
     ]
    },
    {
     "data": {
      "text/plain": [
       "True"
      ]
     },
     "execution_count": 2,
     "metadata": {},
     "output_type": "execute_result"
    }
   ],
   "source": [
    "import nltk\n",
    "nltk.download('punkt')\n",
    "nltk.download('averaged_perceptron_tagger')\n",
    "nltk.download('stopwords')\n",
    "nltk.download('tagsets')\n",
    "nltk.download('wordnet')"
   ]
  },
  {
   "cell_type": "markdown",
   "metadata": {
    "colab_type": "text",
    "id": "AwIc1D23UuOQ"
   },
   "source": [
    "## Revised import function\n",
    "\n",
    "We pause to look at the revised form of our text import function. The parsing function has been replaced with NLTK, which has improved the results of POS tagging. However, this has required some added string manipulation to produce better tokens."
   ]
  },
  {
   "cell_type": "code",
   "execution_count": 7,
   "metadata": {
    "cellView": "both",
    "colab": {},
    "colab_type": "code",
    "id": "JkFioCMVW8pl"
   },
   "outputs": [],
   "source": [
    "OHCO = ['book_num','chap_num', 'para_num', 'sent_num', 'token_num']\n",
    "BOOKS = OHCO[:1]\n",
    "CHAPS = OHCO[:2]\n",
    "PARAS = OHCO[:3]\n",
    "SENTS = OHCO[:4]"
   ]
  },
  {
   "cell_type": "code",
   "execution_count": 4,
   "metadata": {
    "colab": {},
    "colab_type": "code",
    "id": "2Oxgp19ejZmU"
   },
   "outputs": [],
   "source": [
    "\"\"\"\n",
    "NOTE: NLTK tokenization messes up whitespace and \n",
    "handles non-alpha characters differently.\n",
    "\"\"\"\n",
    "\n",
    "def text_to_tokens(\n",
    "                   src_file,\n",
    "                   body_start=0, \n",
    "                   body_end=-1, \n",
    "                   chap_pat=r'^\\s*Chapter.*$', \n",
    "                   para_pat=r'\\n\\n+', \n",
    "                   sent_pat=r'([.;?!\"“”]+)', \n",
    "                   token_pat=r'([\\W_]+)'):\n",
    "\n",
    "    # Text to lines\n",
    "    lines = open(src_file, 'r', encoding='utf-8').readlines()\n",
    "    lines = lines[body_start - 1 : body_end + 1]\n",
    "    df = pd.DataFrame({'line_str':lines})\n",
    "    df.index.name = 'line_id'\n",
    "    del(lines)\n",
    "    \n",
    "    # FIX CHARACTERS TO IMPROVE TOKENIZATION\n",
    "    df.line_str = df.line_str.str.replace('—', ' — ')\n",
    "    df.line_str = df.line_str.str.replace('-', ' - ')\n",
    "\n",
    "    # Lines to Chapters\n",
    "    mask = df.line_str.str.match(chap_pat)\n",
    "    df.loc[mask, 'chap_id'] = df.apply(lambda x: x.name, 1)\n",
    "    df.chap_id = df.chap_id.ffill().astype('int')\n",
    "    chap_ids = df.chap_id.unique().tolist()\n",
    "    df['chap_num'] = df.chap_id.apply(lambda x: chap_ids.index(x))\n",
    "    chaps = df.groupby('chap_num')\\\n",
    "        .apply(lambda x: ''.join(x.line_str))\\\n",
    "        .to_frame()\\\n",
    "        .rename(columns={0:'chap_str'})\n",
    "    del(df)\n",
    "\n",
    "    # Chapters to Paragraphs\n",
    "    paras = chaps.chap_str.str.split(para_pat, expand=True)\\\n",
    "        .stack()\\\n",
    "        .to_frame()\\\n",
    "        .rename(columns={0:'para_str'})\n",
    "    paras.index.names = PARAS\n",
    "    paras.para_str = paras.para_str.str.strip()\n",
    "    paras.para_str = paras.para_str.str.replace(r'\\n', ' ')\n",
    "    paras.para_str = paras.para_str.str.replace(r'\\s+', ' ')\n",
    "    paras = paras[~paras.para_str.str.match(r'^\\s*$')]\n",
    "    del(chaps)\n",
    "\n",
    "    # Paragraphs to Sentences\n",
    "#     sents = paras.para_str.str.split(sent_pat, expand=True)\\\n",
    "    sents = paras.para_str\\\n",
    "        .apply(lambda x: pd.Series(nltk.sent_tokenize(x)))\\\n",
    "        .stack()\\\n",
    "        .to_frame()\\\n",
    "        .rename(columns={0:'sent_str'})\n",
    "    sents.index.names = SENTS\n",
    "    del(paras)\n",
    "\n",
    "    # Sentences to Tokens\n",
    "#     tokens = sents.sent_str.str.split(token_pat, expand=True)\\\n",
    "    tokens = sents.sent_str\\\n",
    "        .apply(lambda x: pd.Series(nltk.pos_tag(nltk.word_tokenize(x))))\\\n",
    "        .stack()\\\n",
    "        .to_frame()\\\n",
    "        .rename(columns={0:'pos_tuple'})\n",
    "    tokens.index.names = OHCO\n",
    "    del(sents)\n",
    "    \n",
    "    tokens['pos'] = tokens.pos_tuple.apply(lambda x: x[1])\n",
    "    tokens['token_str'] = tokens.pos_tuple.apply(lambda x: x[0])\n",
    "    tokens = tokens.drop('pos_tuple', 1)\n",
    "\n",
    "    # Tag punctuation and numbers\n",
    "    tokens['punc'] = tokens.token_str.str.match(r'^[\\W_]*$').astype('int')\n",
    "    tokens['num'] = tokens.token_str.str.match(r'^.*\\d.*$').astype('int')\n",
    "    \n",
    "    # Extract vocab with minimal normalization\n",
    "    WORDS = (tokens.punc == 0) & (tokens.num == 0)\n",
    "    tokens.loc[WORDS, 'term_str'] = tokens.token_str.str.lower()\\\n",
    "        .str.replace(r'[\"_*.]', '')\n",
    "    \n",
    "    vocab = tokens[tokens.punc == 0].term_str.value_counts().to_frame()\\\n",
    "        .reset_index()\\\n",
    "        .rename(columns={'index':'term_str', 'term_str':'n'})\n",
    "    vocab = vocab.sort_values('term_str').reset_index(drop=True)\n",
    "    vocab.index.name = 'term_id'\n",
    "    \n",
    "    # Get priors for V\n",
    "    vocab['p'] = vocab.n / vocab.n.sum()\n",
    "    \n",
    "    # Add stems\n",
    "    stemmer = nltk.stem.porter.PorterStemmer()\n",
    "    vocab['port_stem'] = vocab.term_str.apply(lambda x: stemmer.stem(x))\n",
    "    \n",
    "    # Define stopwords\n",
    "    sw = pd.DataFrame({'x':1}, index=nltk.corpus.stopwords.words('english'))\n",
    "    vocab['stop'] = vocab.term_str.map(sw.x).fillna(0).astype('int')\n",
    "    del(sw)\n",
    "            \n",
    "    # Add term_ids to tokens \n",
    "    tokens['term_id'] = tokens['term_str'].map(vocab.reset_index()\\\n",
    "        .set_index('term_str').term_id).fillna(-1).astype('int')\n",
    "\n",
    "    return tokens, vocab\n",
    "\n",
    "def get_docs(tokens, div_names, doc_str = 'term_id', sep='', flatten=False, \n",
    "             index_only=False):\n",
    "    \n",
    "    if not index_only:\n",
    "        docs = tokens.groupby(div_names)[doc_str]\\\n",
    "          .apply(lambda x: x.str.cat(sep=sep))\n",
    "        docs.columns = ['doc_content']\n",
    "    else:\n",
    "        docs = tokens.groupby(div_names)[doc_str].apply(lambda x: x.tolist())\n",
    "\n",
    "    if flatten:\n",
    "        docs = docs.reset_index().drop(div_names, 1)\n",
    "    \n",
    "    return docs\n",
    "\n",
    "def get_term_id(vocab, term_str):\n",
    "    return vocab[vocab.term_str == term_str].index[0]\n",
    "\n",
    "def get_term_str(vocab, term_id):\n",
    "    return vocab.loc[term_id].term_str"
   ]
  },
  {
   "cell_type": "code",
   "execution_count": 12,
   "metadata": {},
   "outputs": [],
   "source": [
    "max_words = 10000000\n",
    "corpus_db = \"/sfs/qumulo/qhome/sk5be/DS5559/HarryPotter.db\"\n",
    "sql = \"\"\"\n",
    "SELECT * FROM token \n",
    "WHERE term_id IN (\n",
    "    SELECT term_id FROM vocab \n",
    "    WHERE stop = 0 \n",
    "    AND term_str NOT IN ('said')\n",
    ")\n",
    "AND (pos NOT LIKE 'NNP%')\n",
    "\"\"\".format(max_words)\n",
    "sql_vocab = \"\"\"\n",
    "SELECT * FROM vocab \"\"\".format(max_words)\n",
    "#\n",
    "with sqlite3.connect(corpus_db) as db:\n",
    "    tokens = pd.read_sql(sql,db)\n",
    "with sqlite3.connect(corpus_db) as db:\n",
    "    vocab = pd.read_sql(sql_vocab,db)\n",
    "V = vocab.copy()\n",
    "K = tokens.copy()\n",
    "#\n",
    "G = K.groupby(OHCO[:4])\\\n",
    "  .apply(lambda x: np.random.choice(['train', 'test'], p=[.8, .2]))\\\n",
    "  .to_frame().rename(columns={0:'group'})\n",
    "K = pd.merge(K.reset_index(), G.reset_index(), on=OHCO[:4], how='left')\n",
    "K = K.set_index(OHCO, drop=True)"
   ]
  },
  {
   "cell_type": "code",
   "execution_count": 6,
   "metadata": {
    "colab": {},
    "colab_type": "code",
    "id": "JZ8ly61GWcMp"
   },
   "outputs": [],
   "source": [
    "# lemmatizer = nltk.stem.WordNetLemmatizer()\n",
    "# # ADJ, ADJ_SAT, ADV, NOUN, VERB = 'a', 's', 'r', 'n', 'v'\n",
    "# nouns = (K.punc == 0) & K.pos.str.match(r'^N')\n",
    "# verbs = (K.punc == 0) & K.pos.str.match(r'^V')\n",
    "# K.loc[nouns, 'lemma'] = K[nouns].apply(lambda x: lemmatizer.lemmatize(x.term_str, pos='n'), 1)\n",
    "# K.loc[verbs, 'lemma'] = K[verbs].apply(lambda x: lemmatizer.lemmatize(x.term_str, pos='v'), 1)"
   ]
  },
  {
   "cell_type": "code",
   "execution_count": 13,
   "metadata": {},
   "outputs": [
    {
     "data": {
      "text/html": [
       "<div>\n",
       "<style scoped>\n",
       "    .dataframe tbody tr th:only-of-type {\n",
       "        vertical-align: middle;\n",
       "    }\n",
       "\n",
       "    .dataframe tbody tr th {\n",
       "        vertical-align: top;\n",
       "    }\n",
       "\n",
       "    .dataframe thead th {\n",
       "        text-align: right;\n",
       "    }\n",
       "</style>\n",
       "<table border=\"1\" class=\"dataframe\">\n",
       "  <thead>\n",
       "    <tr style=\"text-align: right;\">\n",
       "      <th></th>\n",
       "      <th></th>\n",
       "      <th></th>\n",
       "      <th></th>\n",
       "      <th></th>\n",
       "      <th>index</th>\n",
       "      <th>pos</th>\n",
       "      <th>token_str</th>\n",
       "      <th>punc</th>\n",
       "      <th>num</th>\n",
       "      <th>term_str</th>\n",
       "      <th>term_id</th>\n",
       "      <th>group</th>\n",
       "    </tr>\n",
       "    <tr>\n",
       "      <th>book_num</th>\n",
       "      <th>chap_num</th>\n",
       "      <th>para_num</th>\n",
       "      <th>sent_num</th>\n",
       "      <th>token_num</th>\n",
       "      <th></th>\n",
       "      <th></th>\n",
       "      <th></th>\n",
       "      <th></th>\n",
       "      <th></th>\n",
       "      <th></th>\n",
       "      <th></th>\n",
       "      <th></th>\n",
       "    </tr>\n",
       "  </thead>\n",
       "  <tbody>\n",
       "    <tr>\n",
       "      <th rowspan=\"5\" valign=\"top\">0</th>\n",
       "      <th rowspan=\"5\" valign=\"top\">0</th>\n",
       "      <th>0</th>\n",
       "      <th>0</th>\n",
       "      <th>0</th>\n",
       "      <td>0</td>\n",
       "      <td>NN</td>\n",
       "      <td>CHAPTER</td>\n",
       "      <td>0</td>\n",
       "      <td>0</td>\n",
       "      <td>chapter</td>\n",
       "      <td>4164</td>\n",
       "      <td>train</td>\n",
       "    </tr>\n",
       "    <tr>\n",
       "      <th rowspan=\"4\" valign=\"top\">2</th>\n",
       "      <th rowspan=\"4\" valign=\"top\">0</th>\n",
       "      <th>6</th>\n",
       "      <td>1</td>\n",
       "      <td>NN</td>\n",
       "      <td>number</td>\n",
       "      <td>0</td>\n",
       "      <td>0</td>\n",
       "      <td>number</td>\n",
       "      <td>14134</td>\n",
       "      <td>test</td>\n",
       "    </tr>\n",
       "    <tr>\n",
       "      <th>7</th>\n",
       "      <td>2</td>\n",
       "      <td>CD</td>\n",
       "      <td>four</td>\n",
       "      <td>0</td>\n",
       "      <td>0</td>\n",
       "      <td>four</td>\n",
       "      <td>8850</td>\n",
       "      <td>test</td>\n",
       "    </tr>\n",
       "    <tr>\n",
       "      <th>13</th>\n",
       "      <td>3</td>\n",
       "      <td>JJ</td>\n",
       "      <td>proud</td>\n",
       "      <td>0</td>\n",
       "      <td>0</td>\n",
       "      <td>proud</td>\n",
       "      <td>16076</td>\n",
       "      <td>test</td>\n",
       "    </tr>\n",
       "    <tr>\n",
       "      <th>19</th>\n",
       "      <td>4</td>\n",
       "      <td>RB</td>\n",
       "      <td>perfectly</td>\n",
       "      <td>0</td>\n",
       "      <td>0</td>\n",
       "      <td>perfectly</td>\n",
       "      <td>15107</td>\n",
       "      <td>test</td>\n",
       "    </tr>\n",
       "  </tbody>\n",
       "</table>\n",
       "</div>"
      ],
      "text/plain": [
       "                                               index pos  token_str  punc  \\\n",
       "book_num chap_num para_num sent_num token_num                               \n",
       "0        0        0        0        0              0  NN    CHAPTER     0   \n",
       "                  2        0        6              1  NN     number     0   \n",
       "                                    7              2  CD       four     0   \n",
       "                                    13             3  JJ      proud     0   \n",
       "                                    19             4  RB  perfectly     0   \n",
       "\n",
       "                                               num   term_str  term_id  group  \n",
       "book_num chap_num para_num sent_num token_num                                  \n",
       "0        0        0        0        0            0    chapter     4164  train  \n",
       "                  2        0        6            0     number    14134   test  \n",
       "                                    7            0       four     8850   test  \n",
       "                                    13           0      proud    16076   test  \n",
       "                                    19           0  perfectly    15107   test  "
      ]
     },
     "execution_count": 13,
     "metadata": {},
     "output_type": "execute_result"
    }
   ],
   "source": [
    "K.head()"
   ]
  },
  {
   "cell_type": "code",
   "execution_count": 7,
   "metadata": {
    "colab": {
     "base_uri": "https://localhost:8080/",
     "height": 235
    },
    "colab_type": "code",
    "id": "9XFvbnTDx7XG",
    "outputId": "da35c22c-efee-4169-a078-ea17e0d857a1"
   },
   "outputs": [
    {
     "data": {
      "text/html": [
       "<div>\n",
       "<style scoped>\n",
       "    .dataframe tbody tr th:only-of-type {\n",
       "        vertical-align: middle;\n",
       "    }\n",
       "\n",
       "    .dataframe tbody tr th {\n",
       "        vertical-align: top;\n",
       "    }\n",
       "\n",
       "    .dataframe thead th {\n",
       "        text-align: right;\n",
       "    }\n",
       "</style>\n",
       "<table border=\"1\" class=\"dataframe\">\n",
       "  <thead>\n",
       "    <tr style=\"text-align: right;\">\n",
       "      <th></th>\n",
       "      <th></th>\n",
       "      <th></th>\n",
       "      <th></th>\n",
       "      <th>pos</th>\n",
       "      <th>token_str</th>\n",
       "      <th>punc</th>\n",
       "      <th>num</th>\n",
       "      <th>term_str</th>\n",
       "      <th>term_id</th>\n",
       "    </tr>\n",
       "    <tr>\n",
       "      <th>chap_num</th>\n",
       "      <th>para_num</th>\n",
       "      <th>sent_num</th>\n",
       "      <th>token_num</th>\n",
       "      <th></th>\n",
       "      <th></th>\n",
       "      <th></th>\n",
       "      <th></th>\n",
       "      <th></th>\n",
       "      <th></th>\n",
       "    </tr>\n",
       "  </thead>\n",
       "  <tbody>\n",
       "    <tr>\n",
       "      <th rowspan=\"5\" valign=\"top\">0</th>\n",
       "      <th rowspan=\"2\" valign=\"top\">0</th>\n",
       "      <th rowspan=\"2\" valign=\"top\">0</th>\n",
       "      <th>0</th>\n",
       "      <td>NNP</td>\n",
       "      <td>ETYMOLOGY</td>\n",
       "      <td>0</td>\n",
       "      <td>0</td>\n",
       "      <td>etymology</td>\n",
       "      <td>5005</td>\n",
       "    </tr>\n",
       "    <tr>\n",
       "      <th>1</th>\n",
       "      <td>.</td>\n",
       "      <td>.</td>\n",
       "      <td>1</td>\n",
       "      <td>0</td>\n",
       "      <td>NaN</td>\n",
       "      <td>-1</td>\n",
       "    </tr>\n",
       "    <tr>\n",
       "      <th rowspan=\"3\" valign=\"top\">1</th>\n",
       "      <th rowspan=\"3\" valign=\"top\">0</th>\n",
       "      <th>0</th>\n",
       "      <td>(</td>\n",
       "      <td>(</td>\n",
       "      <td>1</td>\n",
       "      <td>0</td>\n",
       "      <td>NaN</td>\n",
       "      <td>-1</td>\n",
       "    </tr>\n",
       "    <tr>\n",
       "      <th>1</th>\n",
       "      <td>VBN</td>\n",
       "      <td>Supplied</td>\n",
       "      <td>0</td>\n",
       "      <td>0</td>\n",
       "      <td>supplied</td>\n",
       "      <td>14441</td>\n",
       "    </tr>\n",
       "    <tr>\n",
       "      <th>2</th>\n",
       "      <td>IN</td>\n",
       "      <td>by</td>\n",
       "      <td>0</td>\n",
       "      <td>0</td>\n",
       "      <td>by</td>\n",
       "      <td>1987</td>\n",
       "    </tr>\n",
       "  </tbody>\n",
       "</table>\n",
       "</div>"
      ],
      "text/plain": [
       "                                      pos  token_str  punc  num   term_str  \\\n",
       "chap_num para_num sent_num token_num                                         \n",
       "0        0        0        0          NNP  ETYMOLOGY     0    0  etymology   \n",
       "                           1            .          .     1    0        NaN   \n",
       "         1        0        0            (          (     1    0        NaN   \n",
       "                           1          VBN   Supplied     0    0   supplied   \n",
       "                           2           IN         by     0    0         by   \n",
       "\n",
       "                                      term_id  \n",
       "chap_num para_num sent_num token_num           \n",
       "0        0        0        0             5005  \n",
       "                           1               -1  \n",
       "         1        0        0               -1  \n",
       "                           1            14441  \n",
       "                           2             1987  "
      ]
     },
     "execution_count": 7,
     "metadata": {},
     "output_type": "execute_result"
    }
   ],
   "source": [
    "K.head()"
   ]
  },
  {
   "cell_type": "code",
   "execution_count": 14,
   "metadata": {},
   "outputs": [
    {
     "data": {
      "text/html": [
       "<div>\n",
       "<style scoped>\n",
       "    .dataframe tbody tr th:only-of-type {\n",
       "        vertical-align: middle;\n",
       "    }\n",
       "\n",
       "    .dataframe tbody tr th {\n",
       "        vertical-align: top;\n",
       "    }\n",
       "\n",
       "    .dataframe thead th {\n",
       "        text-align: right;\n",
       "    }\n",
       "</style>\n",
       "<table border=\"1\" class=\"dataframe\">\n",
       "  <thead>\n",
       "    <tr style=\"text-align: right;\">\n",
       "      <th></th>\n",
       "      <th>term_id</th>\n",
       "      <th>term_str</th>\n",
       "      <th>n</th>\n",
       "      <th>p</th>\n",
       "      <th>port_stem</th>\n",
       "      <th>stop</th>\n",
       "    </tr>\n",
       "  </thead>\n",
       "  <tbody>\n",
       "    <tr>\n",
       "      <th>0</th>\n",
       "      <td>0</td>\n",
       "      <td>''just</td>\n",
       "      <td>1</td>\n",
       "      <td>8.912283e-07</td>\n",
       "      <td>''just</td>\n",
       "      <td>0</td>\n",
       "    </tr>\n",
       "    <tr>\n",
       "      <th>1</th>\n",
       "      <td>1</td>\n",
       "      <td>''professor</td>\n",
       "      <td>1</td>\n",
       "      <td>8.912283e-07</td>\n",
       "      <td>''professor</td>\n",
       "      <td>0</td>\n",
       "    </tr>\n",
       "    <tr>\n",
       "      <th>2</th>\n",
       "      <td>2</td>\n",
       "      <td>''was</td>\n",
       "      <td>1</td>\n",
       "      <td>8.912283e-07</td>\n",
       "      <td>''wa</td>\n",
       "      <td>0</td>\n",
       "    </tr>\n",
       "  </tbody>\n",
       "</table>\n",
       "</div>"
      ],
      "text/plain": [
       "   term_id     term_str  n             p    port_stem  stop\n",
       "0        0       ''just  1  8.912283e-07       ''just     0\n",
       "1        1  ''professor  1  8.912283e-07  ''professor     0\n",
       "2        2        ''was  1  8.912283e-07         ''wa     0"
      ]
     },
     "execution_count": 14,
     "metadata": {},
     "output_type": "execute_result"
    }
   ],
   "source": [
    "V.head(3)"
   ]
  },
  {
   "cell_type": "code",
   "execution_count": 8,
   "metadata": {
    "colab": {
     "base_uri": "https://localhost:8080/",
     "height": 235
    },
    "colab_type": "code",
    "id": "JHoQO_cfx-Tq",
    "outputId": "88152175-b89a-411b-c5dc-327cbddf4cfb"
   },
   "outputs": [
    {
     "data": {
      "text/html": [
       "<div>\n",
       "<style scoped>\n",
       "    .dataframe tbody tr th:only-of-type {\n",
       "        vertical-align: middle;\n",
       "    }\n",
       "\n",
       "    .dataframe tbody tr th {\n",
       "        vertical-align: top;\n",
       "    }\n",
       "\n",
       "    .dataframe thead th {\n",
       "        text-align: right;\n",
       "    }\n",
       "</style>\n",
       "<table border=\"1\" class=\"dataframe\">\n",
       "  <thead>\n",
       "    <tr style=\"text-align: right;\">\n",
       "      <th></th>\n",
       "      <th>term_str</th>\n",
       "      <th>n</th>\n",
       "      <th>p</th>\n",
       "      <th>port_stem</th>\n",
       "      <th>stop</th>\n",
       "    </tr>\n",
       "    <tr>\n",
       "      <th>term_id</th>\n",
       "      <th></th>\n",
       "      <th></th>\n",
       "      <th></th>\n",
       "      <th></th>\n",
       "      <th></th>\n",
       "    </tr>\n",
       "  </thead>\n",
       "  <tbody>\n",
       "    <tr>\n",
       "      <th>0</th>\n",
       "      <td>a</td>\n",
       "      <td>4724</td>\n",
       "      <td>0.021629</td>\n",
       "      <td>a</td>\n",
       "      <td>1</td>\n",
       "    </tr>\n",
       "    <tr>\n",
       "      <th>1</th>\n",
       "      <td>aback</td>\n",
       "      <td>2</td>\n",
       "      <td>0.000009</td>\n",
       "      <td>aback</td>\n",
       "      <td>0</td>\n",
       "    </tr>\n",
       "    <tr>\n",
       "      <th>2</th>\n",
       "      <td>abaft</td>\n",
       "      <td>2</td>\n",
       "      <td>0.000009</td>\n",
       "      <td>abaft</td>\n",
       "      <td>0</td>\n",
       "    </tr>\n",
       "    <tr>\n",
       "      <th>3</th>\n",
       "      <td>abandon</td>\n",
       "      <td>3</td>\n",
       "      <td>0.000014</td>\n",
       "      <td>abandon</td>\n",
       "      <td>0</td>\n",
       "    </tr>\n",
       "    <tr>\n",
       "      <th>4</th>\n",
       "      <td>abandoned</td>\n",
       "      <td>7</td>\n",
       "      <td>0.000032</td>\n",
       "      <td>abandon</td>\n",
       "      <td>0</td>\n",
       "    </tr>\n",
       "  </tbody>\n",
       "</table>\n",
       "</div>"
      ],
      "text/plain": [
       "          term_str     n         p port_stem  stop\n",
       "term_id                                           \n",
       "0                a  4724  0.021629         a     1\n",
       "1            aback     2  0.000009     aback     0\n",
       "2            abaft     2  0.000009     abaft     0\n",
       "3          abandon     3  0.000014   abandon     0\n",
       "4        abandoned     7  0.000032   abandon     0"
      ]
     },
     "execution_count": 8,
     "metadata": {},
     "output_type": "execute_result"
    }
   ],
   "source": [
    "V.head()"
   ]
  },
  {
   "cell_type": "markdown",
   "metadata": {
    "colab_type": "text",
    "id": "l7m48tMsVQGx"
   },
   "source": [
    "## Test to see if 'and' is annotated properly"
   ]
  },
  {
   "cell_type": "code",
   "execution_count": 15,
   "metadata": {
    "colab": {
     "base_uri": "https://localhost:8080/",
     "height": 1088
    },
    "colab_type": "code",
    "id": "FqCwhMpXUZ2u",
    "outputId": "2cfa5101-c3ab-4313-e5d3-04f465a6a4c5"
   },
   "outputs": [
    {
     "data": {
      "text/plain": [
       "Series([], Name: pos, dtype: object)"
      ]
     },
     "execution_count": 15,
     "metadata": {},
     "output_type": "execute_result"
    }
   ],
   "source": [
    "K[K.term_str=='and'].pos"
   ]
  },
  {
   "cell_type": "code",
   "execution_count": 16,
   "metadata": {
    "colab": {
     "base_uri": "https://localhost:8080/",
     "height": 80
    },
    "colab_type": "code",
    "id": "6jH23u-nUjUC",
    "outputId": "aaefa103-59a3-4309-9799-31a57b274205"
   },
   "outputs": [
    {
     "data": {
      "text/html": [
       "<div>\n",
       "<style scoped>\n",
       "    .dataframe tbody tr th:only-of-type {\n",
       "        vertical-align: middle;\n",
       "    }\n",
       "\n",
       "    .dataframe tbody tr th {\n",
       "        vertical-align: top;\n",
       "    }\n",
       "\n",
       "    .dataframe thead th {\n",
       "        text-align: right;\n",
       "    }\n",
       "</style>\n",
       "<table border=\"1\" class=\"dataframe\">\n",
       "  <thead>\n",
       "    <tr style=\"text-align: right;\">\n",
       "      <th></th>\n",
       "      <th></th>\n",
       "      <th></th>\n",
       "      <th></th>\n",
       "      <th></th>\n",
       "      <th>index</th>\n",
       "      <th>pos</th>\n",
       "      <th>token_str</th>\n",
       "      <th>punc</th>\n",
       "      <th>num</th>\n",
       "      <th>term_str</th>\n",
       "      <th>term_id</th>\n",
       "      <th>group</th>\n",
       "    </tr>\n",
       "    <tr>\n",
       "      <th>book_num</th>\n",
       "      <th>chap_num</th>\n",
       "      <th>para_num</th>\n",
       "      <th>sent_num</th>\n",
       "      <th>token_num</th>\n",
       "      <th></th>\n",
       "      <th></th>\n",
       "      <th></th>\n",
       "      <th></th>\n",
       "      <th></th>\n",
       "      <th></th>\n",
       "      <th></th>\n",
       "      <th></th>\n",
       "    </tr>\n",
       "  </thead>\n",
       "  <tbody>\n",
       "  </tbody>\n",
       "</table>\n",
       "</div>"
      ],
      "text/plain": [
       "Empty DataFrame\n",
       "Columns: [index, pos, token_str, punc, num, term_str, term_id, group]\n",
       "Index: []"
      ]
     },
     "execution_count": 16,
     "metadata": {},
     "output_type": "execute_result"
    }
   ],
   "source": [
    "K[(K.term_str=='and') & K.pos.isna()]"
   ]
  },
  {
   "cell_type": "markdown",
   "metadata": {
    "colab_type": "text",
    "id": "3WoDnI5rmg6h"
   },
   "source": [
    "## Create word mask\n",
    "\n",
    "Let's filter out stopwords -- another hyperparameter. "
   ]
  },
  {
   "cell_type": "code",
   "execution_count": 17,
   "metadata": {
    "colab": {},
    "colab_type": "code",
    "id": "OJQvJsdwTIra"
   },
   "outputs": [],
   "source": [
    "WORDS = (K.punc == 0) & (K.num == 0) & K.term_id.isin(V[V.stop==0].index)"
   ]
  },
  {
   "cell_type": "markdown",
   "metadata": {
    "colab_type": "text",
    "id": "F9-E_3-WmjzR"
   },
   "source": [
    "## Extrct BOW from tokens\n",
    "\n",
    "To extract a bag-of-words model from our tokens table, we apply a simple `groupby()` operation. Note that we can drop in our hyperparameters easily -- CHAPS and 'term_id' and be replaced. We can easily write a function to simplify this process and make it more configurable. \n"
   ]
  },
  {
   "cell_type": "code",
   "execution_count": 18,
   "metadata": {
    "colab": {},
    "colab_type": "code",
    "id": "4ax8ePBkk4qP"
   },
   "outputs": [
    {
     "data": {
      "text/plain": [
       "book_num  chap_num  term_id\n",
       "0         0         218        17\n",
       "                    598         7\n",
       "                    620         2\n",
       "                    840        13\n",
       "                    874        46\n",
       "Name: term_id, dtype: int64"
      ]
     },
     "execution_count": 18,
     "metadata": {},
     "output_type": "execute_result"
    }
   ],
   "source": [
    "BOW = K[WORDS].groupby(CHAPS+['term_id'])['term_id'].count()\n",
    "BOW.head()"
   ]
  },
  {
   "cell_type": "markdown",
   "metadata": {
    "colab_type": "text",
    "id": "tiOTaBLCmmKP"
   },
   "source": [
    "## Convert BOW to DTM"
   ]
  },
  {
   "cell_type": "code",
   "execution_count": 19,
   "metadata": {
    "colab": {},
    "colab_type": "code",
    "id": "I4tYnLT5lu0J"
   },
   "outputs": [],
   "source": [
    "DTM = BOW.unstack().fillna(0)"
   ]
  },
  {
   "cell_type": "code",
   "execution_count": 20,
   "metadata": {
    "colab": {
     "base_uri": "https://localhost:8080/",
     "height": 284
    },
    "colab_type": "code",
    "id": "_AkDmlw2lzNB",
    "outputId": "61e9ed47-8112-4e9c-a1c2-9d065882387a"
   },
   "outputs": [
    {
     "data": {
      "text/html": [
       "<div>\n",
       "<style scoped>\n",
       "    .dataframe tbody tr th:only-of-type {\n",
       "        vertical-align: middle;\n",
       "    }\n",
       "\n",
       "    .dataframe tbody tr th {\n",
       "        vertical-align: top;\n",
       "    }\n",
       "\n",
       "    .dataframe thead th {\n",
       "        text-align: right;\n",
       "    }\n",
       "</style>\n",
       "<table border=\"1\" class=\"dataframe\">\n",
       "  <thead>\n",
       "    <tr style=\"text-align: right;\">\n",
       "      <th></th>\n",
       "      <th>term_id</th>\n",
       "      <th>0</th>\n",
       "      <th>1</th>\n",
       "      <th>2</th>\n",
       "      <th>3</th>\n",
       "      <th>4</th>\n",
       "      <th>5</th>\n",
       "      <th>6</th>\n",
       "      <th>7</th>\n",
       "      <th>8</th>\n",
       "      <th>9</th>\n",
       "      <th>...</th>\n",
       "      <th>23701</th>\n",
       "      <th>23703</th>\n",
       "      <th>23704</th>\n",
       "      <th>23705</th>\n",
       "      <th>23706</th>\n",
       "      <th>23707</th>\n",
       "      <th>23712</th>\n",
       "      <th>23713</th>\n",
       "      <th>23714</th>\n",
       "      <th>23715</th>\n",
       "    </tr>\n",
       "    <tr>\n",
       "      <th>book_num</th>\n",
       "      <th>chap_num</th>\n",
       "      <th></th>\n",
       "      <th></th>\n",
       "      <th></th>\n",
       "      <th></th>\n",
       "      <th></th>\n",
       "      <th></th>\n",
       "      <th></th>\n",
       "      <th></th>\n",
       "      <th></th>\n",
       "      <th></th>\n",
       "      <th></th>\n",
       "      <th></th>\n",
       "      <th></th>\n",
       "      <th></th>\n",
       "      <th></th>\n",
       "      <th></th>\n",
       "      <th></th>\n",
       "      <th></th>\n",
       "      <th></th>\n",
       "      <th></th>\n",
       "      <th></th>\n",
       "    </tr>\n",
       "  </thead>\n",
       "  <tbody>\n",
       "    <tr>\n",
       "      <th rowspan=\"5\" valign=\"top\">0</th>\n",
       "      <th>0</th>\n",
       "      <td>0.0</td>\n",
       "      <td>0.0</td>\n",
       "      <td>0.0</td>\n",
       "      <td>0.0</td>\n",
       "      <td>0.0</td>\n",
       "      <td>0.0</td>\n",
       "      <td>0.0</td>\n",
       "      <td>0.0</td>\n",
       "      <td>0.0</td>\n",
       "      <td>0.0</td>\n",
       "      <td>...</td>\n",
       "      <td>0.0</td>\n",
       "      <td>0.0</td>\n",
       "      <td>0.0</td>\n",
       "      <td>0.0</td>\n",
       "      <td>0.0</td>\n",
       "      <td>0.0</td>\n",
       "      <td>0.0</td>\n",
       "      <td>0.0</td>\n",
       "      <td>0.0</td>\n",
       "      <td>0.0</td>\n",
       "    </tr>\n",
       "    <tr>\n",
       "      <th>1</th>\n",
       "      <td>0.0</td>\n",
       "      <td>0.0</td>\n",
       "      <td>0.0</td>\n",
       "      <td>0.0</td>\n",
       "      <td>0.0</td>\n",
       "      <td>0.0</td>\n",
       "      <td>0.0</td>\n",
       "      <td>0.0</td>\n",
       "      <td>0.0</td>\n",
       "      <td>0.0</td>\n",
       "      <td>...</td>\n",
       "      <td>0.0</td>\n",
       "      <td>0.0</td>\n",
       "      <td>0.0</td>\n",
       "      <td>0.0</td>\n",
       "      <td>0.0</td>\n",
       "      <td>0.0</td>\n",
       "      <td>0.0</td>\n",
       "      <td>0.0</td>\n",
       "      <td>0.0</td>\n",
       "      <td>0.0</td>\n",
       "    </tr>\n",
       "    <tr>\n",
       "      <th>2</th>\n",
       "      <td>0.0</td>\n",
       "      <td>0.0</td>\n",
       "      <td>0.0</td>\n",
       "      <td>0.0</td>\n",
       "      <td>0.0</td>\n",
       "      <td>0.0</td>\n",
       "      <td>0.0</td>\n",
       "      <td>0.0</td>\n",
       "      <td>0.0</td>\n",
       "      <td>0.0</td>\n",
       "      <td>...</td>\n",
       "      <td>0.0</td>\n",
       "      <td>0.0</td>\n",
       "      <td>0.0</td>\n",
       "      <td>0.0</td>\n",
       "      <td>0.0</td>\n",
       "      <td>0.0</td>\n",
       "      <td>0.0</td>\n",
       "      <td>0.0</td>\n",
       "      <td>0.0</td>\n",
       "      <td>0.0</td>\n",
       "    </tr>\n",
       "    <tr>\n",
       "      <th>3</th>\n",
       "      <td>0.0</td>\n",
       "      <td>0.0</td>\n",
       "      <td>0.0</td>\n",
       "      <td>0.0</td>\n",
       "      <td>0.0</td>\n",
       "      <td>0.0</td>\n",
       "      <td>0.0</td>\n",
       "      <td>0.0</td>\n",
       "      <td>0.0</td>\n",
       "      <td>0.0</td>\n",
       "      <td>...</td>\n",
       "      <td>0.0</td>\n",
       "      <td>0.0</td>\n",
       "      <td>0.0</td>\n",
       "      <td>0.0</td>\n",
       "      <td>0.0</td>\n",
       "      <td>0.0</td>\n",
       "      <td>0.0</td>\n",
       "      <td>0.0</td>\n",
       "      <td>0.0</td>\n",
       "      <td>0.0</td>\n",
       "    </tr>\n",
       "    <tr>\n",
       "      <th>4</th>\n",
       "      <td>0.0</td>\n",
       "      <td>0.0</td>\n",
       "      <td>0.0</td>\n",
       "      <td>0.0</td>\n",
       "      <td>0.0</td>\n",
       "      <td>0.0</td>\n",
       "      <td>0.0</td>\n",
       "      <td>0.0</td>\n",
       "      <td>0.0</td>\n",
       "      <td>0.0</td>\n",
       "      <td>...</td>\n",
       "      <td>0.0</td>\n",
       "      <td>0.0</td>\n",
       "      <td>0.0</td>\n",
       "      <td>0.0</td>\n",
       "      <td>0.0</td>\n",
       "      <td>0.0</td>\n",
       "      <td>0.0</td>\n",
       "      <td>0.0</td>\n",
       "      <td>0.0</td>\n",
       "      <td>0.0</td>\n",
       "    </tr>\n",
       "  </tbody>\n",
       "</table>\n",
       "<p>5 rows × 21797 columns</p>\n",
       "</div>"
      ],
      "text/plain": [
       "term_id            0      1      2      3      4      5      6      7      \\\n",
       "book_num chap_num                                                           \n",
       "0        0           0.0    0.0    0.0    0.0    0.0    0.0    0.0    0.0   \n",
       "         1           0.0    0.0    0.0    0.0    0.0    0.0    0.0    0.0   \n",
       "         2           0.0    0.0    0.0    0.0    0.0    0.0    0.0    0.0   \n",
       "         3           0.0    0.0    0.0    0.0    0.0    0.0    0.0    0.0   \n",
       "         4           0.0    0.0    0.0    0.0    0.0    0.0    0.0    0.0   \n",
       "\n",
       "term_id            8      9      ...    23701  23703  23704  23705  23706  \\\n",
       "book_num chap_num                ...                                        \n",
       "0        0           0.0    0.0  ...      0.0    0.0    0.0    0.0    0.0   \n",
       "         1           0.0    0.0  ...      0.0    0.0    0.0    0.0    0.0   \n",
       "         2           0.0    0.0  ...      0.0    0.0    0.0    0.0    0.0   \n",
       "         3           0.0    0.0  ...      0.0    0.0    0.0    0.0    0.0   \n",
       "         4           0.0    0.0  ...      0.0    0.0    0.0    0.0    0.0   \n",
       "\n",
       "term_id            23707  23712  23713  23714  23715  \n",
       "book_num chap_num                                     \n",
       "0        0           0.0    0.0    0.0    0.0    0.0  \n",
       "         1           0.0    0.0    0.0    0.0    0.0  \n",
       "         2           0.0    0.0    0.0    0.0    0.0  \n",
       "         3           0.0    0.0    0.0    0.0    0.0  \n",
       "         4           0.0    0.0    0.0    0.0    0.0  \n",
       "\n",
       "[5 rows x 21797 columns]"
      ]
     },
     "execution_count": 20,
     "metadata": {},
     "output_type": "execute_result"
    }
   ],
   "source": [
    "DTM.head()"
   ]
  },
  {
   "cell_type": "markdown",
   "metadata": {
    "colab_type": "text",
    "id": "TbYmZJUO_oKx"
   },
   "source": [
    "# Compute Term Frequencies and Weights"
   ]
  },
  {
   "cell_type": "markdown",
   "metadata": {
    "colab_type": "text",
    "id": "7IBFLaQODVPH"
   },
   "source": [
    "## Compute TF"
   ]
  },
  {
   "cell_type": "code",
   "execution_count": 21,
   "metadata": {
    "colab": {},
    "colab_type": "code",
    "id": "9yyJHH0lti0J"
   },
   "outputs": [],
   "source": [
    "alpha = .000001 # We introduce an arbitrary smoothing value\n",
    "alpha_sum = alpha * V.shape[0]\n",
    "TF = DTM.apply(lambda x: (x + alpha) / (x.sum() + alpha_sum), axis=1)"
   ]
  },
  {
   "cell_type": "code",
   "execution_count": 22,
   "metadata": {
    "colab": {
     "base_uri": "https://localhost:8080/",
     "height": 369
    },
    "colab_type": "code",
    "id": "fnqQmKPwvb7H",
    "outputId": "1d6f951c-e506-416e-e8d7-881e72d59037"
   },
   "outputs": [
    {
     "data": {
      "text/html": [
       "<div>\n",
       "<style scoped>\n",
       "    .dataframe tbody tr th:only-of-type {\n",
       "        vertical-align: middle;\n",
       "    }\n",
       "\n",
       "    .dataframe tbody tr th {\n",
       "        vertical-align: top;\n",
       "    }\n",
       "\n",
       "    .dataframe thead th {\n",
       "        text-align: right;\n",
       "    }\n",
       "</style>\n",
       "<table border=\"1\" class=\"dataframe\">\n",
       "  <thead>\n",
       "    <tr style=\"text-align: right;\">\n",
       "      <th></th>\n",
       "      <th>term_id</th>\n",
       "      <th>0</th>\n",
       "      <th>1</th>\n",
       "      <th>2</th>\n",
       "      <th>3</th>\n",
       "      <th>4</th>\n",
       "      <th>5</th>\n",
       "      <th>6</th>\n",
       "      <th>7</th>\n",
       "      <th>8</th>\n",
       "      <th>9</th>\n",
       "      <th>...</th>\n",
       "      <th>23701</th>\n",
       "      <th>23703</th>\n",
       "      <th>23704</th>\n",
       "      <th>23705</th>\n",
       "      <th>23706</th>\n",
       "      <th>23707</th>\n",
       "      <th>23712</th>\n",
       "      <th>23713</th>\n",
       "      <th>23714</th>\n",
       "      <th>23715</th>\n",
       "    </tr>\n",
       "    <tr>\n",
       "      <th>book_num</th>\n",
       "      <th>chap_num</th>\n",
       "      <th></th>\n",
       "      <th></th>\n",
       "      <th></th>\n",
       "      <th></th>\n",
       "      <th></th>\n",
       "      <th></th>\n",
       "      <th></th>\n",
       "      <th></th>\n",
       "      <th></th>\n",
       "      <th></th>\n",
       "      <th></th>\n",
       "      <th></th>\n",
       "      <th></th>\n",
       "      <th></th>\n",
       "      <th></th>\n",
       "      <th></th>\n",
       "      <th></th>\n",
       "      <th></th>\n",
       "      <th></th>\n",
       "      <th></th>\n",
       "      <th></th>\n",
       "    </tr>\n",
       "  </thead>\n",
       "  <tbody>\n",
       "    <tr>\n",
       "      <th rowspan=\"5\" valign=\"top\">0</th>\n",
       "      <th>0</th>\n",
       "      <td>5.162559e-10</td>\n",
       "      <td>5.162559e-10</td>\n",
       "      <td>5.162559e-10</td>\n",
       "      <td>5.162559e-10</td>\n",
       "      <td>5.162559e-10</td>\n",
       "      <td>5.162559e-10</td>\n",
       "      <td>5.162559e-10</td>\n",
       "      <td>5.162559e-10</td>\n",
       "      <td>5.162559e-10</td>\n",
       "      <td>5.162559e-10</td>\n",
       "      <td>...</td>\n",
       "      <td>5.162559e-10</td>\n",
       "      <td>5.162559e-10</td>\n",
       "      <td>5.162559e-10</td>\n",
       "      <td>5.162559e-10</td>\n",
       "      <td>5.162559e-10</td>\n",
       "      <td>5.162559e-10</td>\n",
       "      <td>5.162559e-10</td>\n",
       "      <td>5.162559e-10</td>\n",
       "      <td>5.162559e-10</td>\n",
       "      <td>5.162559e-10</td>\n",
       "    </tr>\n",
       "    <tr>\n",
       "      <th>1</th>\n",
       "      <td>6.920302e-10</td>\n",
       "      <td>6.920302e-10</td>\n",
       "      <td>6.920302e-10</td>\n",
       "      <td>6.920302e-10</td>\n",
       "      <td>6.920302e-10</td>\n",
       "      <td>6.920302e-10</td>\n",
       "      <td>6.920302e-10</td>\n",
       "      <td>6.920302e-10</td>\n",
       "      <td>6.920302e-10</td>\n",
       "      <td>6.920302e-10</td>\n",
       "      <td>...</td>\n",
       "      <td>6.920302e-10</td>\n",
       "      <td>6.920302e-10</td>\n",
       "      <td>6.920302e-10</td>\n",
       "      <td>6.920302e-10</td>\n",
       "      <td>6.920302e-10</td>\n",
       "      <td>6.920302e-10</td>\n",
       "      <td>6.920302e-10</td>\n",
       "      <td>6.920302e-10</td>\n",
       "      <td>6.920302e-10</td>\n",
       "      <td>6.920302e-10</td>\n",
       "    </tr>\n",
       "    <tr>\n",
       "      <th>2</th>\n",
       "      <td>6.060519e-10</td>\n",
       "      <td>6.060519e-10</td>\n",
       "      <td>6.060519e-10</td>\n",
       "      <td>6.060519e-10</td>\n",
       "      <td>6.060519e-10</td>\n",
       "      <td>6.060519e-10</td>\n",
       "      <td>6.060519e-10</td>\n",
       "      <td>6.060519e-10</td>\n",
       "      <td>6.060519e-10</td>\n",
       "      <td>6.060519e-10</td>\n",
       "      <td>...</td>\n",
       "      <td>6.060519e-10</td>\n",
       "      <td>6.060519e-10</td>\n",
       "      <td>6.060519e-10</td>\n",
       "      <td>6.060519e-10</td>\n",
       "      <td>6.060519e-10</td>\n",
       "      <td>6.060519e-10</td>\n",
       "      <td>6.060519e-10</td>\n",
       "      <td>6.060519e-10</td>\n",
       "      <td>6.060519e-10</td>\n",
       "      <td>6.060519e-10</td>\n",
       "    </tr>\n",
       "    <tr>\n",
       "      <th>3</th>\n",
       "      <td>6.369331e-10</td>\n",
       "      <td>6.369331e-10</td>\n",
       "      <td>6.369331e-10</td>\n",
       "      <td>6.369331e-10</td>\n",
       "      <td>6.369331e-10</td>\n",
       "      <td>6.369331e-10</td>\n",
       "      <td>6.369331e-10</td>\n",
       "      <td>6.369331e-10</td>\n",
       "      <td>6.369331e-10</td>\n",
       "      <td>6.369331e-10</td>\n",
       "      <td>...</td>\n",
       "      <td>6.369331e-10</td>\n",
       "      <td>6.369331e-10</td>\n",
       "      <td>6.369331e-10</td>\n",
       "      <td>6.369331e-10</td>\n",
       "      <td>6.369331e-10</td>\n",
       "      <td>6.369331e-10</td>\n",
       "      <td>6.369331e-10</td>\n",
       "      <td>6.369331e-10</td>\n",
       "      <td>6.369331e-10</td>\n",
       "      <td>6.369331e-10</td>\n",
       "    </tr>\n",
       "    <tr>\n",
       "      <th>4</th>\n",
       "      <td>3.431681e-10</td>\n",
       "      <td>3.431681e-10</td>\n",
       "      <td>3.431681e-10</td>\n",
       "      <td>3.431681e-10</td>\n",
       "      <td>3.431681e-10</td>\n",
       "      <td>3.431681e-10</td>\n",
       "      <td>3.431681e-10</td>\n",
       "      <td>3.431681e-10</td>\n",
       "      <td>3.431681e-10</td>\n",
       "      <td>3.431681e-10</td>\n",
       "      <td>...</td>\n",
       "      <td>3.431681e-10</td>\n",
       "      <td>3.431681e-10</td>\n",
       "      <td>3.431681e-10</td>\n",
       "      <td>3.431681e-10</td>\n",
       "      <td>3.431681e-10</td>\n",
       "      <td>3.431681e-10</td>\n",
       "      <td>3.431681e-10</td>\n",
       "      <td>3.431681e-10</td>\n",
       "      <td>3.431681e-10</td>\n",
       "      <td>3.431681e-10</td>\n",
       "    </tr>\n",
       "  </tbody>\n",
       "</table>\n",
       "<p>5 rows × 21797 columns</p>\n",
       "</div>"
      ],
      "text/plain": [
       "term_id                   0             1             2             3      \\\n",
       "book_num chap_num                                                           \n",
       "0        0         5.162559e-10  5.162559e-10  5.162559e-10  5.162559e-10   \n",
       "         1         6.920302e-10  6.920302e-10  6.920302e-10  6.920302e-10   \n",
       "         2         6.060519e-10  6.060519e-10  6.060519e-10  6.060519e-10   \n",
       "         3         6.369331e-10  6.369331e-10  6.369331e-10  6.369331e-10   \n",
       "         4         3.431681e-10  3.431681e-10  3.431681e-10  3.431681e-10   \n",
       "\n",
       "term_id                   4             5             6             7      \\\n",
       "book_num chap_num                                                           \n",
       "0        0         5.162559e-10  5.162559e-10  5.162559e-10  5.162559e-10   \n",
       "         1         6.920302e-10  6.920302e-10  6.920302e-10  6.920302e-10   \n",
       "         2         6.060519e-10  6.060519e-10  6.060519e-10  6.060519e-10   \n",
       "         3         6.369331e-10  6.369331e-10  6.369331e-10  6.369331e-10   \n",
       "         4         3.431681e-10  3.431681e-10  3.431681e-10  3.431681e-10   \n",
       "\n",
       "term_id                   8             9          ...              23701  \\\n",
       "book_num chap_num                                  ...                      \n",
       "0        0         5.162559e-10  5.162559e-10      ...       5.162559e-10   \n",
       "         1         6.920302e-10  6.920302e-10      ...       6.920302e-10   \n",
       "         2         6.060519e-10  6.060519e-10      ...       6.060519e-10   \n",
       "         3         6.369331e-10  6.369331e-10      ...       6.369331e-10   \n",
       "         4         3.431681e-10  3.431681e-10      ...       3.431681e-10   \n",
       "\n",
       "term_id                   23703         23704         23705         23706  \\\n",
       "book_num chap_num                                                           \n",
       "0        0         5.162559e-10  5.162559e-10  5.162559e-10  5.162559e-10   \n",
       "         1         6.920302e-10  6.920302e-10  6.920302e-10  6.920302e-10   \n",
       "         2         6.060519e-10  6.060519e-10  6.060519e-10  6.060519e-10   \n",
       "         3         6.369331e-10  6.369331e-10  6.369331e-10  6.369331e-10   \n",
       "         4         3.431681e-10  3.431681e-10  3.431681e-10  3.431681e-10   \n",
       "\n",
       "term_id                   23707         23712         23713         23714  \\\n",
       "book_num chap_num                                                           \n",
       "0        0         5.162559e-10  5.162559e-10  5.162559e-10  5.162559e-10   \n",
       "         1         6.920302e-10  6.920302e-10  6.920302e-10  6.920302e-10   \n",
       "         2         6.060519e-10  6.060519e-10  6.060519e-10  6.060519e-10   \n",
       "         3         6.369331e-10  6.369331e-10  6.369331e-10  6.369331e-10   \n",
       "         4         3.431681e-10  3.431681e-10  3.431681e-10  3.431681e-10   \n",
       "\n",
       "term_id                   23715  \n",
       "book_num chap_num                \n",
       "0        0         5.162559e-10  \n",
       "         1         6.920302e-10  \n",
       "         2         6.060519e-10  \n",
       "         3         6.369331e-10  \n",
       "         4         3.431681e-10  \n",
       "\n",
       "[5 rows x 21797 columns]"
      ]
     },
     "execution_count": 22,
     "metadata": {},
     "output_type": "execute_result"
    }
   ],
   "source": [
    "TF.head()"
   ]
  },
  {
   "cell_type": "markdown",
   "metadata": {
    "colab_type": "text",
    "id": "6pFEbf5NAbvl"
   },
   "source": [
    "## Compute TFIDF"
   ]
  },
  {
   "cell_type": "code",
   "execution_count": 23,
   "metadata": {
    "colab": {},
    "colab_type": "code",
    "id": "-3vd2eNs-fif"
   },
   "outputs": [],
   "source": [
    "N_docs = DTM.shape[0]\n",
    "V['df'] = DTM[DTM > 0].count()\n",
    "TFIDF = TF * np.log2(N_docs / V[V.stop==0]['df'])"
   ]
  },
  {
   "cell_type": "code",
   "execution_count": 24,
   "metadata": {
    "colab": {
     "base_uri": "https://localhost:8080/",
     "height": 369
    },
    "colab_type": "code",
    "id": "LEXGYwXbdS6w",
    "outputId": "2b643055-e11b-4388-d376-178ad3b1c6fd"
   },
   "outputs": [
    {
     "data": {
      "text/html": [
       "<div>\n",
       "<style scoped>\n",
       "    .dataframe tbody tr th:only-of-type {\n",
       "        vertical-align: middle;\n",
       "    }\n",
       "\n",
       "    .dataframe tbody tr th {\n",
       "        vertical-align: top;\n",
       "    }\n",
       "\n",
       "    .dataframe thead th {\n",
       "        text-align: right;\n",
       "    }\n",
       "</style>\n",
       "<table border=\"1\" class=\"dataframe\">\n",
       "  <thead>\n",
       "    <tr style=\"text-align: right;\">\n",
       "      <th></th>\n",
       "      <th></th>\n",
       "      <th>0</th>\n",
       "      <th>1</th>\n",
       "      <th>2</th>\n",
       "      <th>3</th>\n",
       "      <th>4</th>\n",
       "      <th>5</th>\n",
       "      <th>6</th>\n",
       "      <th>7</th>\n",
       "      <th>8</th>\n",
       "      <th>9</th>\n",
       "      <th>...</th>\n",
       "      <th>23706</th>\n",
       "      <th>23707</th>\n",
       "      <th>23708</th>\n",
       "      <th>23709</th>\n",
       "      <th>23710</th>\n",
       "      <th>23711</th>\n",
       "      <th>23712</th>\n",
       "      <th>23713</th>\n",
       "      <th>23714</th>\n",
       "      <th>23715</th>\n",
       "    </tr>\n",
       "    <tr>\n",
       "      <th>book_num</th>\n",
       "      <th>chap_num</th>\n",
       "      <th></th>\n",
       "      <th></th>\n",
       "      <th></th>\n",
       "      <th></th>\n",
       "      <th></th>\n",
       "      <th></th>\n",
       "      <th></th>\n",
       "      <th></th>\n",
       "      <th></th>\n",
       "      <th></th>\n",
       "      <th></th>\n",
       "      <th></th>\n",
       "      <th></th>\n",
       "      <th></th>\n",
       "      <th></th>\n",
       "      <th></th>\n",
       "      <th></th>\n",
       "      <th></th>\n",
       "      <th></th>\n",
       "      <th></th>\n",
       "      <th></th>\n",
       "    </tr>\n",
       "  </thead>\n",
       "  <tbody>\n",
       "    <tr>\n",
       "      <th rowspan=\"5\" valign=\"top\">0</th>\n",
       "      <th>0</th>\n",
       "      <td>3.942453e-09</td>\n",
       "      <td>3.942453e-09</td>\n",
       "      <td>3.942453e-09</td>\n",
       "      <td>1.409241e-09</td>\n",
       "      <td>3.942453e-09</td>\n",
       "      <td>3.942453e-09</td>\n",
       "      <td>3.942453e-09</td>\n",
       "      <td>3.942453e-09</td>\n",
       "      <td>3.942453e-09</td>\n",
       "      <td>3.942453e-09</td>\n",
       "      <td>...</td>\n",
       "      <td>3.942453e-09</td>\n",
       "      <td>3.942453e-09</td>\n",
       "      <td>NaN</td>\n",
       "      <td>NaN</td>\n",
       "      <td>NaN</td>\n",
       "      <td>NaN</td>\n",
       "      <td>3.942453e-09</td>\n",
       "      <td>3.942453e-09</td>\n",
       "      <td>3.942453e-09</td>\n",
       "      <td>3.942453e-09</td>\n",
       "    </tr>\n",
       "    <tr>\n",
       "      <th>1</th>\n",
       "      <td>5.284775e-09</td>\n",
       "      <td>5.284775e-09</td>\n",
       "      <td>5.284775e-09</td>\n",
       "      <td>1.889058e-09</td>\n",
       "      <td>5.284775e-09</td>\n",
       "      <td>5.284775e-09</td>\n",
       "      <td>5.284775e-09</td>\n",
       "      <td>5.284775e-09</td>\n",
       "      <td>5.284775e-09</td>\n",
       "      <td>5.284775e-09</td>\n",
       "      <td>...</td>\n",
       "      <td>5.284775e-09</td>\n",
       "      <td>5.284775e-09</td>\n",
       "      <td>NaN</td>\n",
       "      <td>NaN</td>\n",
       "      <td>NaN</td>\n",
       "      <td>NaN</td>\n",
       "      <td>5.284775e-09</td>\n",
       "      <td>5.284775e-09</td>\n",
       "      <td>5.284775e-09</td>\n",
       "      <td>5.284775e-09</td>\n",
       "    </tr>\n",
       "    <tr>\n",
       "      <th>2</th>\n",
       "      <td>4.628191e-09</td>\n",
       "      <td>4.628191e-09</td>\n",
       "      <td>4.628191e-09</td>\n",
       "      <td>1.654360e-09</td>\n",
       "      <td>4.628191e-09</td>\n",
       "      <td>4.628191e-09</td>\n",
       "      <td>4.628191e-09</td>\n",
       "      <td>4.628191e-09</td>\n",
       "      <td>4.628191e-09</td>\n",
       "      <td>4.628191e-09</td>\n",
       "      <td>...</td>\n",
       "      <td>4.628191e-09</td>\n",
       "      <td>4.628191e-09</td>\n",
       "      <td>NaN</td>\n",
       "      <td>NaN</td>\n",
       "      <td>NaN</td>\n",
       "      <td>NaN</td>\n",
       "      <td>4.628191e-09</td>\n",
       "      <td>4.628191e-09</td>\n",
       "      <td>4.628191e-09</td>\n",
       "      <td>4.628191e-09</td>\n",
       "    </tr>\n",
       "    <tr>\n",
       "      <th>3</th>\n",
       "      <td>4.864019e-09</td>\n",
       "      <td>4.864019e-09</td>\n",
       "      <td>4.864019e-09</td>\n",
       "      <td>1.738658e-09</td>\n",
       "      <td>4.864019e-09</td>\n",
       "      <td>4.864019e-09</td>\n",
       "      <td>4.864019e-09</td>\n",
       "      <td>4.864019e-09</td>\n",
       "      <td>4.864019e-09</td>\n",
       "      <td>4.864019e-09</td>\n",
       "      <td>...</td>\n",
       "      <td>4.864019e-09</td>\n",
       "      <td>4.864019e-09</td>\n",
       "      <td>NaN</td>\n",
       "      <td>NaN</td>\n",
       "      <td>NaN</td>\n",
       "      <td>NaN</td>\n",
       "      <td>4.864019e-09</td>\n",
       "      <td>4.864019e-09</td>\n",
       "      <td>4.864019e-09</td>\n",
       "      <td>4.864019e-09</td>\n",
       "    </tr>\n",
       "    <tr>\n",
       "      <th>4</th>\n",
       "      <td>2.620646e-09</td>\n",
       "      <td>2.620646e-09</td>\n",
       "      <td>2.620646e-09</td>\n",
       "      <td>9.367577e-10</td>\n",
       "      <td>2.620646e-09</td>\n",
       "      <td>2.620646e-09</td>\n",
       "      <td>2.620646e-09</td>\n",
       "      <td>2.620646e-09</td>\n",
       "      <td>2.620646e-09</td>\n",
       "      <td>2.620646e-09</td>\n",
       "      <td>...</td>\n",
       "      <td>2.620646e-09</td>\n",
       "      <td>2.620646e-09</td>\n",
       "      <td>NaN</td>\n",
       "      <td>NaN</td>\n",
       "      <td>NaN</td>\n",
       "      <td>NaN</td>\n",
       "      <td>2.620646e-09</td>\n",
       "      <td>2.620646e-09</td>\n",
       "      <td>2.620646e-09</td>\n",
       "      <td>2.620646e-09</td>\n",
       "    </tr>\n",
       "  </tbody>\n",
       "</table>\n",
       "<p>5 rows × 23510 columns</p>\n",
       "</div>"
      ],
      "text/plain": [
       "                          0             1             2             3      \\\n",
       "book_num chap_num                                                           \n",
       "0        0         3.942453e-09  3.942453e-09  3.942453e-09  1.409241e-09   \n",
       "         1         5.284775e-09  5.284775e-09  5.284775e-09  1.889058e-09   \n",
       "         2         4.628191e-09  4.628191e-09  4.628191e-09  1.654360e-09   \n",
       "         3         4.864019e-09  4.864019e-09  4.864019e-09  1.738658e-09   \n",
       "         4         2.620646e-09  2.620646e-09  2.620646e-09  9.367577e-10   \n",
       "\n",
       "                          4             5             6             7      \\\n",
       "book_num chap_num                                                           \n",
       "0        0         3.942453e-09  3.942453e-09  3.942453e-09  3.942453e-09   \n",
       "         1         5.284775e-09  5.284775e-09  5.284775e-09  5.284775e-09   \n",
       "         2         4.628191e-09  4.628191e-09  4.628191e-09  4.628191e-09   \n",
       "         3         4.864019e-09  4.864019e-09  4.864019e-09  4.864019e-09   \n",
       "         4         2.620646e-09  2.620646e-09  2.620646e-09  2.620646e-09   \n",
       "\n",
       "                          8             9          ...              23706  \\\n",
       "book_num chap_num                                  ...                      \n",
       "0        0         3.942453e-09  3.942453e-09      ...       3.942453e-09   \n",
       "         1         5.284775e-09  5.284775e-09      ...       5.284775e-09   \n",
       "         2         4.628191e-09  4.628191e-09      ...       4.628191e-09   \n",
       "         3         4.864019e-09  4.864019e-09      ...       4.864019e-09   \n",
       "         4         2.620646e-09  2.620646e-09      ...       2.620646e-09   \n",
       "\n",
       "                          23707  23708  23709  23710  23711         23712  \\\n",
       "book_num chap_num                                                           \n",
       "0        0         3.942453e-09    NaN    NaN    NaN    NaN  3.942453e-09   \n",
       "         1         5.284775e-09    NaN    NaN    NaN    NaN  5.284775e-09   \n",
       "         2         4.628191e-09    NaN    NaN    NaN    NaN  4.628191e-09   \n",
       "         3         4.864019e-09    NaN    NaN    NaN    NaN  4.864019e-09   \n",
       "         4         2.620646e-09    NaN    NaN    NaN    NaN  2.620646e-09   \n",
       "\n",
       "                          23713         23714         23715  \n",
       "book_num chap_num                                            \n",
       "0        0         3.942453e-09  3.942453e-09  3.942453e-09  \n",
       "         1         5.284775e-09  5.284775e-09  5.284775e-09  \n",
       "         2         4.628191e-09  4.628191e-09  4.628191e-09  \n",
       "         3         4.864019e-09  4.864019e-09  4.864019e-09  \n",
       "         4         2.620646e-09  2.620646e-09  2.620646e-09  \n",
       "\n",
       "[5 rows x 23510 columns]"
      ]
     },
     "execution_count": 24,
     "metadata": {},
     "output_type": "execute_result"
    }
   ],
   "source": [
    "TFIDF.head()"
   ]
  },
  {
   "cell_type": "markdown",
   "metadata": {
    "colab_type": "text",
    "id": "0vSpc6kYlY5i"
   },
   "source": [
    "## Compute TFTH (Experiment)"
   ]
  },
  {
   "cell_type": "code",
   "execution_count": 25,
   "metadata": {
    "colab": {},
    "colab_type": "code",
    "id": "05w1iMpbDiJe"
   },
   "outputs": [],
   "source": [
    "THM = -(TF * np.log2(TF))\n",
    "TFTH = TF.apply(lambda x: x * THM.sum(), 1)"
   ]
  },
  {
   "cell_type": "code",
   "execution_count": 26,
   "metadata": {
    "colab": {
     "base_uri": "https://localhost:8080/",
     "height": 369
    },
    "colab_type": "code",
    "id": "zSK4oXMaEgd-",
    "outputId": "2b592f4a-467e-441d-e5d1-73ed01501b44"
   },
   "outputs": [
    {
     "data": {
      "text/html": [
       "<div>\n",
       "<style scoped>\n",
       "    .dataframe tbody tr th:only-of-type {\n",
       "        vertical-align: middle;\n",
       "    }\n",
       "\n",
       "    .dataframe tbody tr th {\n",
       "        vertical-align: top;\n",
       "    }\n",
       "\n",
       "    .dataframe thead th {\n",
       "        text-align: right;\n",
       "    }\n",
       "</style>\n",
       "<table border=\"1\" class=\"dataframe\">\n",
       "  <thead>\n",
       "    <tr style=\"text-align: right;\">\n",
       "      <th></th>\n",
       "      <th>term_id</th>\n",
       "      <th>0</th>\n",
       "      <th>1</th>\n",
       "      <th>2</th>\n",
       "      <th>3</th>\n",
       "      <th>4</th>\n",
       "      <th>5</th>\n",
       "      <th>6</th>\n",
       "      <th>7</th>\n",
       "      <th>8</th>\n",
       "      <th>9</th>\n",
       "      <th>...</th>\n",
       "      <th>23701</th>\n",
       "      <th>23703</th>\n",
       "      <th>23704</th>\n",
       "      <th>23705</th>\n",
       "      <th>23706</th>\n",
       "      <th>23707</th>\n",
       "      <th>23712</th>\n",
       "      <th>23713</th>\n",
       "      <th>23714</th>\n",
       "      <th>23715</th>\n",
       "    </tr>\n",
       "    <tr>\n",
       "      <th>book_num</th>\n",
       "      <th>chap_num</th>\n",
       "      <th></th>\n",
       "      <th></th>\n",
       "      <th></th>\n",
       "      <th></th>\n",
       "      <th></th>\n",
       "      <th></th>\n",
       "      <th></th>\n",
       "      <th></th>\n",
       "      <th></th>\n",
       "      <th></th>\n",
       "      <th></th>\n",
       "      <th></th>\n",
       "      <th></th>\n",
       "      <th></th>\n",
       "      <th></th>\n",
       "      <th></th>\n",
       "      <th></th>\n",
       "      <th></th>\n",
       "      <th></th>\n",
       "      <th></th>\n",
       "      <th></th>\n",
       "    </tr>\n",
       "  </thead>\n",
       "  <tbody>\n",
       "    <tr>\n",
       "      <th rowspan=\"5\" valign=\"top\">0</th>\n",
       "      <th>0</th>\n",
       "      <td>1.875428e-12</td>\n",
       "      <td>2.382375e-12</td>\n",
       "      <td>3.225946e-12</td>\n",
       "      <td>1.046747e-10</td>\n",
       "      <td>3.248827e-12</td>\n",
       "      <td>2.823522e-12</td>\n",
       "      <td>1.759269e-12</td>\n",
       "      <td>1.855698e-12</td>\n",
       "      <td>1.728149e-12</td>\n",
       "      <td>2.280083e-12</td>\n",
       "      <td>...</td>\n",
       "      <td>3.201809e-12</td>\n",
       "      <td>2.639410e-12</td>\n",
       "      <td>3.006284e-12</td>\n",
       "      <td>3.653784e-12</td>\n",
       "      <td>3.050225e-12</td>\n",
       "      <td>2.364653e-12</td>\n",
       "      <td>2.737276e-12</td>\n",
       "      <td>2.412548e-12</td>\n",
       "      <td>3.006284e-12</td>\n",
       "      <td>1.920013e-12</td>\n",
       "    </tr>\n",
       "    <tr>\n",
       "      <th>1</th>\n",
       "      <td>2.513971e-12</td>\n",
       "      <td>3.193523e-12</td>\n",
       "      <td>4.324313e-12</td>\n",
       "      <td>1.403142e-10</td>\n",
       "      <td>4.354984e-12</td>\n",
       "      <td>3.784872e-12</td>\n",
       "      <td>2.358262e-12</td>\n",
       "      <td>2.487524e-12</td>\n",
       "      <td>2.316548e-12</td>\n",
       "      <td>3.056403e-12</td>\n",
       "      <td>...</td>\n",
       "      <td>4.291958e-12</td>\n",
       "      <td>3.538073e-12</td>\n",
       "      <td>4.029860e-12</td>\n",
       "      <td>4.897820e-12</td>\n",
       "      <td>4.088762e-12</td>\n",
       "      <td>3.169767e-12</td>\n",
       "      <td>3.669261e-12</td>\n",
       "      <td>3.233970e-12</td>\n",
       "      <td>4.029860e-12</td>\n",
       "      <td>2.573737e-12</td>\n",
       "    </tr>\n",
       "    <tr>\n",
       "      <th>2</th>\n",
       "      <td>2.201634e-12</td>\n",
       "      <td>2.796758e-12</td>\n",
       "      <td>3.787057e-12</td>\n",
       "      <td>1.228815e-10</td>\n",
       "      <td>3.813918e-12</td>\n",
       "      <td>3.314637e-12</td>\n",
       "      <td>2.065270e-12</td>\n",
       "      <td>2.178472e-12</td>\n",
       "      <td>2.028738e-12</td>\n",
       "      <td>2.676674e-12</td>\n",
       "      <td>...</td>\n",
       "      <td>3.758722e-12</td>\n",
       "      <td>3.098501e-12</td>\n",
       "      <td>3.529188e-12</td>\n",
       "      <td>4.289312e-12</td>\n",
       "      <td>3.580771e-12</td>\n",
       "      <td>2.775953e-12</td>\n",
       "      <td>3.213389e-12</td>\n",
       "      <td>2.832179e-12</td>\n",
       "      <td>3.529188e-12</td>\n",
       "      <td>2.253974e-12</td>\n",
       "    </tr>\n",
       "    <tr>\n",
       "      <th>3</th>\n",
       "      <td>2.313818e-12</td>\n",
       "      <td>2.939265e-12</td>\n",
       "      <td>3.980026e-12</td>\n",
       "      <td>1.291429e-10</td>\n",
       "      <td>4.008255e-12</td>\n",
       "      <td>3.483533e-12</td>\n",
       "      <td>2.170505e-12</td>\n",
       "      <td>2.289475e-12</td>\n",
       "      <td>2.132112e-12</td>\n",
       "      <td>2.813063e-12</td>\n",
       "      <td>...</td>\n",
       "      <td>3.950246e-12</td>\n",
       "      <td>3.256384e-12</td>\n",
       "      <td>3.709016e-12</td>\n",
       "      <td>4.507872e-12</td>\n",
       "      <td>3.763228e-12</td>\n",
       "      <td>2.917401e-12</td>\n",
       "      <td>3.377126e-12</td>\n",
       "      <td>2.976492e-12</td>\n",
       "      <td>3.709016e-12</td>\n",
       "      <td>2.368825e-12</td>\n",
       "    </tr>\n",
       "    <tr>\n",
       "      <th>4</th>\n",
       "      <td>1.246643e-12</td>\n",
       "      <td>1.583623e-12</td>\n",
       "      <td>2.144366e-12</td>\n",
       "      <td>6.957986e-11</td>\n",
       "      <td>2.159576e-12</td>\n",
       "      <td>1.876865e-12</td>\n",
       "      <td>1.169429e-12</td>\n",
       "      <td>1.233528e-12</td>\n",
       "      <td>1.148744e-12</td>\n",
       "      <td>1.515628e-12</td>\n",
       "      <td>...</td>\n",
       "      <td>2.128322e-12</td>\n",
       "      <td>1.754481e-12</td>\n",
       "      <td>1.998352e-12</td>\n",
       "      <td>2.428761e-12</td>\n",
       "      <td>2.027560e-12</td>\n",
       "      <td>1.571843e-12</td>\n",
       "      <td>1.819535e-12</td>\n",
       "      <td>1.603680e-12</td>\n",
       "      <td>1.998352e-12</td>\n",
       "      <td>1.276280e-12</td>\n",
       "    </tr>\n",
       "  </tbody>\n",
       "</table>\n",
       "<p>5 rows × 21797 columns</p>\n",
       "</div>"
      ],
      "text/plain": [
       "term_id                   0             1             2             3      \\\n",
       "book_num chap_num                                                           \n",
       "0        0         1.875428e-12  2.382375e-12  3.225946e-12  1.046747e-10   \n",
       "         1         2.513971e-12  3.193523e-12  4.324313e-12  1.403142e-10   \n",
       "         2         2.201634e-12  2.796758e-12  3.787057e-12  1.228815e-10   \n",
       "         3         2.313818e-12  2.939265e-12  3.980026e-12  1.291429e-10   \n",
       "         4         1.246643e-12  1.583623e-12  2.144366e-12  6.957986e-11   \n",
       "\n",
       "term_id                   4             5             6             7      \\\n",
       "book_num chap_num                                                           \n",
       "0        0         3.248827e-12  2.823522e-12  1.759269e-12  1.855698e-12   \n",
       "         1         4.354984e-12  3.784872e-12  2.358262e-12  2.487524e-12   \n",
       "         2         3.813918e-12  3.314637e-12  2.065270e-12  2.178472e-12   \n",
       "         3         4.008255e-12  3.483533e-12  2.170505e-12  2.289475e-12   \n",
       "         4         2.159576e-12  1.876865e-12  1.169429e-12  1.233528e-12   \n",
       "\n",
       "term_id                   8             9          ...              23701  \\\n",
       "book_num chap_num                                  ...                      \n",
       "0        0         1.728149e-12  2.280083e-12      ...       3.201809e-12   \n",
       "         1         2.316548e-12  3.056403e-12      ...       4.291958e-12   \n",
       "         2         2.028738e-12  2.676674e-12      ...       3.758722e-12   \n",
       "         3         2.132112e-12  2.813063e-12      ...       3.950246e-12   \n",
       "         4         1.148744e-12  1.515628e-12      ...       2.128322e-12   \n",
       "\n",
       "term_id                   23703         23704         23705         23706  \\\n",
       "book_num chap_num                                                           \n",
       "0        0         2.639410e-12  3.006284e-12  3.653784e-12  3.050225e-12   \n",
       "         1         3.538073e-12  4.029860e-12  4.897820e-12  4.088762e-12   \n",
       "         2         3.098501e-12  3.529188e-12  4.289312e-12  3.580771e-12   \n",
       "         3         3.256384e-12  3.709016e-12  4.507872e-12  3.763228e-12   \n",
       "         4         1.754481e-12  1.998352e-12  2.428761e-12  2.027560e-12   \n",
       "\n",
       "term_id                   23707         23712         23713         23714  \\\n",
       "book_num chap_num                                                           \n",
       "0        0         2.364653e-12  2.737276e-12  2.412548e-12  3.006284e-12   \n",
       "         1         3.169767e-12  3.669261e-12  3.233970e-12  4.029860e-12   \n",
       "         2         2.775953e-12  3.213389e-12  2.832179e-12  3.529188e-12   \n",
       "         3         2.917401e-12  3.377126e-12  2.976492e-12  3.709016e-12   \n",
       "         4         1.571843e-12  1.819535e-12  1.603680e-12  1.998352e-12   \n",
       "\n",
       "term_id                   23715  \n",
       "book_num chap_num                \n",
       "0        0         1.920013e-12  \n",
       "         1         2.573737e-12  \n",
       "         2         2.253974e-12  \n",
       "         3         2.368825e-12  \n",
       "         4         1.276280e-12  \n",
       "\n",
       "[5 rows x 21797 columns]"
      ]
     },
     "execution_count": 26,
     "metadata": {},
     "output_type": "execute_result"
    }
   ],
   "source": [
    "TFTH.head()"
   ]
  },
  {
   "cell_type": "markdown",
   "metadata": {
    "colab_type": "text",
    "id": "Iw1Rbl7FNMwX"
   },
   "source": [
    "## Add stats to V"
   ]
  },
  {
   "cell_type": "code",
   "execution_count": 27,
   "metadata": {
    "colab": {},
    "colab_type": "code",
    "id": "a6EXs82eK4Oj"
   },
   "outputs": [],
   "source": [
    "V['tf_sum'] = TF.sum()\n",
    "V['tf_mean'] = TF.mean()\n",
    "V['tf_max'] = TF.max()\n",
    "V['tfidf_sum'] = TFIDF.sum()\n",
    "V['tfidf_mean'] = TFIDF.mean()\n",
    "V['tfidf_max'] = TFIDF.max()\n",
    "V['tfth_sum'] = TFTH.sum()\n",
    "V['tfth_mean'] = TFTH.mean()\n",
    "V['tfth_max'] = TFTH.max()\n",
    "V['th_sum'] = THM.sum()\n",
    "V['th_mean'] = THM.mean()\n",
    "V['th_max'] = THM.max()"
   ]
  },
  {
   "cell_type": "markdown",
   "metadata": {
    "colab_type": "text",
    "id": "8NB-tZd8gsia"
   },
   "source": [
    "## Discussion\n",
    "\n",
    "* Why do we add summary statistics to the vocabulary table?"
   ]
  },
  {
   "cell_type": "markdown",
   "metadata": {
    "colab_type": "text",
    "id": "ZKfD07vevo9G"
   },
   "source": [
    "# Find Significant Words"
   ]
  },
  {
   "cell_type": "code",
   "execution_count": 28,
   "metadata": {
    "colab": {},
    "colab_type": "code",
    "id": "J--7hdWqMt9n"
   },
   "outputs": [],
   "source": [
    "TOPS = pd.DataFrame(index=range(10))\n",
    "for m in ['tf','tfidf','tfth', 'th']:\n",
    "    for n in ['mean','max']:\n",
    "        key = '{}_{}'.format(m,n)\n",
    "        TOPS[key] = V.sort_values(key, ascending=False).term_str.head(10).tolist()"
   ]
  },
  {
   "cell_type": "code",
   "execution_count": 29,
   "metadata": {
    "colab": {
     "base_uri": "https://localhost:8080/",
     "height": 359
    },
    "colab_type": "code",
    "id": "rJNWyxCcwkbe",
    "outputId": "1e371553-1021-4dca-f84a-4caac8c85973"
   },
   "outputs": [
    {
     "data": {
      "text/html": [
       "<div>\n",
       "<style scoped>\n",
       "    .dataframe tbody tr th:only-of-type {\n",
       "        vertical-align: middle;\n",
       "    }\n",
       "\n",
       "    .dataframe tbody tr th {\n",
       "        vertical-align: top;\n",
       "    }\n",
       "\n",
       "    .dataframe thead th {\n",
       "        text-align: right;\n",
       "    }\n",
       "</style>\n",
       "<table border=\"1\" class=\"dataframe\">\n",
       "  <thead>\n",
       "    <tr style=\"text-align: right;\">\n",
       "      <th></th>\n",
       "      <th>tf_mean</th>\n",
       "      <th>tf_max</th>\n",
       "      <th>tfidf_mean</th>\n",
       "      <th>tfidf_max</th>\n",
       "      <th>tfth_mean</th>\n",
       "      <th>tfth_max</th>\n",
       "      <th>th_mean</th>\n",
       "      <th>th_max</th>\n",
       "    </tr>\n",
       "  </thead>\n",
       "  <tbody>\n",
       "    <tr>\n",
       "      <th>0</th>\n",
       "      <td>'s</td>\n",
       "      <td>'s</td>\n",
       "      <td>'s</td>\n",
       "      <td>sidecar</td>\n",
       "      <td>'s</td>\n",
       "      <td>'s</td>\n",
       "      <td>'s</td>\n",
       "      <td>'s</td>\n",
       "    </tr>\n",
       "    <tr>\n",
       "      <th>1</th>\n",
       "      <td>n't</td>\n",
       "      <td>n't</td>\n",
       "      <td>n't</td>\n",
       "      <td>expecto</td>\n",
       "      <td>n't</td>\n",
       "      <td>n't</td>\n",
       "      <td>n't</td>\n",
       "      <td>n't</td>\n",
       "    </tr>\n",
       "    <tr>\n",
       "      <th>2</th>\n",
       "      <td>back</td>\n",
       "      <td>wand</td>\n",
       "      <td>'i</td>\n",
       "      <td>troll</td>\n",
       "      <td>back</td>\n",
       "      <td>wand</td>\n",
       "      <td>back</td>\n",
       "      <td>wand</td>\n",
       "    </tr>\n",
       "    <tr>\n",
       "      <th>3</th>\n",
       "      <td>looked</td>\n",
       "      <td>yeh</td>\n",
       "      <td>'you</td>\n",
       "      <td>diadem</td>\n",
       "      <td>looked</td>\n",
       "      <td>back</td>\n",
       "      <td>looked</td>\n",
       "      <td>yeh</td>\n",
       "    </tr>\n",
       "    <tr>\n",
       "      <th>4</th>\n",
       "      <td>know</td>\n",
       "      <td>ter</td>\n",
       "      <td>yeh</td>\n",
       "      <td>ter</td>\n",
       "      <td>know</td>\n",
       "      <td>looked</td>\n",
       "      <td>know</td>\n",
       "      <td>ter</td>\n",
       "    </tr>\n",
       "    <tr>\n",
       "      <th>5</th>\n",
       "      <td>around</td>\n",
       "      <td>sir</td>\n",
       "      <td>ter</td>\n",
       "      <td>xenophilius</td>\n",
       "      <td>around</td>\n",
       "      <td>voice</td>\n",
       "      <td>around</td>\n",
       "      <td>sir</td>\n",
       "    </tr>\n",
       "    <tr>\n",
       "      <th>6</th>\n",
       "      <td>got</td>\n",
       "      <td>voice</td>\n",
       "      <td>'what</td>\n",
       "      <td>boggart</td>\n",
       "      <td>got</td>\n",
       "      <td>know</td>\n",
       "      <td>got</td>\n",
       "      <td>voice</td>\n",
       "    </tr>\n",
       "    <tr>\n",
       "      <th>7</th>\n",
       "      <td>see</td>\n",
       "      <td>car</td>\n",
       "      <td>'ve</td>\n",
       "      <td>yeh</td>\n",
       "      <td>see</td>\n",
       "      <td>eyes</td>\n",
       "      <td>see</td>\n",
       "      <td>car</td>\n",
       "    </tr>\n",
       "    <tr>\n",
       "      <th>8</th>\n",
       "      <td>think</td>\n",
       "      <td>father</td>\n",
       "      <td>sir</td>\n",
       "      <td>patronum</td>\n",
       "      <td>looking</td>\n",
       "      <td>around</td>\n",
       "      <td>looking</td>\n",
       "      <td>father</td>\n",
       "    </tr>\n",
       "    <tr>\n",
       "      <th>9</th>\n",
       "      <td>looking</td>\n",
       "      <td>water</td>\n",
       "      <td>'well</td>\n",
       "      <td>car</td>\n",
       "      <td>think</td>\n",
       "      <td>got</td>\n",
       "      <td>think</td>\n",
       "      <td>water</td>\n",
       "    </tr>\n",
       "  </tbody>\n",
       "</table>\n",
       "</div>"
      ],
      "text/plain": [
       "   tf_mean  tf_max tfidf_mean    tfidf_max tfth_mean tfth_max  th_mean  th_max\n",
       "0       's      's         's      sidecar        's       's       's      's\n",
       "1      n't     n't        n't      expecto       n't      n't      n't     n't\n",
       "2     back    wand         'i        troll      back     wand     back    wand\n",
       "3   looked     yeh       'you       diadem    looked     back   looked     yeh\n",
       "4     know     ter        yeh          ter      know   looked     know     ter\n",
       "5   around     sir        ter  xenophilius    around    voice   around     sir\n",
       "6      got   voice      'what      boggart       got     know      got   voice\n",
       "7      see     car        've          yeh       see     eyes      see     car\n",
       "8    think  father        sir     patronum   looking   around  looking  father\n",
       "9  looking   water      'well          car     think      got    think   water"
      ]
     },
     "execution_count": 29,
     "metadata": {},
     "output_type": "execute_result"
    }
   ],
   "source": [
    "TOPS"
   ]
  },
  {
   "cell_type": "markdown",
   "metadata": {
    "colab_type": "text",
    "id": "28gpEL1pXqKG"
   },
   "source": [
    "# Compare Chapters"
   ]
  },
  {
   "cell_type": "markdown",
   "metadata": {
    "colab_type": "text",
    "id": "foZvi_brzyNR"
   },
   "source": [
    "## Create Docs table"
   ]
  },
  {
   "cell_type": "code",
   "execution_count": 31,
   "metadata": {},
   "outputs": [],
   "source": [
    "def get_docs(tokens, div_names, doc_str = 'term_id', sep='', flatten=False, \n",
    "             index_only=False):\n",
    "    \n",
    "    if not index_only:\n",
    "        docs = tokens.groupby(div_names)[doc_str]\\\n",
    "          .apply(lambda x: x.str.cat(sep=sep))\n",
    "        docs.columns = ['doc_content']\n",
    "    else:\n",
    "        docs = tokens.groupby(div_names)[doc_str].apply(lambda x: x.tolist())\n",
    "\n",
    "    if flatten:\n",
    "        docs = docs.reset_index().drop(div_names, 1)\n",
    "    \n",
    "    return docs"
   ]
  },
  {
   "cell_type": "code",
   "execution_count": 32,
   "metadata": {
    "colab": {},
    "colab_type": "code",
    "id": "1TgoLS_xIu_a"
   },
   "outputs": [],
   "source": [
    "D = get_docs(K, CHAPS, 'term_str', sep=\" \")\\\n",
    "    .to_frame().rename(columns={'term_str':'doc_str'})"
   ]
  },
  {
   "cell_type": "code",
   "execution_count": 33,
   "metadata": {
    "colab": {
     "base_uri": "https://localhost:8080/",
     "height": 235
    },
    "colab_type": "code",
    "id": "AMRoedTsJbBV",
    "outputId": "a5fd398d-29a0-4df2-99d4-7241b90c56cc"
   },
   "outputs": [
    {
     "data": {
      "text/html": [
       "<div>\n",
       "<style scoped>\n",
       "    .dataframe tbody tr th:only-of-type {\n",
       "        vertical-align: middle;\n",
       "    }\n",
       "\n",
       "    .dataframe tbody tr th {\n",
       "        vertical-align: top;\n",
       "    }\n",
       "\n",
       "    .dataframe thead th {\n",
       "        text-align: right;\n",
       "    }\n",
       "</style>\n",
       "<table border=\"1\" class=\"dataframe\">\n",
       "  <thead>\n",
       "    <tr style=\"text-align: right;\">\n",
       "      <th></th>\n",
       "      <th></th>\n",
       "      <th>doc_str</th>\n",
       "    </tr>\n",
       "    <tr>\n",
       "      <th>book_num</th>\n",
       "      <th>chap_num</th>\n",
       "      <th></th>\n",
       "    </tr>\n",
       "  </thead>\n",
       "  <tbody>\n",
       "    <tr>\n",
       "      <th rowspan=\"5\" valign=\"top\">0</th>\n",
       "      <th>0</th>\n",
       "      <td>chapter number four proud perfectly normal tha...</td>\n",
       "    </tr>\n",
       "    <tr>\n",
       "      <th>1</th>\n",
       "      <td>chapter nearly ten years passed since woken fi...</td>\n",
       "    </tr>\n",
       "    <tr>\n",
       "      <th>2</th>\n",
       "      <td>chapter escape brazilian boa constrictor earne...</td>\n",
       "    </tr>\n",
       "    <tr>\n",
       "      <th>3</th>\n",
       "      <td>chapter four knocked jerked awake 's cannon st...</td>\n",
       "    </tr>\n",
       "    <tr>\n",
       "      <th>4</th>\n",
       "      <td>chapter five woke early next morning although ...</td>\n",
       "    </tr>\n",
       "  </tbody>\n",
       "</table>\n",
       "</div>"
      ],
      "text/plain": [
       "                                                             doc_str\n",
       "book_num chap_num                                                   \n",
       "0        0         chapter number four proud perfectly normal tha...\n",
       "         1         chapter nearly ten years passed since woken fi...\n",
       "         2         chapter escape brazilian boa constrictor earne...\n",
       "         3         chapter four knocked jerked awake 's cannon st...\n",
       "         4         chapter five woke early next morning although ..."
      ]
     },
     "execution_count": 33,
     "metadata": {},
     "output_type": "execute_result"
    }
   ],
   "source": [
    "D.head()"
   ]
  },
  {
   "cell_type": "code",
   "execution_count": 34,
   "metadata": {
    "colab": {},
    "colab_type": "code",
    "id": "Fm2ZoumiJq_n"
   },
   "outputs": [],
   "source": [
    "D['term_count'] = DTM.sum(1).astype('int').to_frame().rename(columns={0:'term_count'})\n",
    "D['tf'] = D.term_count / D.term_count.sum()"
   ]
  },
  {
   "cell_type": "code",
   "execution_count": 35,
   "metadata": {
    "colab": {
     "base_uri": "https://localhost:8080/",
     "height": 235
    },
    "colab_type": "code",
    "id": "Npp5sY3nKybP",
    "outputId": "c3c0a33e-ef5b-420f-b993-c8c7d9343d51"
   },
   "outputs": [
    {
     "data": {
      "text/html": [
       "<div>\n",
       "<style scoped>\n",
       "    .dataframe tbody tr th:only-of-type {\n",
       "        vertical-align: middle;\n",
       "    }\n",
       "\n",
       "    .dataframe tbody tr th {\n",
       "        vertical-align: top;\n",
       "    }\n",
       "\n",
       "    .dataframe thead th {\n",
       "        text-align: right;\n",
       "    }\n",
       "</style>\n",
       "<table border=\"1\" class=\"dataframe\">\n",
       "  <thead>\n",
       "    <tr style=\"text-align: right;\">\n",
       "      <th></th>\n",
       "      <th></th>\n",
       "      <th>doc_str</th>\n",
       "      <th>term_count</th>\n",
       "      <th>tf</th>\n",
       "    </tr>\n",
       "    <tr>\n",
       "      <th>book_num</th>\n",
       "      <th>chap_num</th>\n",
       "      <th></th>\n",
       "      <th></th>\n",
       "      <th></th>\n",
       "    </tr>\n",
       "  </thead>\n",
       "  <tbody>\n",
       "    <tr>\n",
       "      <th rowspan=\"5\" valign=\"top\">0</th>\n",
       "      <th>0</th>\n",
       "      <td>chapter number four proud perfectly normal tha...</td>\n",
       "      <td>1937</td>\n",
       "      <td>0.004325</td>\n",
       "    </tr>\n",
       "    <tr>\n",
       "      <th>1</th>\n",
       "      <td>chapter nearly ten years passed since woken fi...</td>\n",
       "      <td>1445</td>\n",
       "      <td>0.003227</td>\n",
       "    </tr>\n",
       "    <tr>\n",
       "      <th>2</th>\n",
       "      <td>chapter escape brazilian boa constrictor earne...</td>\n",
       "      <td>1650</td>\n",
       "      <td>0.003684</td>\n",
       "    </tr>\n",
       "    <tr>\n",
       "      <th>3</th>\n",
       "      <td>chapter four knocked jerked awake 's cannon st...</td>\n",
       "      <td>1570</td>\n",
       "      <td>0.003506</td>\n",
       "    </tr>\n",
       "    <tr>\n",
       "      <th>4</th>\n",
       "      <td>chapter five woke early next morning although ...</td>\n",
       "      <td>2914</td>\n",
       "      <td>0.006507</td>\n",
       "    </tr>\n",
       "  </tbody>\n",
       "</table>\n",
       "</div>"
      ],
      "text/plain": [
       "                                                             doc_str  \\\n",
       "book_num chap_num                                                      \n",
       "0        0         chapter number four proud perfectly normal tha...   \n",
       "         1         chapter nearly ten years passed since woken fi...   \n",
       "         2         chapter escape brazilian boa constrictor earne...   \n",
       "         3         chapter four knocked jerked awake 's cannon st...   \n",
       "         4         chapter five woke early next morning although ...   \n",
       "\n",
       "                   term_count        tf  \n",
       "book_num chap_num                        \n",
       "0        0               1937  0.004325  \n",
       "         1               1445  0.003227  \n",
       "         2               1650  0.003684  \n",
       "         3               1570  0.003506  \n",
       "         4               2914  0.006507  "
      ]
     },
     "execution_count": 35,
     "metadata": {},
     "output_type": "execute_result"
    }
   ],
   "source": [
    "D.head()"
   ]
  },
  {
   "cell_type": "code",
   "execution_count": 57,
   "metadata": {},
   "outputs": [
    {
     "data": {
      "text/plain": [
       "<matplotlib.axes._subplots.AxesSubplot at 0x7f83f756ac50>"
      ]
     },
     "execution_count": 57,
     "metadata": {},
     "output_type": "execute_result"
    },
    {
     "data": {
      "image/png": "[encoded data removed]",
      "text/plain": [
       "<Figure size 1080x144 with 1 Axes>"
      ]
     },
     "metadata": {},
     "output_type": "display_data"
    }
   ],
   "source": [
    "D.query('book_num == \"0\"').tf.plot(figsize=(15,2))"
   ]
  },
  {
   "cell_type": "code",
   "execution_count": 58,
   "metadata": {},
   "outputs": [
    {
     "data": {
      "text/plain": [
       "<matplotlib.axes._subplots.AxesSubplot at 0x7f83f9db0d30>"
      ]
     },
     "execution_count": 58,
     "metadata": {},
     "output_type": "execute_result"
    },
    {
     "data": {
      "image/png": "[encoded data removed]",
      "text/plain": [
       "<Figure size 1080x144 with 1 Axes>"
      ]
     },
     "metadata": {},
     "output_type": "display_data"
    }
   ],
   "source": [
    "D.query('book_num == \"1\"').tf.plot(figsize=(15,2))"
   ]
  },
  {
   "cell_type": "code",
   "execution_count": 56,
   "metadata": {},
   "outputs": [
    {
     "data": {
      "text/plain": [
       "<matplotlib.axes._subplots.AxesSubplot at 0x7f83f753e630>"
      ]
     },
     "execution_count": 56,
     "metadata": {},
     "output_type": "execute_result"
    },
    {
     "data": {
      "image/png": "[encoded data removed]",
      "text/plain": [
       "<Figure size 1080x144 with 1 Axes>"
      ]
     },
     "metadata": {},
     "output_type": "display_data"
    }
   ],
   "source": [
    "D.query('book_num == \"2\"').tf.plot(figsize=(15,2))\n",
    "D.query('book_num == \"3\"').tf.plot(figsize=(15,2))\n",
    "D.query('book_num == \"4\"').tf.plot(figsize=(15,2))\n",
    "D.query('book_num == \"5\"').tf.plot(figsize=(15,2))\n",
    "D.query('book_num == \"6\"').tf.plot(figsize=(15,2))"
   ]
  },
  {
   "cell_type": "markdown",
   "metadata": {
    "colab_type": "text",
    "id": "cGuKbe7yJcfj"
   },
   "source": [
    "## Get all doc pairs"
   ]
  },
  {
   "cell_type": "code",
   "execution_count": 42,
   "metadata": {
    "colab": {},
    "colab_type": "code",
    "id": "NZpQvYVmz2Jz"
   },
   "outputs": [],
   "source": [
    "chap_ids = D.index.tolist()\n",
    "pairs = [(i,j) for i in chap_ids for j in chap_ids if j > i]"
   ]
  },
  {
   "cell_type": "code",
   "execution_count": 60,
   "metadata": {
    "colab": {},
    "colab_type": "code",
    "id": "j6LfA1MMKrga"
   },
   "outputs": [],
   "source": [
    "P = pd.DataFrame(pairs).reset_index(drop=True).set_index([0,1])\n",
    "P.index.names = ['doc_x','doc_y']"
   ]
  },
  {
   "cell_type": "code",
   "execution_count": 61,
   "metadata": {
    "colab": {
     "base_uri": "https://localhost:8080/",
     "height": 218
    },
    "colab_type": "code",
    "id": "U2SvgMbEN5kH",
    "outputId": "baaa2d60-7fcf-4ff0-a2fd-b5a92268518f"
   },
   "outputs": [
    {
     "data": {
      "text/html": [
       "<div>\n",
       "<style scoped>\n",
       "    .dataframe tbody tr th:only-of-type {\n",
       "        vertical-align: middle;\n",
       "    }\n",
       "\n",
       "    .dataframe tbody tr th {\n",
       "        vertical-align: top;\n",
       "    }\n",
       "\n",
       "    .dataframe thead th {\n",
       "        text-align: right;\n",
       "    }\n",
       "</style>\n",
       "<table border=\"1\" class=\"dataframe\">\n",
       "  <thead>\n",
       "    <tr style=\"text-align: right;\">\n",
       "      <th></th>\n",
       "      <th></th>\n",
       "    </tr>\n",
       "    <tr>\n",
       "      <th>doc_x</th>\n",
       "      <th>doc_y</th>\n",
       "    </tr>\n",
       "  </thead>\n",
       "  <tbody>\n",
       "    <tr>\n",
       "      <th rowspan=\"5\" valign=\"top\">(0, 0)</th>\n",
       "      <th>(0, 1)</th>\n",
       "    </tr>\n",
       "    <tr>\n",
       "      <th>(0, 2)</th>\n",
       "    </tr>\n",
       "    <tr>\n",
       "      <th>(0, 3)</th>\n",
       "    </tr>\n",
       "    <tr>\n",
       "      <th>(0, 4)</th>\n",
       "    </tr>\n",
       "    <tr>\n",
       "      <th>(0, 5)</th>\n",
       "    </tr>\n",
       "  </tbody>\n",
       "</table>\n",
       "</div>"
      ],
      "text/plain": [
       "Empty DataFrame\n",
       "Columns: []\n",
       "Index: [((0, 0), (0, 1)), ((0, 0), (0, 2)), ((0, 0), (0, 3)), ((0, 0), (0, 4)), ((0, 0), (0, 5))]"
      ]
     },
     "execution_count": 61,
     "metadata": {},
     "output_type": "execute_result"
    }
   ],
   "source": [
    "P.head()"
   ]
  },
  {
   "cell_type": "markdown",
   "metadata": {
    "colab_type": "text",
    "id": "VLH_5QVqVEZz"
   },
   "source": [
    "## Compute Euclidean distance"
   ]
  },
  {
   "cell_type": "code",
   "execution_count": 63,
   "metadata": {
    "colab": {},
    "colab_type": "code",
    "id": "7U6ATqRQOZ1e"
   },
   "outputs": [],
   "source": [
    "def euclidean(row):\n",
    "    D1 = TFIDF.loc[row.name[0]]\n",
    "    D2 = TFIDF.loc[row.name[1]]\n",
    "    x = (D1 - D2)**2\n",
    "    y = x.sum() \n",
    "    z = np.sqrt(y)\n",
    "    return z"
   ]
  },
  {
   "cell_type": "code",
   "execution_count": 64,
   "metadata": {
    "colab": {},
    "colab_type": "code",
    "id": "XEa7kMibEyOx"
   },
   "outputs": [],
   "source": [
    "P['euclidean'] = 0\n",
    "P['euclidean'] = P.apply(euclidean, 1)"
   ]
  },
  {
   "cell_type": "code",
   "execution_count": 65,
   "metadata": {
    "colab": {},
    "colab_type": "code",
    "id": "XEa7kMibEyOx"
   },
   "outputs": [],
   "source": [
    "P['euclidean_sim'] = 1 / (P.euclidean + 1)"
   ]
  },
  {
   "cell_type": "code",
   "execution_count": 66,
   "metadata": {
    "colab": {},
    "colab_type": "code",
    "id": "asS8y-sZOTJj"
   },
   "outputs": [],
   "source": [
    "PME = P.euclidean.unstack().fillna(0)"
   ]
  },
  {
   "cell_type": "code",
   "execution_count": 67,
   "metadata": {
    "colab": {
     "base_uri": "https://localhost:8080/",
     "height": 284
    },
    "colab_type": "code",
    "id": "LXsdEEAo2GYI",
    "outputId": "52620583-4434-4d85-d292-3dc7b3e15da1"
   },
   "outputs": [
    {
     "data": {
      "text/html": [
       "<div>\n",
       "<style scoped>\n",
       "    .dataframe tbody tr th:only-of-type {\n",
       "        vertical-align: middle;\n",
       "    }\n",
       "\n",
       "    .dataframe tbody tr th {\n",
       "        vertical-align: top;\n",
       "    }\n",
       "\n",
       "    .dataframe thead th {\n",
       "        text-align: right;\n",
       "    }\n",
       "</style>\n",
       "<table border=\"1\" class=\"dataframe\">\n",
       "  <thead>\n",
       "    <tr style=\"text-align: right;\">\n",
       "      <th>doc_y</th>\n",
       "      <th>(0, 1)</th>\n",
       "      <th>(0, 2)</th>\n",
       "      <th>(0, 3)</th>\n",
       "      <th>(0, 4)</th>\n",
       "      <th>(0, 5)</th>\n",
       "      <th>(0, 6)</th>\n",
       "      <th>(0, 7)</th>\n",
       "      <th>(0, 8)</th>\n",
       "      <th>(0, 9)</th>\n",
       "      <th>(0, 10)</th>\n",
       "      <th>...</th>\n",
       "      <th>(6, 27)</th>\n",
       "      <th>(6, 28)</th>\n",
       "      <th>(6, 29)</th>\n",
       "      <th>(6, 30)</th>\n",
       "      <th>(6, 31)</th>\n",
       "      <th>(6, 32)</th>\n",
       "      <th>(6, 33)</th>\n",
       "      <th>(6, 34)</th>\n",
       "      <th>(6, 35)</th>\n",
       "      <th>(6, 36)</th>\n",
       "    </tr>\n",
       "    <tr>\n",
       "      <th>doc_x</th>\n",
       "      <th></th>\n",
       "      <th></th>\n",
       "      <th></th>\n",
       "      <th></th>\n",
       "      <th></th>\n",
       "      <th></th>\n",
       "      <th></th>\n",
       "      <th></th>\n",
       "      <th></th>\n",
       "      <th></th>\n",
       "      <th></th>\n",
       "      <th></th>\n",
       "      <th></th>\n",
       "      <th></th>\n",
       "      <th></th>\n",
       "      <th></th>\n",
       "      <th></th>\n",
       "      <th></th>\n",
       "      <th></th>\n",
       "      <th></th>\n",
       "      <th></th>\n",
       "    </tr>\n",
       "  </thead>\n",
       "  <tbody>\n",
       "    <tr>\n",
       "      <th>(0, 0)</th>\n",
       "      <td>0.105239</td>\n",
       "      <td>0.108582</td>\n",
       "      <td>0.117203</td>\n",
       "      <td>0.096112</td>\n",
       "      <td>0.093277</td>\n",
       "      <td>0.098555</td>\n",
       "      <td>0.105509</td>\n",
       "      <td>0.090675</td>\n",
       "      <td>0.108339</td>\n",
       "      <td>0.109940</td>\n",
       "      <td>...</td>\n",
       "      <td>0.098832</td>\n",
       "      <td>0.101708</td>\n",
       "      <td>0.094703</td>\n",
       "      <td>0.104854</td>\n",
       "      <td>0.098948</td>\n",
       "      <td>0.093155</td>\n",
       "      <td>0.098861</td>\n",
       "      <td>0.103785</td>\n",
       "      <td>0.093564</td>\n",
       "      <td>0.127403</td>\n",
       "    </tr>\n",
       "    <tr>\n",
       "      <th>(0, 1)</th>\n",
       "      <td>0.000000</td>\n",
       "      <td>0.111763</td>\n",
       "      <td>0.125726</td>\n",
       "      <td>0.106432</td>\n",
       "      <td>0.103772</td>\n",
       "      <td>0.108480</td>\n",
       "      <td>0.114728</td>\n",
       "      <td>0.101584</td>\n",
       "      <td>0.117904</td>\n",
       "      <td>0.118986</td>\n",
       "      <td>...</td>\n",
       "      <td>0.111594</td>\n",
       "      <td>0.111559</td>\n",
       "      <td>0.106114</td>\n",
       "      <td>0.115302</td>\n",
       "      <td>0.107130</td>\n",
       "      <td>0.106081</td>\n",
       "      <td>0.108085</td>\n",
       "      <td>0.114914</td>\n",
       "      <td>0.104324</td>\n",
       "      <td>0.137050</td>\n",
       "    </tr>\n",
       "    <tr>\n",
       "      <th>(0, 2)</th>\n",
       "      <td>0.000000</td>\n",
       "      <td>0.000000</td>\n",
       "      <td>0.123825</td>\n",
       "      <td>0.106290</td>\n",
       "      <td>0.103675</td>\n",
       "      <td>0.108731</td>\n",
       "      <td>0.114795</td>\n",
       "      <td>0.101009</td>\n",
       "      <td>0.117009</td>\n",
       "      <td>0.118645</td>\n",
       "      <td>...</td>\n",
       "      <td>0.111771</td>\n",
       "      <td>0.111291</td>\n",
       "      <td>0.105890</td>\n",
       "      <td>0.114798</td>\n",
       "      <td>0.109134</td>\n",
       "      <td>0.105116</td>\n",
       "      <td>0.109310</td>\n",
       "      <td>0.114875</td>\n",
       "      <td>0.104833</td>\n",
       "      <td>0.137340</td>\n",
       "    </tr>\n",
       "    <tr>\n",
       "      <th>(0, 3)</th>\n",
       "      <td>0.000000</td>\n",
       "      <td>0.000000</td>\n",
       "      <td>0.000000</td>\n",
       "      <td>0.095983</td>\n",
       "      <td>0.111709</td>\n",
       "      <td>0.117256</td>\n",
       "      <td>0.121800</td>\n",
       "      <td>0.110772</td>\n",
       "      <td>0.126022</td>\n",
       "      <td>0.123299</td>\n",
       "      <td>...</td>\n",
       "      <td>0.119639</td>\n",
       "      <td>0.120307</td>\n",
       "      <td>0.114854</td>\n",
       "      <td>0.121844</td>\n",
       "      <td>0.117183</td>\n",
       "      <td>0.113338</td>\n",
       "      <td>0.117311</td>\n",
       "      <td>0.122332</td>\n",
       "      <td>0.112515</td>\n",
       "      <td>0.143975</td>\n",
       "    </tr>\n",
       "    <tr>\n",
       "      <th>(0, 4)</th>\n",
       "      <td>0.000000</td>\n",
       "      <td>0.000000</td>\n",
       "      <td>0.000000</td>\n",
       "      <td>0.000000</td>\n",
       "      <td>0.086165</td>\n",
       "      <td>0.094830</td>\n",
       "      <td>0.100004</td>\n",
       "      <td>0.087467</td>\n",
       "      <td>0.105494</td>\n",
       "      <td>0.104794</td>\n",
       "      <td>...</td>\n",
       "      <td>0.098299</td>\n",
       "      <td>0.097984</td>\n",
       "      <td>0.092428</td>\n",
       "      <td>0.101787</td>\n",
       "      <td>0.095721</td>\n",
       "      <td>0.091892</td>\n",
       "      <td>0.096689</td>\n",
       "      <td>0.102196</td>\n",
       "      <td>0.090484</td>\n",
       "      <td>0.126875</td>\n",
       "    </tr>\n",
       "  </tbody>\n",
       "</table>\n",
       "<p>5 rows × 198 columns</p>\n",
       "</div>"
      ],
      "text/plain": [
       "doc_y     (0, 1)    (0, 2)    (0, 3)    (0, 4)    (0, 5)    (0, 6)    (0, 7)  \\\n",
       "doc_x                                                                          \n",
       "(0, 0)  0.105239  0.108582  0.117203  0.096112  0.093277  0.098555  0.105509   \n",
       "(0, 1)  0.000000  0.111763  0.125726  0.106432  0.103772  0.108480  0.114728   \n",
       "(0, 2)  0.000000  0.000000  0.123825  0.106290  0.103675  0.108731  0.114795   \n",
       "(0, 3)  0.000000  0.000000  0.000000  0.095983  0.111709  0.117256  0.121800   \n",
       "(0, 4)  0.000000  0.000000  0.000000  0.000000  0.086165  0.094830  0.100004   \n",
       "\n",
       "doc_y     (0, 8)    (0, 9)   (0, 10)    ...      (6, 27)   (6, 28)   (6, 29)  \\\n",
       "doc_x                                   ...                                    \n",
       "(0, 0)  0.090675  0.108339  0.109940    ...     0.098832  0.101708  0.094703   \n",
       "(0, 1)  0.101584  0.117904  0.118986    ...     0.111594  0.111559  0.106114   \n",
       "(0, 2)  0.101009  0.117009  0.118645    ...     0.111771  0.111291  0.105890   \n",
       "(0, 3)  0.110772  0.126022  0.123299    ...     0.119639  0.120307  0.114854   \n",
       "(0, 4)  0.087467  0.105494  0.104794    ...     0.098299  0.097984  0.092428   \n",
       "\n",
       "doc_y    (6, 30)   (6, 31)   (6, 32)   (6, 33)   (6, 34)   (6, 35)   (6, 36)  \n",
       "doc_x                                                                         \n",
       "(0, 0)  0.104854  0.098948  0.093155  0.098861  0.103785  0.093564  0.127403  \n",
       "(0, 1)  0.115302  0.107130  0.106081  0.108085  0.114914  0.104324  0.137050  \n",
       "(0, 2)  0.114798  0.109134  0.105116  0.109310  0.114875  0.104833  0.137340  \n",
       "(0, 3)  0.121844  0.117183  0.113338  0.117311  0.122332  0.112515  0.143975  \n",
       "(0, 4)  0.101787  0.095721  0.091892  0.096689  0.102196  0.090484  0.126875  \n",
       "\n",
       "[5 rows x 198 columns]"
      ]
     },
     "execution_count": 67,
     "metadata": {},
     "output_type": "execute_result"
    }
   ],
   "source": [
    "PME.head()"
   ]
  },
  {
   "cell_type": "markdown",
   "metadata": {
    "colab_type": "text",
    "id": "UiAUPNZfhome"
   },
   "source": [
    "## Compute Cosine similarity"
   ]
  },
  {
   "cell_type": "code",
   "execution_count": 69,
   "metadata": {
    "colab": {},
    "colab_type": "code",
    "id": "fNdTFzuNSLak"
   },
   "outputs": [],
   "source": [
    "def cosine(row):\n",
    "    D1 = TFIDF.loc[row.name[0]]\n",
    "    D2 = TFIDF.loc[row.name[1]]\n",
    "    x = D1 * D2\n",
    "    y = x.sum()\n",
    "    \n",
    "#     a = np.sqrt(D1.sum()**2)     # <-- misplaced exponent!\n",
    "#     b = np.sqrt(D2.sum()**2)     # <-- misplaced exponent!\n",
    "#     c = np.sqrt(a) * np.sqrt(b)  # <-- extra square roots!\n",
    "\n",
    "    a = np.sqrt((D1**2).sum())\n",
    "    b = np.sqrt((D2**2).sum())\n",
    "    c = a * b\n",
    "    \n",
    "    z = y / c\n",
    "    return z"
   ]
  },
  {
   "cell_type": "code",
   "execution_count": 70,
   "metadata": {
    "colab": {},
    "colab_type": "code",
    "id": "fNdTFzuNSLak"
   },
   "outputs": [],
   "source": [
    "from numpy.linalg import norm\n",
    "def cosine_np(row):\n",
    "    D1 = TFIDF.loc[row.name[0]]\n",
    "    D2 = TFIDF.loc[row.name[1]]\n",
    "    return np.dot(D1, D2)/(norm(D1)*norm(D2))"
   ]
  },
  {
   "cell_type": "code",
   "execution_count": 71,
   "metadata": {
    "colab": {},
    "colab_type": "code",
    "id": "fNdTFzuNSLak"
   },
   "outputs": [],
   "source": [
    "from scipy import spatial\n",
    "def cosine_scipy(row):\n",
    "    D1 = TFIDF.loc[row.name[0]]\n",
    "    D2 = TFIDF.loc[row.name[1]]\n",
    "    return (1 - spatial.distance.cosine(D1, D2))"
   ]
  },
  {
   "cell_type": "code",
   "execution_count": 72,
   "metadata": {
    "colab": {},
    "colab_type": "code",
    "id": "fNdTFzuNSLak"
   },
   "outputs": [],
   "source": [
    "from sklearn.metrics.pairwise import cosine_similarity\n",
    "def cosine_sklearn(row):\n",
    "    D1 = TFIDF.loc[row.name[0]]\n",
    "    D2 = TFIDF.loc[row.name[1]]\n",
    "    return cosine_similarity([TFIDF.loc[0]], [TFIDF.loc[1]])[0][0]"
   ]
  },
  {
   "cell_type": "code",
   "execution_count": 73,
   "metadata": {
    "colab": {},
    "colab_type": "code",
    "id": "xT1dkb5BTmsO"
   },
   "outputs": [],
   "source": [
    "# %%timeit -- 11.8 s ± 958 ms per loop (mean ± std. dev. of 7 runs, 1 loop each)\n",
    "P['cosine'] = P.apply(cosine, 1)"
   ]
  },
  {
   "cell_type": "code",
   "execution_count": 74,
   "metadata": {
    "colab": {},
    "colab_type": "code",
    "id": "xT1dkb5BTmsO"
   },
   "outputs": [],
   "source": [
    "# %%timeit -- 7.23 s ± 877 ms per loop (mean ± std. dev. of 7 runs, 1 loop each)\n",
    "P['cosine_scipy'] = P.apply(cosine_scipy, 1)"
   ]
  },
  {
   "cell_type": "code",
   "execution_count": 76,
   "metadata": {
    "colab": {},
    "colab_type": "code",
    "id": "xT1dkb5BTmsO"
   },
   "outputs": [],
   "source": [
    "# %%timeit -- 4.48 s ± 480 ms per loop (mean ± std. dev. of 7 runs, 1 loop each)\n",
    "P['cosine_np'] = P.apply(cosine_np, 1)"
   ]
  },
  {
   "cell_type": "code",
   "execution_count": 77,
   "metadata": {},
   "outputs": [
    {
     "data": {
      "text/html": [
       "<div>\n",
       "<style scoped>\n",
       "    .dataframe tbody tr th:only-of-type {\n",
       "        vertical-align: middle;\n",
       "    }\n",
       "\n",
       "    .dataframe tbody tr th {\n",
       "        vertical-align: top;\n",
       "    }\n",
       "\n",
       "    .dataframe thead th {\n",
       "        text-align: right;\n",
       "    }\n",
       "</style>\n",
       "<table border=\"1\" class=\"dataframe\">\n",
       "  <thead>\n",
       "    <tr style=\"text-align: right;\">\n",
       "      <th></th>\n",
       "      <th></th>\n",
       "      <th>euclidean</th>\n",
       "      <th>euclidean_sim</th>\n",
       "      <th>cosine</th>\n",
       "      <th>cosine_scipy</th>\n",
       "      <th>cosine_np</th>\n",
       "    </tr>\n",
       "    <tr>\n",
       "      <th>doc_x</th>\n",
       "      <th>doc_y</th>\n",
       "      <th></th>\n",
       "      <th></th>\n",
       "      <th></th>\n",
       "      <th></th>\n",
       "      <th></th>\n",
       "    </tr>\n",
       "  </thead>\n",
       "  <tbody>\n",
       "    <tr>\n",
       "      <th rowspan=\"5\" valign=\"top\">(0, 0)</th>\n",
       "      <th>(0, 1)</th>\n",
       "      <td>0.105239</td>\n",
       "      <td>0.904782</td>\n",
       "      <td>0.159048</td>\n",
       "      <td>NaN</td>\n",
       "      <td>NaN</td>\n",
       "    </tr>\n",
       "    <tr>\n",
       "      <th>(0, 2)</th>\n",
       "      <td>0.108582</td>\n",
       "      <td>0.902053</td>\n",
       "      <td>0.099302</td>\n",
       "      <td>NaN</td>\n",
       "      <td>NaN</td>\n",
       "    </tr>\n",
       "    <tr>\n",
       "      <th>(0, 3)</th>\n",
       "      <td>0.117203</td>\n",
       "      <td>0.895092</td>\n",
       "      <td>0.084704</td>\n",
       "      <td>NaN</td>\n",
       "      <td>NaN</td>\n",
       "    </tr>\n",
       "    <tr>\n",
       "      <th>(0, 4)</th>\n",
       "      <td>0.096112</td>\n",
       "      <td>0.912315</td>\n",
       "      <td>0.112229</td>\n",
       "      <td>NaN</td>\n",
       "      <td>NaN</td>\n",
       "    </tr>\n",
       "    <tr>\n",
       "      <th>(0, 5)</th>\n",
       "      <td>0.093277</td>\n",
       "      <td>0.914681</td>\n",
       "      <td>0.104097</td>\n",
       "      <td>NaN</td>\n",
       "      <td>NaN</td>\n",
       "    </tr>\n",
       "  </tbody>\n",
       "</table>\n",
       "</div>"
      ],
      "text/plain": [
       "               euclidean  euclidean_sim    cosine  cosine_scipy  cosine_np\n",
       "doc_x  doc_y                                                              \n",
       "(0, 0) (0, 1)   0.105239       0.904782  0.159048           NaN        NaN\n",
       "       (0, 2)   0.108582       0.902053  0.099302           NaN        NaN\n",
       "       (0, 3)   0.117203       0.895092  0.084704           NaN        NaN\n",
       "       (0, 4)   0.096112       0.912315  0.112229           NaN        NaN\n",
       "       (0, 5)   0.093277       0.914681  0.104097           NaN        NaN"
      ]
     },
     "execution_count": 77,
     "metadata": {},
     "output_type": "execute_result"
    }
   ],
   "source": [
    "P.head()"
   ]
  },
  {
   "cell_type": "code",
   "execution_count": 81,
   "metadata": {
    "colab": {},
    "colab_type": "code",
    "id": "9mho5uDbQ7UX"
   },
   "outputs": [],
   "source": [
    "PMC = P.cosine.unstack().fillna(0)"
   ]
  },
  {
   "cell_type": "code",
   "execution_count": 82,
   "metadata": {
    "colab": {
     "base_uri": "https://localhost:8080/",
     "height": 284
    },
    "colab_type": "code",
    "id": "Bw2RyN3PTvlQ",
    "outputId": "0c4c0fbe-64a8-4c95-9d22-32297221d41a"
   },
   "outputs": [
    {
     "data": {
      "text/html": [
       "<div>\n",
       "<style scoped>\n",
       "    .dataframe tbody tr th:only-of-type {\n",
       "        vertical-align: middle;\n",
       "    }\n",
       "\n",
       "    .dataframe tbody tr th {\n",
       "        vertical-align: top;\n",
       "    }\n",
       "\n",
       "    .dataframe thead th {\n",
       "        text-align: right;\n",
       "    }\n",
       "</style>\n",
       "<table border=\"1\" class=\"dataframe\">\n",
       "  <thead>\n",
       "    <tr style=\"text-align: right;\">\n",
       "      <th>doc_y</th>\n",
       "      <th>(0, 1)</th>\n",
       "      <th>(0, 2)</th>\n",
       "      <th>(0, 3)</th>\n",
       "      <th>(0, 4)</th>\n",
       "      <th>(0, 5)</th>\n",
       "      <th>(0, 6)</th>\n",
       "      <th>(0, 7)</th>\n",
       "      <th>(0, 8)</th>\n",
       "      <th>(0, 9)</th>\n",
       "      <th>(0, 10)</th>\n",
       "      <th>...</th>\n",
       "      <th>(6, 27)</th>\n",
       "      <th>(6, 28)</th>\n",
       "      <th>(6, 29)</th>\n",
       "      <th>(6, 30)</th>\n",
       "      <th>(6, 31)</th>\n",
       "      <th>(6, 32)</th>\n",
       "      <th>(6, 33)</th>\n",
       "      <th>(6, 34)</th>\n",
       "      <th>(6, 35)</th>\n",
       "      <th>(6, 36)</th>\n",
       "    </tr>\n",
       "    <tr>\n",
       "      <th>doc_x</th>\n",
       "      <th></th>\n",
       "      <th></th>\n",
       "      <th></th>\n",
       "      <th></th>\n",
       "      <th></th>\n",
       "      <th></th>\n",
       "      <th></th>\n",
       "      <th></th>\n",
       "      <th></th>\n",
       "      <th></th>\n",
       "      <th></th>\n",
       "      <th></th>\n",
       "      <th></th>\n",
       "      <th></th>\n",
       "      <th></th>\n",
       "      <th></th>\n",
       "      <th></th>\n",
       "      <th></th>\n",
       "      <th></th>\n",
       "      <th></th>\n",
       "      <th></th>\n",
       "    </tr>\n",
       "  </thead>\n",
       "  <tbody>\n",
       "    <tr>\n",
       "      <th>(0, 0)</th>\n",
       "      <td>0.159048</td>\n",
       "      <td>0.099302</td>\n",
       "      <td>0.084704</td>\n",
       "      <td>0.112229</td>\n",
       "      <td>0.104097</td>\n",
       "      <td>0.067947</td>\n",
       "      <td>0.078325</td>\n",
       "      <td>0.088439</td>\n",
       "      <td>0.065172</td>\n",
       "      <td>0.053842</td>\n",
       "      <td>...</td>\n",
       "      <td>0.121074</td>\n",
       "      <td>0.047660</td>\n",
       "      <td>0.084244</td>\n",
       "      <td>0.051911</td>\n",
       "      <td>0.057678</td>\n",
       "      <td>0.092444</td>\n",
       "      <td>0.060908</td>\n",
       "      <td>0.061458</td>\n",
       "      <td>0.068474</td>\n",
       "      <td>0.080403</td>\n",
       "    </tr>\n",
       "    <tr>\n",
       "      <th>(0, 1)</th>\n",
       "      <td>0.000000</td>\n",
       "      <td>0.182823</td>\n",
       "      <td>0.079923</td>\n",
       "      <td>0.104798</td>\n",
       "      <td>0.100704</td>\n",
       "      <td>0.070318</td>\n",
       "      <td>0.079045</td>\n",
       "      <td>0.085915</td>\n",
       "      <td>0.058437</td>\n",
       "      <td>0.055043</td>\n",
       "      <td>...</td>\n",
       "      <td>0.066435</td>\n",
       "      <td>0.049076</td>\n",
       "      <td>0.064427</td>\n",
       "      <td>0.037592</td>\n",
       "      <td>0.091664</td>\n",
       "      <td>0.045839</td>\n",
       "      <td>0.076230</td>\n",
       "      <td>0.035735</td>\n",
       "      <td>0.065591</td>\n",
       "      <td>0.050363</td>\n",
       "    </tr>\n",
       "    <tr>\n",
       "      <th>(0, 2)</th>\n",
       "      <td>0.000000</td>\n",
       "      <td>0.000000</td>\n",
       "      <td>0.104396</td>\n",
       "      <td>0.102489</td>\n",
       "      <td>0.097265</td>\n",
       "      <td>0.060957</td>\n",
       "      <td>0.073789</td>\n",
       "      <td>0.091337</td>\n",
       "      <td>0.068649</td>\n",
       "      <td>0.056422</td>\n",
       "      <td>...</td>\n",
       "      <td>0.058810</td>\n",
       "      <td>0.048957</td>\n",
       "      <td>0.063265</td>\n",
       "      <td>0.041560</td>\n",
       "      <td>0.051435</td>\n",
       "      <td>0.058565</td>\n",
       "      <td>0.049648</td>\n",
       "      <td>0.031833</td>\n",
       "      <td>0.050273</td>\n",
       "      <td>0.043095</td>\n",
       "    </tr>\n",
       "    <tr>\n",
       "      <th>(0, 3)</th>\n",
       "      <td>0.000000</td>\n",
       "      <td>0.000000</td>\n",
       "      <td>0.000000</td>\n",
       "      <td>0.381502</td>\n",
       "      <td>0.099337</td>\n",
       "      <td>0.051633</td>\n",
       "      <td>0.080479</td>\n",
       "      <td>0.066111</td>\n",
       "      <td>0.042903</td>\n",
       "      <td>0.096134</td>\n",
       "      <td>...</td>\n",
       "      <td>0.057123</td>\n",
       "      <td>0.029723</td>\n",
       "      <td>0.049420</td>\n",
       "      <td>0.051532</td>\n",
       "      <td>0.050764</td>\n",
       "      <td>0.059637</td>\n",
       "      <td>0.049770</td>\n",
       "      <td>0.036246</td>\n",
       "      <td>0.062733</td>\n",
       "      <td>0.039495</td>\n",
       "    </tr>\n",
       "    <tr>\n",
       "      <th>(0, 4)</th>\n",
       "      <td>0.000000</td>\n",
       "      <td>0.000000</td>\n",
       "      <td>0.000000</td>\n",
       "      <td>0.000000</td>\n",
       "      <td>0.192446</td>\n",
       "      <td>0.092104</td>\n",
       "      <td>0.136169</td>\n",
       "      <td>0.099662</td>\n",
       "      <td>0.076339</td>\n",
       "      <td>0.105637</td>\n",
       "      <td>...</td>\n",
       "      <td>0.088436</td>\n",
       "      <td>0.072176</td>\n",
       "      <td>0.078848</td>\n",
       "      <td>0.065299</td>\n",
       "      <td>0.072040</td>\n",
       "      <td>0.065827</td>\n",
       "      <td>0.054845</td>\n",
       "      <td>0.047340</td>\n",
       "      <td>0.077794</td>\n",
       "      <td>0.059832</td>\n",
       "    </tr>\n",
       "  </tbody>\n",
       "</table>\n",
       "<p>5 rows × 198 columns</p>\n",
       "</div>"
      ],
      "text/plain": [
       "doc_y     (0, 1)    (0, 2)    (0, 3)    (0, 4)    (0, 5)    (0, 6)    (0, 7)  \\\n",
       "doc_x                                                                          \n",
       "(0, 0)  0.159048  0.099302  0.084704  0.112229  0.104097  0.067947  0.078325   \n",
       "(0, 1)  0.000000  0.182823  0.079923  0.104798  0.100704  0.070318  0.079045   \n",
       "(0, 2)  0.000000  0.000000  0.104396  0.102489  0.097265  0.060957  0.073789   \n",
       "(0, 3)  0.000000  0.000000  0.000000  0.381502  0.099337  0.051633  0.080479   \n",
       "(0, 4)  0.000000  0.000000  0.000000  0.000000  0.192446  0.092104  0.136169   \n",
       "\n",
       "doc_y     (0, 8)    (0, 9)   (0, 10)    ...      (6, 27)   (6, 28)   (6, 29)  \\\n",
       "doc_x                                   ...                                    \n",
       "(0, 0)  0.088439  0.065172  0.053842    ...     0.121074  0.047660  0.084244   \n",
       "(0, 1)  0.085915  0.058437  0.055043    ...     0.066435  0.049076  0.064427   \n",
       "(0, 2)  0.091337  0.068649  0.056422    ...     0.058810  0.048957  0.063265   \n",
       "(0, 3)  0.066111  0.042903  0.096134    ...     0.057123  0.029723  0.049420   \n",
       "(0, 4)  0.099662  0.076339  0.105637    ...     0.088436  0.072176  0.078848   \n",
       "\n",
       "doc_y    (6, 30)   (6, 31)   (6, 32)   (6, 33)   (6, 34)   (6, 35)   (6, 36)  \n",
       "doc_x                                                                         \n",
       "(0, 0)  0.051911  0.057678  0.092444  0.060908  0.061458  0.068474  0.080403  \n",
       "(0, 1)  0.037592  0.091664  0.045839  0.076230  0.035735  0.065591  0.050363  \n",
       "(0, 2)  0.041560  0.051435  0.058565  0.049648  0.031833  0.050273  0.043095  \n",
       "(0, 3)  0.051532  0.050764  0.059637  0.049770  0.036246  0.062733  0.039495  \n",
       "(0, 4)  0.065299  0.072040  0.065827  0.054845  0.047340  0.077794  0.059832  \n",
       "\n",
       "[5 rows x 198 columns]"
      ]
     },
     "execution_count": 82,
     "metadata": {},
     "output_type": "execute_result"
    }
   ],
   "source": [
    "PMC.head()"
   ]
  },
  {
   "cell_type": "code",
   "execution_count": 83,
   "metadata": {
    "colab": {
     "base_uri": "https://localhost:8080/",
     "height": 609
    },
    "colab_type": "code",
    "id": "3Jo3rutE8hdo",
    "outputId": "49c5eb8a-b33d-4f11-bf99-690438d319c4"
   },
   "outputs": [
    {
     "data": {
      "text/plain": [
       "<matplotlib.axes._subplots.AxesSubplot at 0x7f83f7c1f198>"
      ]
     },
     "execution_count": 83,
     "metadata": {},
     "output_type": "execute_result"
    },
    {
     "data": {
      "image/png": "[encoded data removed]",
      "text/plain": [
       "<Figure size 360x720 with 1 Axes>"
      ]
     },
     "metadata": {},
     "output_type": "display_data"
    }
   ],
   "source": [
    "P.cosine.sort_values(ascending=True).tail(50).plot(kind='barh', figsize=(5,10))"
   ]
  },
  {
   "cell_type": "code",
   "execution_count": 84,
   "metadata": {
    "colab": {},
    "colab_type": "code",
    "id": "DdQ-IfQ6T2bC"
   },
   "outputs": [],
   "source": [
    "P.cosine.reset_index().to_csv('HP-chapter-pairs.csv', index=False)"
   ]
  },
  {
   "cell_type": "markdown",
   "metadata": {
    "colab_type": "text",
    "id": "ryAh-kFWhvED"
   },
   "source": [
    "## Compare Euclidean and Cosine metrics"
   ]
  },
  {
   "cell_type": "code",
   "execution_count": 85,
   "metadata": {
    "colab": {
     "base_uri": "https://localhost:8080/",
     "height": 659
    },
    "colab_type": "code",
    "id": "PP_BG_K_T4kf",
    "outputId": "4ab90aa5-90c1-4ef2-9514-9a9f99e01318"
   },
   "outputs": [],
   "source": [
    "def len_diff(row):\n",
    "    return abs(D.loc[row.name[0]].term_count - D.loc[row.name[1]].term_count)"
   ]
  },
  {
   "cell_type": "code",
   "execution_count": 86,
   "metadata": {
    "colab": {
     "base_uri": "https://localhost:8080/",
     "height": 659
    },
    "colab_type": "code",
    "id": "PP_BG_K_T4kf",
    "outputId": "4ab90aa5-90c1-4ef2-9514-9a9f99e01318"
   },
   "outputs": [],
   "source": [
    "P['len_diff'] = P.apply(len_diff, axis=1)"
   ]
  },
  {
   "cell_type": "code",
   "execution_count": 87,
   "metadata": {
    "colab": {
     "base_uri": "https://localhost:8080/",
     "height": 659
    },
    "colab_type": "code",
    "id": "PP_BG_K_T4kf",
    "outputId": "4ab90aa5-90c1-4ef2-9514-9a9f99e01318"
   },
   "outputs": [
    {
     "data": {
      "text/plain": [
       "<matplotlib.axes._subplots.AxesSubplot at 0x7f83f65eee80>"
      ]
     },
     "execution_count": 87,
     "metadata": {},
     "output_type": "execute_result"
    },
    {
     "data": {
      "image/png": "[encoded data removed]",
      "text/plain": [
       "<Figure size 720x720 with 1 Axes>"
      ]
     },
     "metadata": {},
     "output_type": "display_data"
    }
   ],
   "source": [
    "P.plot(kind='scatter', x='len_diff', y='euclidean_sim', figsize=(10,10))"
   ]
  },
  {
   "cell_type": "code",
   "execution_count": 88,
   "metadata": {
    "colab": {
     "base_uri": "https://localhost:8080/",
     "height": 659
    },
    "colab_type": "code",
    "id": "PP_BG_K_T4kf",
    "outputId": "4ab90aa5-90c1-4ef2-9514-9a9f99e01318"
   },
   "outputs": [
    {
     "data": {
      "text/plain": [
       "<matplotlib.axes._subplots.AxesSubplot at 0x7f83fe6aa470>"
      ]
     },
     "execution_count": 88,
     "metadata": {},
     "output_type": "execute_result"
    },
    {
     "data": {
      "image/png": "[encoded data removed]",
      "text/plain": [
       "<Figure size 720x720 with 1 Axes>"
      ]
     },
     "metadata": {},
     "output_type": "display_data"
    }
   ],
   "source": [
    "P.plot(kind='scatter', x='len_diff', y='cosine', figsize=(10,10))"
   ]
  },
  {
   "cell_type": "code",
   "execution_count": 89,
   "metadata": {
    "colab": {
     "base_uri": "https://localhost:8080/",
     "height": 659
    },
    "colab_type": "code",
    "id": "PP_BG_K_T4kf",
    "outputId": "4ab90aa5-90c1-4ef2-9514-9a9f99e01318"
   },
   "outputs": [
    {
     "data": {
      "text/plain": [
       "<matplotlib.axes._subplots.AxesSubplot at 0x7f83feef2cc0>"
      ]
     },
     "execution_count": 89,
     "metadata": {},
     "output_type": "execute_result"
    },
    {
     "data": {
      "image/png": "[encoded data removed]",
      "text/plain": [
       "<Figure size 720x720 with 1 Axes>"
      ]
     },
     "metadata": {},
     "output_type": "display_data"
    }
   ],
   "source": [
    "P.plot(kind='scatter', x='euclidean_sim', y='cosine', figsize=(10,10))"
   ]
  },
  {
   "cell_type": "code",
   "execution_count": 96,
   "metadata": {},
   "outputs": [
    {
     "data": {
      "text/html": [
       "<div>\n",
       "<style scoped>\n",
       "    .dataframe tbody tr th:only-of-type {\n",
       "        vertical-align: middle;\n",
       "    }\n",
       "\n",
       "    .dataframe tbody tr th {\n",
       "        vertical-align: top;\n",
       "    }\n",
       "\n",
       "    .dataframe thead th {\n",
       "        text-align: right;\n",
       "    }\n",
       "</style>\n",
       "<table border=\"1\" class=\"dataframe\">\n",
       "  <thead>\n",
       "    <tr style=\"text-align: right;\">\n",
       "      <th></th>\n",
       "      <th></th>\n",
       "      <th>euclidean</th>\n",
       "      <th>euclidean_sim</th>\n",
       "      <th>cosine</th>\n",
       "      <th>cosine_scipy</th>\n",
       "      <th>cosine_np</th>\n",
       "      <th>len_diff</th>\n",
       "    </tr>\n",
       "    <tr>\n",
       "      <th>doc_x</th>\n",
       "      <th>doc_y</th>\n",
       "      <th></th>\n",
       "      <th></th>\n",
       "      <th></th>\n",
       "      <th></th>\n",
       "      <th></th>\n",
       "      <th></th>\n",
       "    </tr>\n",
       "  </thead>\n",
       "  <tbody>\n",
       "    <tr>\n",
       "      <th rowspan=\"3\" valign=\"top\">(2, 19)</th>\n",
       "      <th>(6, 3)</th>\n",
       "      <td>0.161383</td>\n",
       "      <td>0.861043</td>\n",
       "      <td>0.027980</td>\n",
       "      <td>NaN</td>\n",
       "      <td>NaN</td>\n",
       "      <td>1316</td>\n",
       "    </tr>\n",
       "    <tr>\n",
       "      <th>(4, 19)</th>\n",
       "      <td>0.160824</td>\n",
       "      <td>0.861457</td>\n",
       "      <td>0.020328</td>\n",
       "      <td>NaN</td>\n",
       "      <td>NaN</td>\n",
       "      <td>2165</td>\n",
       "    </tr>\n",
       "    <tr>\n",
       "      <th>(6, 36)</th>\n",
       "      <td>0.158553</td>\n",
       "      <td>0.863145</td>\n",
       "      <td>0.036087</td>\n",
       "      <td>NaN</td>\n",
       "      <td>NaN</td>\n",
       "      <td>146</td>\n",
       "    </tr>\n",
       "    <tr>\n",
       "      <th>(1, 1)</th>\n",
       "      <th>(2, 19)</th>\n",
       "      <td>0.157372</td>\n",
       "      <td>0.864027</td>\n",
       "      <td>0.023038</td>\n",
       "      <td>NaN</td>\n",
       "      <td>NaN</td>\n",
       "      <td>263</td>\n",
       "    </tr>\n",
       "    <tr>\n",
       "      <th>(4, 19)</th>\n",
       "      <th>(6, 3)</th>\n",
       "      <td>0.155238</td>\n",
       "      <td>0.865622</td>\n",
       "      <td>0.043459</td>\n",
       "      <td>NaN</td>\n",
       "      <td>NaN</td>\n",
       "      <td>849</td>\n",
       "    </tr>\n",
       "  </tbody>\n",
       "</table>\n",
       "</div>"
      ],
      "text/plain": [
       "                 euclidean  euclidean_sim    cosine  cosine_scipy  cosine_np  \\\n",
       "doc_x   doc_y                                                                  \n",
       "(2, 19) (6, 3)    0.161383       0.861043  0.027980           NaN        NaN   \n",
       "        (4, 19)   0.160824       0.861457  0.020328           NaN        NaN   \n",
       "        (6, 36)   0.158553       0.863145  0.036087           NaN        NaN   \n",
       "(1, 1)  (2, 19)   0.157372       0.864027  0.023038           NaN        NaN   \n",
       "(4, 19) (6, 3)    0.155238       0.865622  0.043459           NaN        NaN   \n",
       "\n",
       "                 len_diff  \n",
       "doc_x   doc_y              \n",
       "(2, 19) (6, 3)       1316  \n",
       "        (4, 19)      2165  \n",
       "        (6, 36)       146  \n",
       "(1, 1)  (2, 19)       263  \n",
       "(4, 19) (6, 3)        849  "
      ]
     },
     "execution_count": 96,
     "metadata": {},
     "output_type": "execute_result"
    }
   ],
   "source": [
    "P.sort_values(by= ('euclidean'), ascending=False).head()"
   ]
  },
  {
   "cell_type": "code",
   "execution_count": 98,
   "metadata": {
    "colab": {
     "base_uri": "https://localhost:8080/",
     "height": 1911
    },
    "colab_type": "code",
    "id": "th3EfShvW7s3",
    "outputId": "bc8ec9ec-f6be-415f-d987-d895118c9a76"
   },
   "outputs": [
    {
     "data": {
      "text/html": [
       "<div>\n",
       "<style scoped>\n",
       "    .dataframe tbody tr th:only-of-type {\n",
       "        vertical-align: middle;\n",
       "    }\n",
       "\n",
       "    .dataframe tbody tr th {\n",
       "        vertical-align: top;\n",
       "    }\n",
       "\n",
       "    .dataframe thead th {\n",
       "        text-align: right;\n",
       "    }\n",
       "</style>\n",
       "<table border=\"1\" class=\"dataframe\">\n",
       "  <thead>\n",
       "    <tr style=\"text-align: right;\">\n",
       "      <th></th>\n",
       "      <th></th>\n",
       "      <th>euclidean</th>\n",
       "      <th>euclidean_sim</th>\n",
       "      <th>cosine</th>\n",
       "      <th>cosine_scipy</th>\n",
       "      <th>cosine_np</th>\n",
       "      <th>len_diff</th>\n",
       "    </tr>\n",
       "    <tr>\n",
       "      <th>doc_x</th>\n",
       "      <th>doc_y</th>\n",
       "      <th></th>\n",
       "      <th></th>\n",
       "      <th></th>\n",
       "      <th></th>\n",
       "      <th></th>\n",
       "      <th></th>\n",
       "    </tr>\n",
       "  </thead>\n",
       "  <tbody>\n",
       "    <tr>\n",
       "      <th rowspan=\"5\" valign=\"top\">(0, 0)</th>\n",
       "      <th>(0, 1)</th>\n",
       "      <td>0.105239</td>\n",
       "      <td>0.904782</td>\n",
       "      <td>0.159048</td>\n",
       "      <td>NaN</td>\n",
       "      <td>NaN</td>\n",
       "      <td>492</td>\n",
       "    </tr>\n",
       "    <tr>\n",
       "      <th>(0, 2)</th>\n",
       "      <td>0.108582</td>\n",
       "      <td>0.902053</td>\n",
       "      <td>0.099302</td>\n",
       "      <td>NaN</td>\n",
       "      <td>NaN</td>\n",
       "      <td>287</td>\n",
       "    </tr>\n",
       "    <tr>\n",
       "      <th>(0, 3)</th>\n",
       "      <td>0.117203</td>\n",
       "      <td>0.895092</td>\n",
       "      <td>0.084704</td>\n",
       "      <td>NaN</td>\n",
       "      <td>NaN</td>\n",
       "      <td>367</td>\n",
       "    </tr>\n",
       "    <tr>\n",
       "      <th>(0, 7)</th>\n",
       "      <td>0.105509</td>\n",
       "      <td>0.904560</td>\n",
       "      <td>0.078325</td>\n",
       "      <td>NaN</td>\n",
       "      <td>NaN</td>\n",
       "      <td>658</td>\n",
       "    </tr>\n",
       "    <tr>\n",
       "      <th>(0, 9)</th>\n",
       "      <td>0.108339</td>\n",
       "      <td>0.902251</td>\n",
       "      <td>0.065172</td>\n",
       "      <td>NaN</td>\n",
       "      <td>NaN</td>\n",
       "      <td>153</td>\n",
       "    </tr>\n",
       "  </tbody>\n",
       "</table>\n",
       "</div>"
      ],
      "text/plain": [
       "               euclidean  euclidean_sim    cosine  cosine_scipy  cosine_np  \\\n",
       "doc_x  doc_y                                                                 \n",
       "(0, 0) (0, 1)   0.105239       0.904782  0.159048           NaN        NaN   \n",
       "       (0, 2)   0.108582       0.902053  0.099302           NaN        NaN   \n",
       "       (0, 3)   0.117203       0.895092  0.084704           NaN        NaN   \n",
       "       (0, 7)   0.105509       0.904560  0.078325           NaN        NaN   \n",
       "       (0, 9)   0.108339       0.902251  0.065172           NaN        NaN   \n",
       "\n",
       "               len_diff  \n",
       "doc_x  doc_y             \n",
       "(0, 0) (0, 1)       492  \n",
       "       (0, 2)       287  \n",
       "       (0, 3)       367  \n",
       "       (0, 7)       658  \n",
       "       (0, 9)       153  "
      ]
     },
     "execution_count": 98,
     "metadata": {},
     "output_type": "execute_result"
    }
   ],
   "source": [
    "P[P.euclidean > .1].head()"
   ]
  },
  {
   "cell_type": "markdown",
   "metadata": {
    "colab_type": "text",
    "id": "F8E1twYXlkkN"
   },
   "source": [
    "## See most similar chapters"
   ]
  },
  {
   "cell_type": "code",
   "execution_count": 103,
   "metadata": {
    "colab": {
     "base_uri": "https://localhost:8080/",
     "height": 1075
    },
    "colab_type": "code",
    "id": "8o0kEgCTlozC",
    "outputId": "f907e916-5f9b-4c89-d5b9-50ffaa9d777d"
   },
   "outputs": [
    {
     "data": {
      "text/plain": [
       "doc_x    doc_y  \n",
       "(4, 19)  (4, 29)    0.425237\n",
       "(4, 14)  (4, 16)    0.395182\n",
       "         (4, 20)    0.390984\n",
       "(4, 12)  (4, 14)    0.387585\n",
       "(4, 11)  (4, 14)    0.385470\n",
       "Name: cosine, dtype: float64"
      ]
     },
     "execution_count": 103,
     "metadata": {},
     "output_type": "execute_result"
    }
   ],
   "source": [
    "P.cosine.sort_values(ascending=False).head()"
   ]
  },
  {
   "cell_type": "code",
   "execution_count": 102,
   "metadata": {},
   "outputs": [
    {
     "data": {
      "text/html": [
       "<div>\n",
       "<style scoped>\n",
       "    .dataframe tbody tr th:only-of-type {\n",
       "        vertical-align: middle;\n",
       "    }\n",
       "\n",
       "    .dataframe tbody tr th {\n",
       "        vertical-align: top;\n",
       "    }\n",
       "\n",
       "    .dataframe thead th {\n",
       "        text-align: right;\n",
       "    }\n",
       "</style>\n",
       "<table border=\"1\" class=\"dataframe\">\n",
       "  <thead>\n",
       "    <tr style=\"text-align: right;\">\n",
       "      <th></th>\n",
       "      <th></th>\n",
       "      <th>doc_str</th>\n",
       "      <th>term_count</th>\n",
       "      <th>tf</th>\n",
       "    </tr>\n",
       "    <tr>\n",
       "      <th>book_num</th>\n",
       "      <th>chap_num</th>\n",
       "      <th></th>\n",
       "      <th></th>\n",
       "      <th></th>\n",
       "    </tr>\n",
       "  </thead>\n",
       "  <tbody>\n",
       "    <tr>\n",
       "      <th rowspan=\"5\" valign=\"top\">0</th>\n",
       "      <th>0</th>\n",
       "      <td>chapter number four proud perfectly normal tha...</td>\n",
       "      <td>1937</td>\n",
       "      <td>0.004325</td>\n",
       "    </tr>\n",
       "    <tr>\n",
       "      <th>1</th>\n",
       "      <td>chapter nearly ten years passed since woken fi...</td>\n",
       "      <td>1445</td>\n",
       "      <td>0.003227</td>\n",
       "    </tr>\n",
       "    <tr>\n",
       "      <th>2</th>\n",
       "      <td>chapter escape brazilian boa constrictor earne...</td>\n",
       "      <td>1650</td>\n",
       "      <td>0.003684</td>\n",
       "    </tr>\n",
       "    <tr>\n",
       "      <th>3</th>\n",
       "      <td>chapter four knocked jerked awake 's cannon st...</td>\n",
       "      <td>1570</td>\n",
       "      <td>0.003506</td>\n",
       "    </tr>\n",
       "    <tr>\n",
       "      <th>4</th>\n",
       "      <td>chapter five woke early next morning although ...</td>\n",
       "      <td>2914</td>\n",
       "      <td>0.006507</td>\n",
       "    </tr>\n",
       "  </tbody>\n",
       "</table>\n",
       "</div>"
      ],
      "text/plain": [
       "                                                             doc_str  \\\n",
       "book_num chap_num                                                      \n",
       "0        0         chapter number four proud perfectly normal tha...   \n",
       "         1         chapter nearly ten years passed since woken fi...   \n",
       "         2         chapter escape brazilian boa constrictor earne...   \n",
       "         3         chapter four knocked jerked awake 's cannon st...   \n",
       "         4         chapter five woke early next morning although ...   \n",
       "\n",
       "                   term_count        tf  \n",
       "book_num chap_num                        \n",
       "0        0               1937  0.004325  \n",
       "         1               1445  0.003227  \n",
       "         2               1650  0.003684  \n",
       "         3               1570  0.003506  \n",
       "         4               2914  0.006507  "
      ]
     },
     "execution_count": 102,
     "metadata": {},
     "output_type": "execute_result"
    }
   ],
   "source": [
    "D.head()"
   ]
  },
  {
   "cell_type": "code",
   "execution_count": 109,
   "metadata": {},
   "outputs": [
    {
     "data": {
      "text/plain": [
       "doc_str       chapter 's sprinted boys dormitories fetch 's ...\n",
       "term_count                                                 3044\n",
       "tf                                                   0.00679718\n",
       "Name: (4, 19), dtype: object"
      ]
     },
     "execution_count": 109,
     "metadata": {},
     "output_type": "execute_result"
    }
   ],
   "source": [
    "D.loc[(4, 19)]"
   ]
  },
  {
   "cell_type": "code",
   "execution_count": 110,
   "metadata": {
    "colab_type": "text",
    "id": "I4v4ynI3Gy6q"
   },
   "outputs": [
    {
     "data": {
      "text/plain": [
       "doc_str       grawp story 's flight freedom retold often nex...\n",
       "term_count                                                 3767\n",
       "tf                                                   0.00841162\n",
       "Name: (4, 29), dtype: object"
      ]
     },
     "execution_count": 110,
     "metadata": {},
     "output_type": "execute_result"
    }
   ],
   "source": [
    "D.loc[(4, 29)]"
   ]
  },
  {
   "cell_type": "markdown",
   "metadata": {
    "colab_type": "text",
    "id": "I4v4ynI3Gy6q"
   },
   "source": [
    "# Compare Significant Words \n",
    "\n",
    "We look at distributions of words over chapters. Note, we are not comparing word vectors per se -- we are looking at sequences of words, which has not been discussed in the literature. "
   ]
  },
  {
   "cell_type": "code",
   "execution_count": 113,
   "metadata": {},
   "outputs": [],
   "source": [
    "def get_term_id(vocab, term_str):\n",
    "    return vocab[vocab.term_str == term_str].index[0]\n",
    "\n",
    "def get_term_str(vocab, term_id):\n",
    "    return vocab.loc[term_id].term_str"
   ]
  },
  {
   "cell_type": "code",
   "execution_count": 111,
   "metadata": {
    "colab": {},
    "colab_type": "code",
    "id": "f_2di2sRmvM8"
   },
   "outputs": [],
   "source": [
    "import matplotlib.pyplot as plt"
   ]
  },
  {
   "cell_type": "code",
   "execution_count": 119,
   "metadata": {
    "colab": {
     "base_uri": "https://localhost:8080/",
     "height": 640
    },
    "colab_type": "code",
    "id": "Zzr5ec2MzDEo",
    "outputId": "c1d1d4dd-05c4-44b9-dcef-845145e96a5c"
   },
   "outputs": [
    {
     "data": {
      "image/png": "[encoded data removed]",
      "text/plain": [
       "<Figure size 1080x720 with 8 Axes>"
      ]
     },
     "metadata": {},
     "output_type": "display_data"
    }
   ],
   "source": [
    "FIG = dict(figsize=(15,10))\n",
    "fig, axes = plt.subplots(nrows=4, ncols=2)\n",
    "for i, w in enumerate('horcruxes voldemort'.split()):\n",
    "    W = get_term_id(V, w)\n",
    "    DTM[W].plot(**FIG, ax=axes[0, i], title=\"DTM {}\".format(w))\n",
    "    TF[W].plot(**FIG, ax=axes[1, i], title=\"TF {}\".format(w))\n",
    "    TFIDF[W].plot(**FIG, ax=axes[2, i], title=\"TFIDF {}\".format(w))\n",
    "    TFTH[W].plot(**FIG, ax=axes[3, i], title=\"TFTH {}\".format(w))\n",
    "fig.subplots_adjust(hspace=.75)"
   ]
  },
  {
   "cell_type": "code",
   "execution_count": null,
   "metadata": {},
   "outputs": [],
   "source": []
  }
 ],
 "metadata": {
  "colab": {
   "collapsed_sections": [],
   "name": "DS5559_VSM.ipynb",
   "provenance": [],
   "toc_visible": true,
   "version": "0.3.2"
  },
  "kernelspec": {
   "display_name": "Python 3",
   "language": "python",
   "name": "python3"
  },
  "language_info": {
   "codemirror_mode": {
    "name": "ipython",
    "version": 3
   },
   "file_extension": ".py",
   "mimetype": "text/x-python",
   "name": "python",
   "nbconvert_exporter": "python",
   "pygments_lexer": "ipython3",
   "version": "3.6.6"
  }
 },
 "nbformat": 4,
 "nbformat_minor": 2
}
