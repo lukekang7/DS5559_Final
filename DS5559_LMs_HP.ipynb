{
 "cells": [
  {
   "cell_type": "markdown",
   "metadata": {
    "colab_type": "text",
    "id": "Ai-gvPnADykO",
    "toc-hr-collapsed": true
   },
   "source": [
    "# Overview\n",
    "\n",
    "We now create a series of langage models and evaluate them."
   ]
  },
  {
   "cell_type": "markdown",
   "metadata": {
    "colab_type": "text",
    "id": "-5x8B8RODykY",
    "toc-hr-collapsed": true
   },
   "source": [
    "# Define Functions"
   ]
  },
  {
   "cell_type": "code",
   "execution_count": 10,
   "metadata": {
    "colab": {},
    "colab_type": "code",
    "id": "MwrVU8kZDykb"
   },
   "outputs": [],
   "source": [
    "import pandas as pd\n",
    "import numpy as np\n",
    "import sqlite3\n",
    "import textman as tx\n",
    "import matplotlib.pyplot as plt\n",
    "import seaborn as sns; sns.set()\n",
    "%matplotlib inline"
   ]
  },
  {
   "cell_type": "code",
   "execution_count": 11,
   "metadata": {
    "colab": {
     "base_uri": "https://localhost:8080/",
     "height": 35
    },
    "colab_type": "code",
    "id": "pq6NZb3R8i_H",
    "outputId": "0d004865-1b35-4d2e-fea5-f140f0943979"
   },
   "outputs": [
    {
     "data": {
      "text/plain": [
       "'0.23.4'"
      ]
     },
     "execution_count": 11,
     "metadata": {},
     "output_type": "execute_result"
    }
   ],
   "source": [
    "pd.__version__"
   ]
  },
  {
   "cell_type": "code",
   "execution_count": 12,
   "metadata": {
    "colab": {},
    "colab_type": "code",
    "id": "Fb3ZsuIsDykn"
   },
   "outputs": [
    {
     "name": "stdout",
     "output_type": "stream",
     "text": [
      "[['book_num', 'chap_num', 'para_num', 'sent_num']]\n"
     ]
    }
   ],
   "source": [
    "OHCO = ['book_num','chap_num', 'para_num', 'sent_num', 'token_num']\n",
    "print([OHCO[:4]])"
   ]
  },
  {
   "cell_type": "code",
   "execution_count": 13,
   "metadata": {
    "colab": {},
    "colab_type": "code",
    "id": "Fb3ZsuIsDykn"
   },
   "outputs": [],
   "source": [
    "def text_to_tokens(src_file,\n",
    "                   body_start=0, \n",
    "                   body_end=-1, \n",
    "                   chap_pat=r'^\\s*Chapter.*$', \n",
    "                   para_pat=r'\\n\\n+', \n",
    "                   sent_pat=r'([.;?!\"“”]+)', \n",
    "                   token_pat=r'([\\W_]+)'):\n",
    "\n",
    "    # Text to lines\n",
    "    lines = open(src_file, 'r', encoding='utf-8').readlines()\n",
    "    lines = lines[body_start - 1 : body_end + 1]\n",
    "    df = pd.DataFrame({'line_str':lines})\n",
    "    df.index.name = 'line_id'\n",
    "    del(lines)\n",
    "\n",
    "    # Lines to Chapters\n",
    "    mask = df.line_str.str.match(chap_pat)\n",
    "    df.loc[mask, 'chap_id'] = df.apply(lambda x: x.name, 1)\n",
    "    df.chap_id = df.chap_id.ffill().astype('int')\n",
    "    chap_ids = df.chap_id.unique().tolist()\n",
    "    df['chap_num'] = df.chap_id.apply(lambda x: chap_ids.index(x))\n",
    "    chaps = df.groupby('chap_num')\\\n",
    "        .apply(lambda x: ''.join(x.line_str))\\\n",
    "        .to_frame()\\\n",
    "        .rename(columns={0:'chap_str'})\n",
    "    del(df)\n",
    "\n",
    "    # Chapters to Paragraphs\n",
    "    paras = chaps.chap_str.str.split(para_pat, expand=True)\\\n",
    "        .stack()\\\n",
    "        .to_frame()\\\n",
    "        .rename(columns={0:'para_str'})\n",
    "    paras.index.names = OHCO[:2] #['chap_num', 'para_num']\n",
    "    paras.para_str = paras.para_str.str.strip()\n",
    "    paras.para_str = paras.para_str.str.replace(r'\\n', ' ')\n",
    "    paras.para_str = paras.para_str.str.replace(r'\\s+', ' ')\n",
    "    paras = paras[~paras.para_str.str.match(r'^\\s*$')]\n",
    "    del(chaps)\n",
    "\n",
    "    # Paragraphs to Sentences\n",
    "    sents = paras.para_str.str.split(sent_pat, expand=True)\\\n",
    "        .stack()\\\n",
    "        .to_frame()\\\n",
    "        .rename(columns={0:'sent_str'})\n",
    "    sents.index.names = OHCO[:3] #['chap_num', 'para_num', 'sent_num']\n",
    "    del(paras)\n",
    "\n",
    "    # Sentences to Tokens\n",
    "    tokens = sents.sent_str.str.split(token_pat, expand=True)\\\n",
    "        .stack()\\\n",
    "        .to_frame()\\\n",
    "        .rename(columns={0:'token_str'})\n",
    "    tokens.index.names = OHCO #['chap_num', 'para_num', 'sent_num', 'token_num']\n",
    "    del(sents)\n",
    "\n",
    "    # Tag punction\n",
    "    tokens['punc'] = tokens.token_str.str.match(r'^[\\W_]*$').astype('int')\n",
    "    tokens['num'] = tokens.token_str.str.match(r'\\d').astype('int')\n",
    "    \n",
    "    # Extract vocab\n",
    "    WORDS = (tokens.punc == 0) & (tokens.num == 0)\n",
    "    tokens.loc[WORDS, 'term_str'] = tokens.token_str.str.lower()\n",
    "    vocab = tokens[tokens.punc == 0].term_str.value_counts().to_frame()\\\n",
    "        .reset_index()\\\n",
    "        .rename(columns={'index':'term_str', 'term_str':'n'})\n",
    "    vocab = vocab.sort_values('term_str').reset_index()\n",
    "    vocab.index.name = 'term_id'\n",
    "    vocab = vocab.drop('index', 1)\n",
    "        \n",
    "    # Add term_ids to tokens \n",
    "    tokens['term_id'] = tokens['term_str'].map(vocab.reset_index()\\\n",
    "        .set_index('term_str').term_id).fillna(-1).astype('int')\n",
    "\n",
    "    return tokens, vocab\n",
    "\n",
    "def get_docs(tokens, div_names, doc_str = 'term_id', sep='', flatten=False, \n",
    "             index_only=False):\n",
    "    \n",
    "    if not index_only:\n",
    "        docs = tokens.groupby(div_names)[doc_str]\\\n",
    "          .apply(lambda x: x.str.cat(sep=sep))\n",
    "        docs.columns = ['doc_content']\n",
    "    else:\n",
    "        docs = tokens.groupby(div_names)[doc_str].apply(lambda x: x.tolist())\n",
    "\n",
    "    if flatten:\n",
    "        docs = docs.reset_index().drop(div_names, 1)\n",
    "    \n",
    "    return docs\n",
    "\n",
    "def get_term_id(vocab, term_str):\n",
    "    return vocab[vocab.term_str == term_str].index[0]\n",
    "\n",
    "def get_term_str(vocab, term_id):\n",
    "    return vocab.loc[term_id].term_str"
   ]
  },
  {
   "cell_type": "markdown",
   "metadata": {
    "colab_type": "text",
    "id": "5zoljChdDykw",
    "toc-hr-collapsed": false
   },
   "source": [
    "# Import Tokens"
   ]
  },
  {
   "cell_type": "code",
   "execution_count": 14,
   "metadata": {},
   "outputs": [],
   "source": [
    "max_words = 10000000\n",
    "corpus_db = \"/sfs/qumulo/qhome/sk5be/DS5559/HarryPotter.db\"\n",
    "sql = \"\"\"\n",
    "SELECT * FROM token \n",
    "WHERE term_id IN (\n",
    "    SELECT term_id FROM vocab \n",
    "    WHERE stop = 0 \n",
    "    AND term_str NOT IN ('said')\n",
    ")\n",
    "AND (pos NOT LIKE 'NNP%')\n",
    "\"\"\".format(max_words)\n",
    "sql_vocab = \"\"\"\n",
    "SELECT * FROM vocab \"\"\".format(max_words)"
   ]
  },
  {
   "cell_type": "code",
   "execution_count": 15,
   "metadata": {},
   "outputs": [],
   "source": [
    "with sqlite3.connect(corpus_db) as db:\n",
    "    tokens = pd.read_sql(sql,db)"
   ]
  },
  {
   "cell_type": "code",
   "execution_count": 16,
   "metadata": {},
   "outputs": [],
   "source": [
    "with sqlite3.connect(corpus_db) as db:\n",
    "    vocab = pd.read_sql(sql_vocab,db)"
   ]
  },
  {
   "cell_type": "code",
   "execution_count": 17,
   "metadata": {},
   "outputs": [],
   "source": [
    "V = vocab.copy()\n",
    "K = tokens.copy()"
   ]
  },
  {
   "cell_type": "code",
   "execution_count": 19,
   "metadata": {
    "colab": {
     "base_uri": "https://localhost:8080/",
     "height": 226
    },
    "colab_type": "code",
    "id": "3iYsuby6FYYR",
    "outputId": "4218cf55-350f-474f-9d73-45035ab9dbd7"
   },
   "outputs": [
    {
     "data": {
      "text/html": [
       "<div>\n",
       "<style scoped>\n",
       "    .dataframe tbody tr th:only-of-type {\n",
       "        vertical-align: middle;\n",
       "    }\n",
       "\n",
       "    .dataframe tbody tr th {\n",
       "        vertical-align: top;\n",
       "    }\n",
       "\n",
       "    .dataframe thead th {\n",
       "        text-align: right;\n",
       "    }\n",
       "</style>\n",
       "<table border=\"1\" class=\"dataframe\">\n",
       "  <thead>\n",
       "    <tr style=\"text-align: right;\">\n",
       "      <th></th>\n",
       "      <th>term_id</th>\n",
       "      <th>term_str</th>\n",
       "      <th>n</th>\n",
       "      <th>p</th>\n",
       "      <th>port_stem</th>\n",
       "      <th>stop</th>\n",
       "      <th>df</th>\n",
       "      <th>tf_sum</th>\n",
       "      <th>tf_mean</th>\n",
       "      <th>tf_max</th>\n",
       "      <th>tfidf_sum</th>\n",
       "      <th>tfidf_mean</th>\n",
       "      <th>tfidf_max</th>\n",
       "      <th>tfth_sum</th>\n",
       "      <th>tfth_mean</th>\n",
       "      <th>tfth_max</th>\n",
       "      <th>th_sum</th>\n",
       "      <th>th_mean</th>\n",
       "      <th>th_max</th>\n",
       "      <th>idf</th>\n",
       "    </tr>\n",
       "  </thead>\n",
       "  <tbody>\n",
       "    <tr>\n",
       "      <th>0</th>\n",
       "      <td>0</td>\n",
       "      <td>''just</td>\n",
       "      <td>1</td>\n",
       "      <td>8.912283e-07</td>\n",
       "      <td>''just</td>\n",
       "      <td>0</td>\n",
       "      <td>1</td>\n",
       "      <td>0.000246</td>\n",
       "      <td>0.000001</td>\n",
       "      <td>0.000246</td>\n",
       "      <td>2.298853</td>\n",
       "      <td>0.011552</td>\n",
       "      <td>2.298853</td>\n",
       "      <td>7.236781e-07</td>\n",
       "      <td>3.636573e-09</td>\n",
       "      <td>7.234508e-07</td>\n",
       "      <td>0.002947</td>\n",
       "      <td>0.000015</td>\n",
       "      <td>0.002944</td>\n",
       "      <td>2.298853</td>\n",
       "    </tr>\n",
       "    <tr>\n",
       "      <th>1</th>\n",
       "      <td>1</td>\n",
       "      <td>''professor</td>\n",
       "      <td>1</td>\n",
       "      <td>8.912283e-07</td>\n",
       "      <td>''professor</td>\n",
       "      <td>0</td>\n",
       "      <td>1</td>\n",
       "      <td>0.000332</td>\n",
       "      <td>0.000002</td>\n",
       "      <td>0.000332</td>\n",
       "      <td>2.298853</td>\n",
       "      <td>0.011552</td>\n",
       "      <td>2.298853</td>\n",
       "      <td>1.273337e-06</td>\n",
       "      <td>6.398678e-09</td>\n",
       "      <td>1.273041e-06</td>\n",
       "      <td>0.003837</td>\n",
       "      <td>0.000019</td>\n",
       "      <td>0.003835</td>\n",
       "      <td>2.298853</td>\n",
       "    </tr>\n",
       "    <tr>\n",
       "      <th>2</th>\n",
       "      <td>2</td>\n",
       "      <td>''was</td>\n",
       "      <td>1</td>\n",
       "      <td>8.912283e-07</td>\n",
       "      <td>''wa</td>\n",
       "      <td>0</td>\n",
       "      <td>1</td>\n",
       "      <td>0.000465</td>\n",
       "      <td>0.000002</td>\n",
       "      <td>0.000464</td>\n",
       "      <td>2.298853</td>\n",
       "      <td>0.011552</td>\n",
       "      <td>2.298853</td>\n",
       "      <td>2.390064e-06</td>\n",
       "      <td>1.201037e-08</td>\n",
       "      <td>2.389668e-06</td>\n",
       "      <td>0.005145</td>\n",
       "      <td>0.000026</td>\n",
       "      <td>0.005143</td>\n",
       "      <td>2.298853</td>\n",
       "    </tr>\n",
       "    <tr>\n",
       "      <th>3</th>\n",
       "      <td>3</td>\n",
       "      <td>'a</td>\n",
       "      <td>52</td>\n",
       "      <td>4.634387e-05</td>\n",
       "      <td>'a</td>\n",
       "      <td>0</td>\n",
       "      <td>30</td>\n",
       "      <td>0.015691</td>\n",
       "      <td>0.000079</td>\n",
       "      <td>0.002221</td>\n",
       "      <td>42.730055</td>\n",
       "      <td>0.214724</td>\n",
       "      <td>4.108659</td>\n",
       "      <td>2.613530e-03</td>\n",
       "      <td>1.313332e-05</td>\n",
       "      <td>3.699704e-04</td>\n",
       "      <td>0.166562</td>\n",
       "      <td>0.000837</td>\n",
       "      <td>0.019579</td>\n",
       "      <td>0.821732</td>\n",
       "    </tr>\n",
       "    <tr>\n",
       "      <th>4</th>\n",
       "      <td>4</td>\n",
       "      <td>'aaaaaah</td>\n",
       "      <td>1</td>\n",
       "      <td>8.912283e-07</td>\n",
       "      <td>'aaaaaah</td>\n",
       "      <td>0</td>\n",
       "      <td>1</td>\n",
       "      <td>0.000496</td>\n",
       "      <td>0.000002</td>\n",
       "      <td>0.000496</td>\n",
       "      <td>2.298853</td>\n",
       "      <td>0.011552</td>\n",
       "      <td>2.298853</td>\n",
       "      <td>2.697485e-06</td>\n",
       "      <td>1.355520e-08</td>\n",
       "      <td>2.697066e-06</td>\n",
       "      <td>0.005443</td>\n",
       "      <td>0.000027</td>\n",
       "      <td>0.005440</td>\n",
       "      <td>2.298853</td>\n",
       "    </tr>\n",
       "  </tbody>\n",
       "</table>\n",
       "</div>"
      ],
      "text/plain": [
       "   term_id     term_str   n             p    port_stem  stop  df    tf_sum  \\\n",
       "0        0       ''just   1  8.912283e-07       ''just     0   1  0.000246   \n",
       "1        1  ''professor   1  8.912283e-07  ''professor     0   1  0.000332   \n",
       "2        2        ''was   1  8.912283e-07         ''wa     0   1  0.000465   \n",
       "3        3           'a  52  4.634387e-05           'a     0  30  0.015691   \n",
       "4        4     'aaaaaah   1  8.912283e-07     'aaaaaah     0   1  0.000496   \n",
       "\n",
       "    tf_mean    tf_max  tfidf_sum  tfidf_mean  tfidf_max      tfth_sum  \\\n",
       "0  0.000001  0.000246   2.298853    0.011552   2.298853  7.236781e-07   \n",
       "1  0.000002  0.000332   2.298853    0.011552   2.298853  1.273337e-06   \n",
       "2  0.000002  0.000464   2.298853    0.011552   2.298853  2.390064e-06   \n",
       "3  0.000079  0.002221  42.730055    0.214724   4.108659  2.613530e-03   \n",
       "4  0.000002  0.000496   2.298853    0.011552   2.298853  2.697485e-06   \n",
       "\n",
       "      tfth_mean      tfth_max    th_sum   th_mean    th_max       idf  \n",
       "0  3.636573e-09  7.234508e-07  0.002947  0.000015  0.002944  2.298853  \n",
       "1  6.398678e-09  1.273041e-06  0.003837  0.000019  0.003835  2.298853  \n",
       "2  1.201037e-08  2.389668e-06  0.005145  0.000026  0.005143  2.298853  \n",
       "3  1.313332e-05  3.699704e-04  0.166562  0.000837  0.019579  0.821732  \n",
       "4  1.355520e-08  2.697066e-06  0.005443  0.000027  0.005440  2.298853  "
      ]
     },
     "execution_count": 19,
     "metadata": {},
     "output_type": "execute_result"
    }
   ],
   "source": [
    "V.head()"
   ]
  },
  {
   "cell_type": "code",
   "execution_count": 20,
   "metadata": {
    "colab": {
     "base_uri": "https://localhost:8080/",
     "height": 226
    },
    "colab_type": "code",
    "id": "wemHYUiUDyk6",
    "outputId": "1f43b66e-e6cb-4630-c410-4bd2d0698ec8"
   },
   "outputs": [
    {
     "data": {
      "text/html": [
       "<div>\n",
       "<style scoped>\n",
       "    .dataframe tbody tr th:only-of-type {\n",
       "        vertical-align: middle;\n",
       "    }\n",
       "\n",
       "    .dataframe tbody tr th {\n",
       "        vertical-align: top;\n",
       "    }\n",
       "\n",
       "    .dataframe thead th {\n",
       "        text-align: right;\n",
       "    }\n",
       "</style>\n",
       "<table border=\"1\" class=\"dataframe\">\n",
       "  <thead>\n",
       "    <tr style=\"text-align: right;\">\n",
       "      <th></th>\n",
       "      <th>index</th>\n",
       "      <th>book_num</th>\n",
       "      <th>chap_num</th>\n",
       "      <th>para_num</th>\n",
       "      <th>sent_num</th>\n",
       "      <th>token_num</th>\n",
       "      <th>pos</th>\n",
       "      <th>token_str</th>\n",
       "      <th>punc</th>\n",
       "      <th>num</th>\n",
       "      <th>term_str</th>\n",
       "      <th>term_id</th>\n",
       "      <th>author</th>\n",
       "      <th>genre</th>\n",
       "    </tr>\n",
       "  </thead>\n",
       "  <tbody>\n",
       "    <tr>\n",
       "      <th>434506</th>\n",
       "      <td>1087478</td>\n",
       "      <td>6</td>\n",
       "      <td>30</td>\n",
       "      <td>15</td>\n",
       "      <td>8</td>\n",
       "      <td>17</td>\n",
       "      <td>VB</td>\n",
       "      <td>speak</td>\n",
       "      <td>0</td>\n",
       "      <td>0</td>\n",
       "      <td>speak</td>\n",
       "      <td>19354</td>\n",
       "      <td>J.K.Rowling</td>\n",
       "      <td>Fantasy</td>\n",
       "    </tr>\n",
       "    <tr>\n",
       "      <th>87429</th>\n",
       "      <td>222993</td>\n",
       "      <td>2</td>\n",
       "      <td>10</td>\n",
       "      <td>67</td>\n",
       "      <td>4</td>\n",
       "      <td>2</td>\n",
       "      <td>NN</td>\n",
       "      <td>fellowship</td>\n",
       "      <td>0</td>\n",
       "      <td>0</td>\n",
       "      <td>fellowship</td>\n",
       "      <td>8205</td>\n",
       "      <td>J.K.Rowling</td>\n",
       "      <td>Fantasy</td>\n",
       "    </tr>\n",
       "    <tr>\n",
       "      <th>58635</th>\n",
       "      <td>150199</td>\n",
       "      <td>1</td>\n",
       "      <td>14</td>\n",
       "      <td>3</td>\n",
       "      <td>5</td>\n",
       "      <td>31</td>\n",
       "      <td>JJ</td>\n",
       "      <td>irritated</td>\n",
       "      <td>0</td>\n",
       "      <td>0</td>\n",
       "      <td>irritated</td>\n",
       "      <td>11536</td>\n",
       "      <td>J.K.Rowling</td>\n",
       "      <td>Fantasy</td>\n",
       "    </tr>\n",
       "    <tr>\n",
       "      <th>181343</th>\n",
       "      <td>457681</td>\n",
       "      <td>3</td>\n",
       "      <td>34</td>\n",
       "      <td>1</td>\n",
       "      <td>57</td>\n",
       "      <td>2</td>\n",
       "      <td>VBD</td>\n",
       "      <td>wanted</td>\n",
       "      <td>0</td>\n",
       "      <td>0</td>\n",
       "      <td>wanted</td>\n",
       "      <td>22828</td>\n",
       "      <td>J.K.Rowling</td>\n",
       "      <td>Fantasy</td>\n",
       "    </tr>\n",
       "    <tr>\n",
       "      <th>435016</th>\n",
       "      <td>1088761</td>\n",
       "      <td>6</td>\n",
       "      <td>30</td>\n",
       "      <td>17</td>\n",
       "      <td>15</td>\n",
       "      <td>33</td>\n",
       "      <td>VBN</td>\n",
       "      <td>charred</td>\n",
       "      <td>0</td>\n",
       "      <td>0</td>\n",
       "      <td>charred</td>\n",
       "      <td>4187</td>\n",
       "      <td>J.K.Rowling</td>\n",
       "      <td>Fantasy</td>\n",
       "    </tr>\n",
       "  </tbody>\n",
       "</table>\n",
       "</div>"
      ],
      "text/plain": [
       "          index  book_num  chap_num  para_num  sent_num  token_num  pos  \\\n",
       "434506  1087478         6        30        15         8         17   VB   \n",
       "87429    222993         2        10        67         4          2   NN   \n",
       "58635    150199         1        14         3         5         31   JJ   \n",
       "181343   457681         3        34         1        57          2  VBD   \n",
       "435016  1088761         6        30        17        15         33  VBN   \n",
       "\n",
       "         token_str  punc  num    term_str  term_id       author    genre  \n",
       "434506       speak     0    0       speak    19354  J.K.Rowling  Fantasy  \n",
       "87429   fellowship     0    0  fellowship     8205  J.K.Rowling  Fantasy  \n",
       "58635    irritated     0    0   irritated    11536  J.K.Rowling  Fantasy  \n",
       "181343      wanted     0    0      wanted    22828  J.K.Rowling  Fantasy  \n",
       "435016     charred     0    0     charred     4187  J.K.Rowling  Fantasy  "
      ]
     },
     "execution_count": 20,
     "metadata": {},
     "output_type": "execute_result"
    }
   ],
   "source": [
    "K.sample(5)"
   ]
  },
  {
   "cell_type": "markdown",
   "metadata": {
    "colab_type": "text",
    "id": "NfMtOiCYDylX",
    "toc-hr-collapsed": false
   },
   "source": [
    "# Buld N-Gram models"
   ]
  },
  {
   "cell_type": "markdown",
   "metadata": {
    "colab_type": "text",
    "id": "Bhk6fS1ODyla"
   },
   "source": [
    "## Create training and test sets from K"
   ]
  },
  {
   "cell_type": "code",
   "execution_count": 16,
   "metadata": {
    "cellView": "both",
    "colab": {},
    "colab_type": "code",
    "id": "ZKDltUMUDyld"
   },
   "outputs": [],
   "source": [
    "G = K.groupby(OHCO[:4])\\\n",
    "  .apply(lambda x: np.random.choice(['train', 'test'], p=[.8, .2]))\\\n",
    "  .to_frame().rename(columns={0:'group'})"
   ]
  },
  {
   "cell_type": "code",
   "execution_count": 17,
   "metadata": {
    "colab": {},
    "colab_type": "code",
    "id": "9Bg6VHZK_I4V"
   },
   "outputs": [],
   "source": [
    "K = pd.merge(K.reset_index(), G.reset_index(), on=OHCO[:4], how='left')\n",
    "K = K.set_index(OHCO, drop=True)"
   ]
  },
  {
   "cell_type": "code",
   "execution_count": 18,
   "metadata": {
    "colab": {
     "base_uri": "https://localhost:8080/",
     "height": 226
    },
    "colab_type": "code",
    "id": "HpqK5t4x5fKT",
    "outputId": "e3ab064f-5cf6-449f-b1bb-e11e16c59152"
   },
   "outputs": [
    {
     "data": {
      "text/html": [
       "<div>\n",
       "<style scoped>\n",
       "    .dataframe tbody tr th:only-of-type {\n",
       "        vertical-align: middle;\n",
       "    }\n",
       "\n",
       "    .dataframe tbody tr th {\n",
       "        vertical-align: top;\n",
       "    }\n",
       "\n",
       "    .dataframe thead th {\n",
       "        text-align: right;\n",
       "    }\n",
       "</style>\n",
       "<table border=\"1\" class=\"dataframe\">\n",
       "  <thead>\n",
       "    <tr style=\"text-align: right;\">\n",
       "      <th></th>\n",
       "      <th></th>\n",
       "      <th></th>\n",
       "      <th></th>\n",
       "      <th></th>\n",
       "      <th>index</th>\n",
       "      <th>pos</th>\n",
       "      <th>token_str</th>\n",
       "      <th>punc</th>\n",
       "      <th>num</th>\n",
       "      <th>term_str</th>\n",
       "      <th>term_id</th>\n",
       "      <th>group</th>\n",
       "    </tr>\n",
       "    <tr>\n",
       "      <th>book_num</th>\n",
       "      <th>chap_num</th>\n",
       "      <th>para_num</th>\n",
       "      <th>sent_num</th>\n",
       "      <th>token_num</th>\n",
       "      <th></th>\n",
       "      <th></th>\n",
       "      <th></th>\n",
       "      <th></th>\n",
       "      <th></th>\n",
       "      <th></th>\n",
       "      <th></th>\n",
       "      <th></th>\n",
       "    </tr>\n",
       "  </thead>\n",
       "  <tbody>\n",
       "    <tr>\n",
       "      <th rowspan=\"5\" valign=\"top\">0</th>\n",
       "      <th rowspan=\"5\" valign=\"top\">0</th>\n",
       "      <th>0</th>\n",
       "      <th>0</th>\n",
       "      <th>0</th>\n",
       "      <td>0</td>\n",
       "      <td>NN</td>\n",
       "      <td>CHAPTER</td>\n",
       "      <td>0</td>\n",
       "      <td>0</td>\n",
       "      <td>chapter</td>\n",
       "      <td>4164</td>\n",
       "      <td>test</td>\n",
       "    </tr>\n",
       "    <tr>\n",
       "      <th rowspan=\"4\" valign=\"top\">2</th>\n",
       "      <th rowspan=\"4\" valign=\"top\">0</th>\n",
       "      <th>6</th>\n",
       "      <td>1</td>\n",
       "      <td>NN</td>\n",
       "      <td>number</td>\n",
       "      <td>0</td>\n",
       "      <td>0</td>\n",
       "      <td>number</td>\n",
       "      <td>14134</td>\n",
       "      <td>test</td>\n",
       "    </tr>\n",
       "    <tr>\n",
       "      <th>7</th>\n",
       "      <td>2</td>\n",
       "      <td>CD</td>\n",
       "      <td>four</td>\n",
       "      <td>0</td>\n",
       "      <td>0</td>\n",
       "      <td>four</td>\n",
       "      <td>8850</td>\n",
       "      <td>test</td>\n",
       "    </tr>\n",
       "    <tr>\n",
       "      <th>13</th>\n",
       "      <td>3</td>\n",
       "      <td>JJ</td>\n",
       "      <td>proud</td>\n",
       "      <td>0</td>\n",
       "      <td>0</td>\n",
       "      <td>proud</td>\n",
       "      <td>16076</td>\n",
       "      <td>test</td>\n",
       "    </tr>\n",
       "    <tr>\n",
       "      <th>19</th>\n",
       "      <td>4</td>\n",
       "      <td>RB</td>\n",
       "      <td>perfectly</td>\n",
       "      <td>0</td>\n",
       "      <td>0</td>\n",
       "      <td>perfectly</td>\n",
       "      <td>15107</td>\n",
       "      <td>test</td>\n",
       "    </tr>\n",
       "  </tbody>\n",
       "</table>\n",
       "</div>"
      ],
      "text/plain": [
       "                                               index pos  token_str  punc  \\\n",
       "book_num chap_num para_num sent_num token_num                               \n",
       "0        0        0        0        0              0  NN    CHAPTER     0   \n",
       "                  2        0        6              1  NN     number     0   \n",
       "                                    7              2  CD       four     0   \n",
       "                                    13             3  JJ      proud     0   \n",
       "                                    19             4  RB  perfectly     0   \n",
       "\n",
       "                                               num   term_str  term_id group  \n",
       "book_num chap_num para_num sent_num token_num                                 \n",
       "0        0        0        0        0            0    chapter     4164  test  \n",
       "                  2        0        6            0     number    14134  test  \n",
       "                                    7            0       four     8850  test  \n",
       "                                    13           0      proud    16076  test  \n",
       "                                    19           0  perfectly    15107  test  "
      ]
     },
     "execution_count": 18,
     "metadata": {},
     "output_type": "execute_result"
    }
   ],
   "source": [
    "K.head()"
   ]
  },
  {
   "cell_type": "code",
   "execution_count": 43,
   "metadata": {
    "colab": {},
    "colab_type": "code",
    "id": "084PemWKDylm"
   },
   "outputs": [],
   "source": [
    "TRAIN = K.groupby('group').get_group('train')\n",
    "TEST = K.groupby('group').get_group('test')"
   ]
  },
  {
   "cell_type": "code",
   "execution_count": 68,
   "metadata": {},
   "outputs": [
    {
     "data": {
      "text/html": [
       "<div>\n",
       "<style scoped>\n",
       "    .dataframe tbody tr th:only-of-type {\n",
       "        vertical-align: middle;\n",
       "    }\n",
       "\n",
       "    .dataframe tbody tr th {\n",
       "        vertical-align: top;\n",
       "    }\n",
       "\n",
       "    .dataframe thead th {\n",
       "        text-align: right;\n",
       "    }\n",
       "</style>\n",
       "<table border=\"1\" class=\"dataframe\">\n",
       "  <thead>\n",
       "    <tr style=\"text-align: right;\">\n",
       "      <th></th>\n",
       "      <th></th>\n",
       "      <th></th>\n",
       "      <th></th>\n",
       "      <th></th>\n",
       "      <th>index</th>\n",
       "      <th>pos</th>\n",
       "      <th>token_str</th>\n",
       "      <th>punc</th>\n",
       "      <th>num</th>\n",
       "      <th>term_str</th>\n",
       "      <th>term_id</th>\n",
       "      <th>group</th>\n",
       "    </tr>\n",
       "    <tr>\n",
       "      <th>book_num</th>\n",
       "      <th>chap_num</th>\n",
       "      <th>para_num</th>\n",
       "      <th>sent_num</th>\n",
       "      <th>token_num</th>\n",
       "      <th></th>\n",
       "      <th></th>\n",
       "      <th></th>\n",
       "      <th></th>\n",
       "      <th></th>\n",
       "      <th></th>\n",
       "      <th></th>\n",
       "      <th></th>\n",
       "    </tr>\n",
       "  </thead>\n",
       "  <tbody>\n",
       "    <tr>\n",
       "      <th rowspan=\"5\" valign=\"top\">0</th>\n",
       "      <th rowspan=\"5\" valign=\"top\">0</th>\n",
       "      <th rowspan=\"5\" valign=\"top\">2</th>\n",
       "      <th rowspan=\"5\" valign=\"top\">1</th>\n",
       "      <th>3</th>\n",
       "      <td>7</td>\n",
       "      <td>JJ</td>\n",
       "      <td>last</td>\n",
       "      <td>0</td>\n",
       "      <td>0</td>\n",
       "      <td>last</td>\n",
       "      <td>12056</td>\n",
       "      <td>train</td>\n",
       "    </tr>\n",
       "    <tr>\n",
       "      <th>4</th>\n",
       "      <td>8</td>\n",
       "      <td>NNS</td>\n",
       "      <td>people</td>\n",
       "      <td>0</td>\n",
       "      <td>0</td>\n",
       "      <td>people</td>\n",
       "      <td>15072</td>\n",
       "      <td>train</td>\n",
       "    </tr>\n",
       "    <tr>\n",
       "      <th>6</th>\n",
       "      <td>9</td>\n",
       "      <td>MD</td>\n",
       "      <td>'d</td>\n",
       "      <td>0</td>\n",
       "      <td>0</td>\n",
       "      <td>'d</td>\n",
       "      <td>218</td>\n",
       "      <td>train</td>\n",
       "    </tr>\n",
       "    <tr>\n",
       "      <th>7</th>\n",
       "      <td>10</td>\n",
       "      <td>VB</td>\n",
       "      <td>expect</td>\n",
       "      <td>0</td>\n",
       "      <td>0</td>\n",
       "      <td>expect</td>\n",
       "      <td>7842</td>\n",
       "      <td>train</td>\n",
       "    </tr>\n",
       "    <tr>\n",
       "      <th>10</th>\n",
       "      <td>11</td>\n",
       "      <td>VBN</td>\n",
       "      <td>involved</td>\n",
       "      <td>0</td>\n",
       "      <td>0</td>\n",
       "      <td>involved</td>\n",
       "      <td>11491</td>\n",
       "      <td>train</td>\n",
       "    </tr>\n",
       "  </tbody>\n",
       "</table>\n",
       "</div>"
      ],
      "text/plain": [
       "                                               index  pos token_str  punc  \\\n",
       "book_num chap_num para_num sent_num token_num                               \n",
       "0        0        2        1        3              7   JJ      last     0   \n",
       "                                    4              8  NNS    people     0   \n",
       "                                    6              9   MD        'd     0   \n",
       "                                    7             10   VB    expect     0   \n",
       "                                    10            11  VBN  involved     0   \n",
       "\n",
       "                                               num  term_str  term_id  group  \n",
       "book_num chap_num para_num sent_num token_num                                 \n",
       "0        0        2        1        3            0      last    12056  train  \n",
       "                                    4            0    people    15072  train  \n",
       "                                    6            0        'd      218  train  \n",
       "                                    7            0    expect     7842  train  \n",
       "                                    10           0  involved    11491  train  "
      ]
     },
     "execution_count": 68,
     "metadata": {},
     "output_type": "execute_result"
    }
   ],
   "source": [
    "TRAIN_1 = TRAIN.query('book_num == \"0\"')\n",
    "TEST_1 = TEST.query('book_num == \"0\"')\n",
    "TRAIN_1.head()"
   ]
  },
  {
   "cell_type": "markdown",
   "metadata": {
    "colab_type": "text",
    "id": "KpAXch1KDylw"
   },
   "source": [
    "## Create n-gram tables"
   ]
  },
  {
   "cell_type": "markdown",
   "metadata": {
    "colab_type": "text",
    "id": "-TrWBSpJd3x6"
   },
   "source": [
    "### Define function"
   ]
  },
  {
   "cell_type": "code",
   "execution_count": 69,
   "metadata": {
    "colab": {},
    "colab_type": "code",
    "id": "cPUTfjSDDylz"
   },
   "outputs": [],
   "source": [
    "def get_ngrams(tokens, n=2):\n",
    "    \n",
    "    # Create list to store copies of tokens table\n",
    "    X = []\n",
    "    \n",
    "    # Add tokens without punc to list\n",
    "    # Note: we assume that tokens has an OHC) multiindex\n",
    "    X.append(tokens.loc[tokens.punc==0, 'term_str'].reset_index())\n",
    "    \n",
    "    # Normalize the sequence number for token numbers for offsetting operation\n",
    "    # Note: we assume that punc removal leaves a number series with regular gaps\n",
    "    X[0]['token_num'] = (X[0]['token_num'] / 2) \n",
    "    X[0]['token_num'] = X[0]['token_num'].astype('int')\n",
    "    \n",
    "    # Create copies of token table for each level of ngram, offset by 1, and \n",
    "    # merge with previous\n",
    "    IDX = ['book_num','chap_num', 'para_num', 'sent_num', 'token_num'] \n",
    "    for i in range(1, n):\n",
    "        X.append(X[0].copy())\n",
    "        X[i]['token_num'] = X[i]['token_num'] + i\n",
    "        X[i] = X[i].merge(X[i-1], on=IDX, how='left', sort=True).fillna('<s>')\n",
    "        \n",
    "    # Compress tables to unique ngrams with counts\n",
    "    for i in range(0, n):\n",
    "        X[i] = X[i].drop(IDX, 1)\n",
    "        cols = X[i].columns.tolist()\n",
    "        X[i]['n'] = 0\n",
    "        X[i] = X[i].groupby(cols).n.apply(lambda x: x.count()).to_frame()\n",
    "        X[i].index.names = ['w{}'.format(j) for j in range(i+1)]\n",
    "    \n",
    "    # Return just the ngram tables\n",
    "    return X"
   ]
  },
  {
   "cell_type": "markdown",
   "metadata": {
    "colab_type": "text",
    "id": "qqlAiq-6d9Vl"
   },
   "source": [
    "### Apply function to training and test sets"
   ]
  },
  {
   "cell_type": "code",
   "execution_count": 70,
   "metadata": {
    "colab": {},
    "colab_type": "code",
    "id": "_aQs_gk_Dyl7"
   },
   "outputs": [],
   "source": [
    "UGM, BGM, TGM = get_ngrams(TRAIN, n=3)\n",
    "UGT, BGT, TGT = get_ngrams(TEST, n=3)"
   ]
  },
  {
   "cell_type": "markdown",
   "metadata": {
    "colab_type": "text",
    "id": "6tMQ-hyUPGz9"
   },
   "source": [
    "### Align training and test tables\n",
    "\n",
    "Here we make sure that the traing and test tables have the same ngrams, and add 1 to cases where a value was absent."
   ]
  },
  {
   "cell_type": "code",
   "execution_count": 72,
   "metadata": {
    "colab": {},
    "colab_type": "code",
    "id": "PAqxebe-OY2j"
   },
   "outputs": [],
   "source": [
    "def align_model(ngm, ngt):\n",
    "  idx = ngm.index.names\n",
    "  ngm = pd.merge(ngm.reset_index(), ngt.reset_index(), on=idx, how='outer').fillna(1).set_index(idx)\n",
    "  ngm = ngm.rename(columns={'n_x':'n'})\n",
    "  ngm = ngm.drop('n_y', 1)\n",
    "  return ngm"
   ]
  },
  {
   "cell_type": "code",
   "execution_count": 73,
   "metadata": {
    "colab": {},
    "colab_type": "code",
    "id": "C-zNMi-zaYAW"
   },
   "outputs": [],
   "source": [
    "UGM = align_model(UGM, UGT)"
   ]
  },
  {
   "cell_type": "code",
   "execution_count": 74,
   "metadata": {
    "colab": {},
    "colab_type": "code",
    "id": "NGqZ09uMfNfL"
   },
   "outputs": [],
   "source": [
    "\n",
    "BGM = align_model(BGM, BGT)"
   ]
  },
  {
   "cell_type": "code",
   "execution_count": 75,
   "metadata": {
    "colab": {},
    "colab_type": "code",
    "id": "o7eovzadfOqJ"
   },
   "outputs": [],
   "source": [
    "\n",
    "TGM = align_model(TGM, TGT)"
   ]
  },
  {
   "cell_type": "markdown",
   "metadata": {
    "colab_type": "text",
    "id": "-H5ZZo-KDymE",
    "toc-hr-collapsed": false
   },
   "source": [
    "## Infer probabilities for training set"
   ]
  },
  {
   "cell_type": "markdown",
   "metadata": {
    "colab_type": "text",
    "id": "JUwIBPuReVcJ"
   },
   "source": [
    "### Define function "
   ]
  },
  {
   "cell_type": "code",
   "execution_count": 76,
   "metadata": {
    "colab": {},
    "colab_type": "code",
    "id": "rAz9K_NwDymG",
    "toc-hr-collapsed": false
   },
   "outputs": [],
   "source": [
    "def infer_probs(ngm):\n",
    "    if len(ngm.index.names) > 1:\n",
    "        ngm['p'] = ngm.groupby(ngm.index.names[:-1]).n\\\n",
    "            .apply(lambda x: x / x.sum())\\\n",
    "            .to_frame().rename(columns={'n':'p'})\n",
    "    else:\n",
    "        ngm['p'] = ngm['n'] / ngm['n'].sum()\n",
    "    ngm['logp'] = np.log2(ngm['p'])\n",
    "    ngm['h'] = ngm.logp * ngm.p * -1\n",
    "    return ngm"
   ]
  },
  {
   "cell_type": "markdown",
   "metadata": {
    "colab_type": "text",
    "id": "CQvd3DpeeaDr"
   },
   "source": [
    "### Apply function"
   ]
  },
  {
   "cell_type": "code",
   "execution_count": 77,
   "metadata": {
    "colab": {},
    "colab_type": "code",
    "id": "ZCczN629DymR"
   },
   "outputs": [],
   "source": [
    "UGM = infer_probs(UGM)"
   ]
  },
  {
   "cell_type": "code",
   "execution_count": 78,
   "metadata": {
    "colab": {},
    "colab_type": "code",
    "id": "wLCMRKnNd8SW"
   },
   "outputs": [],
   "source": [
    "BGM = infer_probs(BGM)"
   ]
  },
  {
   "cell_type": "code",
   "execution_count": 79,
   "metadata": {
    "colab": {},
    "colab_type": "code",
    "id": "713tWmgqd9ZS"
   },
   "outputs": [],
   "source": [
    "TGM = infer_probs(TGM)"
   ]
  },
  {
   "cell_type": "markdown",
   "metadata": {
    "colab_type": "text",
    "id": "ZicQQFWQe-eH"
   },
   "source": [
    "### View results"
   ]
  },
  {
   "cell_type": "code",
   "execution_count": 80,
   "metadata": {
    "colab": {
     "base_uri": "https://localhost:8080/",
     "height": 226
    },
    "colab_type": "code",
    "id": "GzORQabzEW56",
    "outputId": "e91e2009-4054-4bca-e0d3-5132dc46230e"
   },
   "outputs": [
    {
     "data": {
      "text/html": [
       "<div>\n",
       "<style scoped>\n",
       "    .dataframe tbody tr th:only-of-type {\n",
       "        vertical-align: middle;\n",
       "    }\n",
       "\n",
       "    .dataframe tbody tr th {\n",
       "        vertical-align: top;\n",
       "    }\n",
       "\n",
       "    .dataframe thead th {\n",
       "        text-align: right;\n",
       "    }\n",
       "</style>\n",
       "<table border=\"1\" class=\"dataframe\">\n",
       "  <thead>\n",
       "    <tr style=\"text-align: right;\">\n",
       "      <th></th>\n",
       "      <th></th>\n",
       "      <th></th>\n",
       "      <th>n</th>\n",
       "    </tr>\n",
       "    <tr>\n",
       "      <th>w0</th>\n",
       "      <th>w1</th>\n",
       "      <th>w2</th>\n",
       "      <th></th>\n",
       "    </tr>\n",
       "  </thead>\n",
       "  <tbody>\n",
       "    <tr>\n",
       "      <th>''professor</th>\n",
       "      <th>&lt;s&gt;</th>\n",
       "      <th>&lt;s&gt;</th>\n",
       "      <td>1</td>\n",
       "    </tr>\n",
       "    <tr>\n",
       "      <th>''was</th>\n",
       "      <th>&lt;s&gt;</th>\n",
       "      <th>&lt;s&gt;</th>\n",
       "      <td>1</td>\n",
       "    </tr>\n",
       "    <tr>\n",
       "      <th rowspan=\"2\" valign=\"top\">'a</th>\n",
       "      <th>&lt;s&gt;</th>\n",
       "      <th>&lt;s&gt;</th>\n",
       "      <td>4</td>\n",
       "    </tr>\n",
       "    <tr>\n",
       "      <th>people</th>\n",
       "      <th>&lt;s&gt;</th>\n",
       "      <td>1</td>\n",
       "    </tr>\n",
       "    <tr>\n",
       "      <th>'abercrombie</th>\n",
       "      <th>&lt;s&gt;</th>\n",
       "      <th>&lt;s&gt;</th>\n",
       "      <td>1</td>\n",
       "    </tr>\n",
       "  </tbody>\n",
       "</table>\n",
       "</div>"
      ],
      "text/plain": [
       "                         n\n",
       "w0           w1     w2    \n",
       "''professor  <s>    <s>  1\n",
       "''was        <s>    <s>  1\n",
       "'a           <s>    <s>  4\n",
       "             people <s>  1\n",
       "'abercrombie <s>    <s>  1"
      ]
     },
     "execution_count": 80,
     "metadata": {},
     "output_type": "execute_result"
    }
   ],
   "source": [
    "TGT.head()"
   ]
  },
  {
   "cell_type": "code",
   "execution_count": 81,
   "metadata": {
    "colab": {
     "base_uri": "https://localhost:8080/",
     "height": 233
    },
    "colab_type": "code",
    "id": "NVVQAOF41pU8",
    "outputId": "1a3ef474-cc52-4132-af78-0c7f8faf8d4b"
   },
   "outputs": [
    {
     "data": {
      "text/html": [
       "<div>\n",
       "<style scoped>\n",
       "    .dataframe tbody tr th:only-of-type {\n",
       "        vertical-align: middle;\n",
       "    }\n",
       "\n",
       "    .dataframe tbody tr th {\n",
       "        vertical-align: top;\n",
       "    }\n",
       "\n",
       "    .dataframe thead th {\n",
       "        text-align: right;\n",
       "    }\n",
       "</style>\n",
       "<table border=\"1\" class=\"dataframe\">\n",
       "  <thead>\n",
       "    <tr style=\"text-align: right;\">\n",
       "      <th></th>\n",
       "      <th></th>\n",
       "      <th></th>\n",
       "      <th>n</th>\n",
       "      <th>p</th>\n",
       "      <th>logp</th>\n",
       "      <th>h</th>\n",
       "    </tr>\n",
       "    <tr>\n",
       "      <th>w0</th>\n",
       "      <th>w1</th>\n",
       "      <th>w2</th>\n",
       "      <th></th>\n",
       "      <th></th>\n",
       "      <th></th>\n",
       "      <th></th>\n",
       "    </tr>\n",
       "  </thead>\n",
       "  <tbody>\n",
       "    <tr>\n",
       "      <th>''just</th>\n",
       "      <th>yelled</th>\n",
       "      <th>&lt;s&gt;</th>\n",
       "      <td>1.0</td>\n",
       "      <td>1.0</td>\n",
       "      <td>0.0</td>\n",
       "      <td>-0.0</td>\n",
       "    </tr>\n",
       "    <tr>\n",
       "      <th rowspan=\"4\" valign=\"top\">'a</th>\n",
       "      <th>&lt;s&gt;</th>\n",
       "      <th>&lt;s&gt;</th>\n",
       "      <td>24.0</td>\n",
       "      <td>1.0</td>\n",
       "      <td>0.0</td>\n",
       "      <td>-0.0</td>\n",
       "    </tr>\n",
       "    <tr>\n",
       "      <th>addacked</th>\n",
       "      <th>bud</th>\n",
       "      <td>1.0</td>\n",
       "      <td>1.0</td>\n",
       "      <td>0.0</td>\n",
       "      <td>-0.0</td>\n",
       "    </tr>\n",
       "    <tr>\n",
       "      <th>bold</th>\n",
       "      <th>&lt;s&gt;</th>\n",
       "      <td>1.0</td>\n",
       "      <td>1.0</td>\n",
       "      <td>0.0</td>\n",
       "      <td>-0.0</td>\n",
       "    </tr>\n",
       "    <tr>\n",
       "      <th>centaur</th>\n",
       "      <th>&lt;s&gt;</th>\n",
       "      <td>1.0</td>\n",
       "      <td>1.0</td>\n",
       "      <td>0.0</td>\n",
       "      <td>-0.0</td>\n",
       "    </tr>\n",
       "  </tbody>\n",
       "</table>\n",
       "</div>"
      ],
      "text/plain": [
       "                        n    p  logp    h\n",
       "w0     w1       w2                       \n",
       "''just yelled   <s>   1.0  1.0   0.0 -0.0\n",
       "'a     <s>      <s>  24.0  1.0   0.0 -0.0\n",
       "       addacked bud   1.0  1.0   0.0 -0.0\n",
       "       bold     <s>   1.0  1.0   0.0 -0.0\n",
       "       centaur  <s>   1.0  1.0   0.0 -0.0"
      ]
     },
     "execution_count": 81,
     "metadata": {},
     "output_type": "execute_result"
    }
   ],
   "source": [
    "TGM.head()"
   ]
  },
  {
   "cell_type": "markdown",
   "metadata": {
    "colab_type": "text",
    "id": "qYIYcCdcDymr"
   },
   "source": [
    "## Compute performance of models"
   ]
  },
  {
   "cell_type": "markdown",
   "metadata": {
    "colab_type": "text",
    "id": "w-lhKa4UfTJx"
   },
   "source": [
    "### Define function\n",
    "\n",
    "We use the following formula for perplexity, where ***b*** = 2. \n",
    "\n",
    "![alt text](http://ontoligent.com/images/perplexity-formula.png)"
   ]
  },
  {
   "cell_type": "code",
   "execution_count": 82,
   "metadata": {
    "colab": {},
    "colab_type": "code",
    "id": "mPeQqeOMDymj"
   },
   "outputs": [],
   "source": [
    "def perplexity(ngm, ngt):\n",
    "    pp = np.exp2(-(ngm['logp'] * ngt['n']).sum() / ngt['n'].sum())\n",
    "    return round(pp, 2)"
   ]
  },
  {
   "cell_type": "markdown",
   "metadata": {
    "colab_type": "text",
    "id": "JEeftEt1fVm9"
   },
   "source": [
    "### Apply function"
   ]
  },
  {
   "cell_type": "code",
   "execution_count": 83,
   "metadata": {
    "colab": {},
    "colab_type": "code",
    "id": "ZQpr67PTXADB"
   },
   "outputs": [],
   "source": [
    "ppu = perplexity(UGM, UGT)\n",
    "ppb = perplexity(BGM, BGT)\n",
    "ppt = perplexity(TGM, TGT)"
   ]
  },
  {
   "cell_type": "markdown",
   "metadata": {
    "colab_type": "text",
    "id": "xcswI2BzfZrk"
   },
   "source": [
    "### View results"
   ]
  },
  {
   "cell_type": "code",
   "execution_count": 84,
   "metadata": {
    "colab": {
     "base_uri": "https://localhost:8080/",
     "height": 35
    },
    "colab_type": "code",
    "id": "Tda3AFJsXLil",
    "outputId": "58584c89-9cc8-4dd5-a463-278171c31f38"
   },
   "outputs": [
    {
     "data": {
      "text/plain": [
       "(3119.59, 15.65, 1.29)"
      ]
     },
     "execution_count": 84,
     "metadata": {},
     "output_type": "execute_result"
    }
   ],
   "source": [
    "ppu, ppb, ppt"
   ]
  },
  {
   "cell_type": "markdown",
   "metadata": {
    "colab_type": "text",
    "id": "cPY7ekfXgbE_"
   },
   "source": [
    "# Generate Text"
   ]
  },
  {
   "cell_type": "code",
   "execution_count": 86,
   "metadata": {
    "colab": {
     "base_uri": "https://localhost:8080/",
     "height": 52
    },
    "colab_type": "code",
    "id": "kfk29UZTggjU",
    "outputId": "9d3be694-c310-4033-906c-3554986e761a"
   },
   "outputs": [
    {
     "name": "stdout",
     "output_type": "stream",
     "text": [
      "'s good months ... telling\n"
     ]
    }
   ],
   "source": [
    "test = ''\n",
    "n = 10000\n",
    "\n",
    "TGM = TGM.sort_index()\n",
    "\n",
    "idx = TGM.index.names\n",
    "\n",
    "tg = TGM.sample().reset_index()[idx].values.tolist()[0]\n",
    "test += ' '.join(tg) + ' ...'\n",
    "\n",
    "for i in range(n):\n",
    "    key = tuple(tg[1:])\n",
    "    weights = TGM.loc[key, 'p']\n",
    "    w2 = TGM.loc[key].sample(weights=weights)\\\n",
    "        .reset_index()[idx[-1]].values.tolist()[0]\n",
    "    \n",
    "    if w2 == '<s>':\n",
    "        continue\n",
    "    \n",
    "    tg = tg[1:] + [w2]\n",
    "\n",
    "    if i % 10 == 1:\n",
    "        test += '\\n'\n",
    "    else:\n",
    "        test += ' '\n",
    "    test += w2\n",
    "    \n",
    "print(test)"
   ]
  }
 ],
 "metadata": {
  "colab": {
   "collapsed_sections": [],
   "name": "DS5559_LMs.ipynb",
   "provenance": [],
   "toc_visible": true,
   "version": "0.3.2"
  },
  "kernelspec": {
   "display_name": "Python 3",
   "language": "python",
   "name": "python3"
  },
  "language_info": {
   "codemirror_mode": {
    "name": "ipython",
    "version": 3
   },
   "file_extension": ".py",
   "mimetype": "text/x-python",
   "name": "python",
   "nbconvert_exporter": "python",
   "pygments_lexer": "ipython3",
   "version": "3.6.6"
  }
 },
 "nbformat": 4,
 "nbformat_minor": 2
}
