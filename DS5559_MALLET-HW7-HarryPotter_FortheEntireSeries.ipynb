{
 "cells": [
  {
   "cell_type": "markdown",
   "metadata": {},
   "source": [
    "# Configuration"
   ]
  },
  {
   "cell_type": "code",
   "execution_count": 2,
   "metadata": {},
   "outputs": [],
   "source": [
    "corpus_db = 'HarryPotter.db'\n",
    "max_words = 10000\n",
    "\n",
    "# For MALLET\n",
    "num_topics = 20\n",
    "num_iters = 1000\n",
    "show_interval = 100"
   ]
  },
  {
   "cell_type": "markdown",
   "metadata": {},
   "source": [
    "#  Libraries"
   ]
  },
  {
   "cell_type": "code",
   "execution_count": 3,
   "metadata": {},
   "outputs": [],
   "source": [
    "import pandas as pd\n",
    "import numpy as np\n",
    "import sqlite3\n",
    "import re\n",
    "import random\n",
    "import textman as tx\n",
    "from sklearn.feature_extraction.text import TfidfVectorizer\n",
    "import matplotlib.pyplot as plt"
   ]
  },
  {
   "cell_type": "markdown",
   "metadata": {},
   "source": [
    "# Process"
   ]
  },
  {
   "cell_type": "markdown",
   "metadata": {},
   "source": [
    "## Import novel corpus from database\n",
    "\n",
    "We use SQL to get what we want quickly."
   ]
  },
  {
   "cell_type": "code",
   "execution_count": 4,
   "metadata": {},
   "outputs": [],
   "source": [
    "sql = \"\"\"\n",
    "SELECT * FROM token \n",
    "\"\"\".format(max_words)"
   ]
  },
  {
   "cell_type": "code",
   "execution_count": null,
   "metadata": {},
   "outputs": [],
   "source": [
    "with sqlite3.connect(corpus_db) as db:\n",
    "    tokens = pd.read_sql(sql, db)"
   ]
  },
  {
   "cell_type": "code",
   "execution_count": null,
   "metadata": {},
   "outputs": [],
   "source": [
    "tokens.head()"
   ]
  },
  {
   "cell_type": "markdown",
   "metadata": {},
   "source": [
    "## Fix tokens dataframe"
   ]
  },
  {
   "cell_type": "code",
   "execution_count": 6,
   "metadata": {},
   "outputs": [],
   "source": [
    "tokens = tokens.set_index(['book_num','chap_num'])"
   ]
  },
  {
   "cell_type": "code",
   "execution_count": 7,
   "metadata": {},
   "outputs": [
    {
     "data": {
      "text/html": [
       "<div>\n",
       "<style scoped>\n",
       "    .dataframe tbody tr th:only-of-type {\n",
       "        vertical-align: middle;\n",
       "    }\n",
       "\n",
       "    .dataframe tbody tr th {\n",
       "        vertical-align: top;\n",
       "    }\n",
       "\n",
       "    .dataframe thead th {\n",
       "        text-align: right;\n",
       "    }\n",
       "</style>\n",
       "<table border=\"1\" class=\"dataframe\">\n",
       "  <thead>\n",
       "    <tr style=\"text-align: right;\">\n",
       "      <th></th>\n",
       "      <th></th>\n",
       "      <th>para_num</th>\n",
       "      <th>sent_num</th>\n",
       "      <th>token_num</th>\n",
       "      <th>pos</th>\n",
       "      <th>token_str</th>\n",
       "      <th>punc</th>\n",
       "      <th>num</th>\n",
       "      <th>term_str</th>\n",
       "      <th>term_id</th>\n",
       "    </tr>\n",
       "    <tr>\n",
       "      <th>book_num</th>\n",
       "      <th>chap_num</th>\n",
       "      <th></th>\n",
       "      <th></th>\n",
       "      <th></th>\n",
       "      <th></th>\n",
       "      <th></th>\n",
       "      <th></th>\n",
       "      <th></th>\n",
       "      <th></th>\n",
       "      <th></th>\n",
       "    </tr>\n",
       "  </thead>\n",
       "  <tbody>\n",
       "    <tr>\n",
       "      <th rowspan=\"3\" valign=\"top\">0</th>\n",
       "      <th>0</th>\n",
       "      <td>0</td>\n",
       "      <td>0</td>\n",
       "      <td>0</td>\n",
       "      <td>NN</td>\n",
       "      <td>CHAPTER</td>\n",
       "      <td>0</td>\n",
       "      <td>0</td>\n",
       "      <td>chapter</td>\n",
       "      <td>4164</td>\n",
       "    </tr>\n",
       "    <tr>\n",
       "      <th>0</th>\n",
       "      <td>0</td>\n",
       "      <td>0</td>\n",
       "      <td>1</td>\n",
       "      <td>CD</td>\n",
       "      <td>ONE</td>\n",
       "      <td>0</td>\n",
       "      <td>0</td>\n",
       "      <td>one</td>\n",
       "      <td>14357</td>\n",
       "    </tr>\n",
       "    <tr>\n",
       "      <th>0</th>\n",
       "      <td>1</td>\n",
       "      <td>0</td>\n",
       "      <td>0</td>\n",
       "      <td>DT</td>\n",
       "      <td>THE</td>\n",
       "      <td>0</td>\n",
       "      <td>0</td>\n",
       "      <td>the</td>\n",
       "      <td>20883</td>\n",
       "    </tr>\n",
       "  </tbody>\n",
       "</table>\n",
       "</div>"
      ],
      "text/plain": [
       "                   para_num  sent_num  token_num pos token_str  punc  num  \\\n",
       "book_num chap_num                                                           \n",
       "0        0                0         0          0  NN   CHAPTER     0    0   \n",
       "         0                0         0          1  CD       ONE     0    0   \n",
       "         0                1         0          0  DT       THE     0    0   \n",
       "\n",
       "                  term_str  term_id  \n",
       "book_num chap_num                    \n",
       "0        0         chapter     4164  \n",
       "         0             one    14357  \n",
       "         0             the    20883  "
      ]
     },
     "execution_count": 7,
     "metadata": {},
     "output_type": "execute_result"
    }
   ],
   "source": [
    "tokens.head(3)"
   ]
  },
  {
   "cell_type": "code",
   "execution_count": 8,
   "metadata": {},
   "outputs": [
    {
     "data": {
      "text/plain": [
       "23717"
      ]
     },
     "execution_count": 8,
     "metadata": {},
     "output_type": "execute_result"
    }
   ],
   "source": [
    "len(tokens.term_str.unique())"
   ]
  },
  {
   "cell_type": "markdown",
   "metadata": {},
   "source": [
    "## Convert tokens to a corpus for MALLET input"
   ]
  },
  {
   "cell_type": "code",
   "execution_count": 9,
   "metadata": {},
   "outputs": [
    {
     "data": {
      "text/html": [
       "<div>\n",
       "<style scoped>\n",
       "    .dataframe tbody tr th:only-of-type {\n",
       "        vertical-align: middle;\n",
       "    }\n",
       "\n",
       "    .dataframe tbody tr th {\n",
       "        vertical-align: top;\n",
       "    }\n",
       "\n",
       "    .dataframe thead th {\n",
       "        text-align: right;\n",
       "    }\n",
       "</style>\n",
       "<table border=\"1\" class=\"dataframe\">\n",
       "  <thead>\n",
       "    <tr style=\"text-align: right;\">\n",
       "      <th></th>\n",
       "      <th>book_num</th>\n",
       "      <th>chap_num</th>\n",
       "      <th>para_num</th>\n",
       "      <th>sent_num</th>\n",
       "      <th>token_num</th>\n",
       "      <th>pos</th>\n",
       "      <th>token_str</th>\n",
       "      <th>punc</th>\n",
       "      <th>num</th>\n",
       "      <th>term_str</th>\n",
       "      <th>term_id</th>\n",
       "    </tr>\n",
       "  </thead>\n",
       "  <tbody>\n",
       "    <tr>\n",
       "      <th>0</th>\n",
       "      <td>0</td>\n",
       "      <td>0</td>\n",
       "      <td>0</td>\n",
       "      <td>0</td>\n",
       "      <td>0</td>\n",
       "      <td>NN</td>\n",
       "      <td>CHAPTER</td>\n",
       "      <td>0</td>\n",
       "      <td>0</td>\n",
       "      <td>chapter</td>\n",
       "      <td>4164</td>\n",
       "    </tr>\n",
       "    <tr>\n",
       "      <th>1</th>\n",
       "      <td>0</td>\n",
       "      <td>0</td>\n",
       "      <td>0</td>\n",
       "      <td>0</td>\n",
       "      <td>1</td>\n",
       "      <td>CD</td>\n",
       "      <td>ONE</td>\n",
       "      <td>0</td>\n",
       "      <td>0</td>\n",
       "      <td>one</td>\n",
       "      <td>14357</td>\n",
       "    </tr>\n",
       "    <tr>\n",
       "      <th>2</th>\n",
       "      <td>0</td>\n",
       "      <td>0</td>\n",
       "      <td>1</td>\n",
       "      <td>0</td>\n",
       "      <td>0</td>\n",
       "      <td>DT</td>\n",
       "      <td>THE</td>\n",
       "      <td>0</td>\n",
       "      <td>0</td>\n",
       "      <td>the</td>\n",
       "      <td>20883</td>\n",
       "    </tr>\n",
       "    <tr>\n",
       "      <th>3</th>\n",
       "      <td>0</td>\n",
       "      <td>0</td>\n",
       "      <td>1</td>\n",
       "      <td>0</td>\n",
       "      <td>1</td>\n",
       "      <td>NNP</td>\n",
       "      <td>BOY</td>\n",
       "      <td>0</td>\n",
       "      <td>0</td>\n",
       "      <td>boy</td>\n",
       "      <td>3351</td>\n",
       "    </tr>\n",
       "    <tr>\n",
       "      <th>4</th>\n",
       "      <td>0</td>\n",
       "      <td>0</td>\n",
       "      <td>1</td>\n",
       "      <td>0</td>\n",
       "      <td>2</td>\n",
       "      <td>NNP</td>\n",
       "      <td>WHO</td>\n",
       "      <td>0</td>\n",
       "      <td>0</td>\n",
       "      <td>who</td>\n",
       "      <td>23170</td>\n",
       "    </tr>\n",
       "  </tbody>\n",
       "</table>\n",
       "</div>"
      ],
      "text/plain": [
       "   book_num  chap_num  para_num  sent_num  token_num  pos token_str  punc  \\\n",
       "0         0         0         0         0          0   NN   CHAPTER     0   \n",
       "1         0         0         0         0          1   CD       ONE     0   \n",
       "2         0         0         1         0          0   DT       THE     0   \n",
       "3         0         0         1         0          1  NNP       BOY     0   \n",
       "4         0         0         1         0          2  NNP       WHO     0   \n",
       "\n",
       "   num term_str  term_id  \n",
       "0    0  chapter     4164  \n",
       "1    0      one    14357  \n",
       "2    0      the    20883  \n",
       "3    0      boy     3351  \n",
       "4    0      who    23170  "
      ]
     },
     "execution_count": 9,
     "metadata": {},
     "output_type": "execute_result"
    }
   ],
   "source": [
    "tokens = tokens[tokens.term_id != -1].reset_index()\n",
    "tokens.head()"
   ]
  },
  {
   "cell_type": "code",
   "execution_count": 10,
   "metadata": {},
   "outputs": [],
   "source": [
    "tokens['book_chap_num'] = tokens['book_num'].map(str) +'_'+tokens['chap_num'].map(str)\n",
    "tokens = tokens.set_index('book_chap_num')"
   ]
  },
  {
   "cell_type": "code",
   "execution_count": 11,
   "metadata": {},
   "outputs": [],
   "source": [
    "corpus = tx.gather_tokens(tokens, level=0, col='term_str')\\\n",
    "    .reset_index().rename(columns={'term_str':'doc_content'})"
   ]
  },
  {
   "cell_type": "code",
   "execution_count": 12,
   "metadata": {},
   "outputs": [
    {
     "data": {
      "text/plain": [
       "(199, 2)"
      ]
     },
     "execution_count": 12,
     "metadata": {},
     "output_type": "execute_result"
    }
   ],
   "source": [
    "corpus.shape"
   ]
  },
  {
   "cell_type": "code",
   "execution_count": 13,
   "metadata": {},
   "outputs": [],
   "source": [
    "## Remove insignificant words"
   ]
  },
  {
   "cell_type": "code",
   "execution_count": 14,
   "metadata": {},
   "outputs": [],
   "source": [
    "vectorizer = TfidfVectorizer(use_idf=1, stop_words='english', token_pattern=r'[A-Za-z][A-Za-z][A-Za-z]+')\n",
    "X = vectorizer.fit_transform(corpus.doc_content.values.tolist())\n",
    "v = pd.DataFrame(vectorizer.get_feature_names(), columns=['term_str'])\n",
    "v['idf'] = vectorizer.idf_"
   ]
  },
  {
   "cell_type": "markdown",
   "metadata": {},
   "source": [
    "## Dump corpus to CSV file"
   ]
  },
  {
   "cell_type": "code",
   "execution_count": 15,
   "metadata": {},
   "outputs": [],
   "source": [
    "corpus.to_csv('novels-corpus.csv', index=False)"
   ]
  },
  {
   "cell_type": "code",
   "execution_count": 16,
   "metadata": {},
   "outputs": [
    {
     "data": {
      "text/html": [
       "<div>\n",
       "<style scoped>\n",
       "    .dataframe tbody tr th:only-of-type {\n",
       "        vertical-align: middle;\n",
       "    }\n",
       "\n",
       "    .dataframe tbody tr th {\n",
       "        vertical-align: top;\n",
       "    }\n",
       "\n",
       "    .dataframe thead th {\n",
       "        text-align: right;\n",
       "    }\n",
       "</style>\n",
       "<table border=\"1\" class=\"dataframe\">\n",
       "  <thead>\n",
       "    <tr style=\"text-align: right;\">\n",
       "      <th></th>\n",
       "      <th>book_chap_num</th>\n",
       "      <th>doc_content</th>\n",
       "    </tr>\n",
       "  </thead>\n",
       "  <tbody>\n",
       "    <tr>\n",
       "      <th>0</th>\n",
       "      <td>0_0</td>\n",
       "      <td>chapter one the boy who lived mr and mrs dursl...</td>\n",
       "    </tr>\n",
       "    <tr>\n",
       "      <th>1</th>\n",
       "      <td>0_1</td>\n",
       "      <td>chapter two the vanishing glass nearly ten yea...</td>\n",
       "    </tr>\n",
       "    <tr>\n",
       "      <th>2</th>\n",
       "      <td>0_10</td>\n",
       "      <td>chapter eleven quidditch as they entered novem...</td>\n",
       "    </tr>\n",
       "    <tr>\n",
       "      <th>3</th>\n",
       "      <td>0_11</td>\n",
       "      <td>chapter twelve the mirror of erised christmas ...</td>\n",
       "    </tr>\n",
       "    <tr>\n",
       "      <th>4</th>\n",
       "      <td>0_12</td>\n",
       "      <td>chapter thirteen nicolas flamel dumbledore had...</td>\n",
       "    </tr>\n",
       "  </tbody>\n",
       "</table>\n",
       "</div>"
      ],
      "text/plain": [
       "  book_chap_num                                        doc_content\n",
       "0           0_0  chapter one the boy who lived mr and mrs dursl...\n",
       "1           0_1  chapter two the vanishing glass nearly ten yea...\n",
       "2          0_10  chapter eleven quidditch as they entered novem...\n",
       "3          0_11  chapter twelve the mirror of erised christmas ...\n",
       "4          0_12  chapter thirteen nicolas flamel dumbledore had..."
      ]
     },
     "execution_count": 16,
     "metadata": {},
     "output_type": "execute_result"
    }
   ],
   "source": [
    "test1 = pd.read_csv(\"novels-corpus.csv\")\n",
    "test1.head()"
   ]
  },
  {
   "cell_type": "markdown",
   "metadata": {},
   "source": [
    "## MALLET Time"
   ]
  },
  {
   "cell_type": "code",
   "execution_count": 11,
   "metadata": {},
   "outputs": [],
   "source": [
    "path = './mallet-2.0.8/bin/mallet'\n"
   ]
  },
  {
   "cell_type": "markdown",
   "metadata": {},
   "source": [
    "### Show MALLET options"
   ]
  },
  {
   "cell_type": "code",
   "execution_count": 12,
   "metadata": {},
   "outputs": [
    {
     "name": "stdout",
     "output_type": "stream",
     "text": [
      "Unrecognized command: \r\n",
      "Mallet 2.0 commands: \r\n",
      "\r\n",
      "  import-dir         load the contents of a directory into mallet instances (one per file)\r\n",
      "  import-file        load a single file into mallet instances (one per line)\r\n",
      "  import-svmlight    load SVMLight format data files into Mallet instances\r\n",
      "  info               get information about Mallet instances\r\n",
      "  train-classifier   train a classifier from Mallet data files\r\n",
      "  classify-dir       classify data from a single file with a saved classifier\r\n",
      "  classify-file      classify the contents of a directory with a saved classifier\r\n",
      "  classify-svmlight  classify data from a single file in SVMLight format\r\n",
      "  train-topics       train a topic model from Mallet data files\r\n",
      "  infer-topics       use a trained topic model to infer topics for new documents\r\n",
      "  evaluate-topics    estimate the probability of new documents under a trained model\r\n",
      "  prune              remove features based on frequency or information gain\r\n",
      "  split              divide data into testing, training, and validation portions\r\n",
      "  bulk-load          for big input files, efficiently prune vocabulary and import docs\r\n",
      "\r\n",
      "Include --help with any option for more information\r\n"
     ]
    }
   ],
   "source": [
    "!{path}"
   ]
  },
  {
   "cell_type": "code",
   "execution_count": null,
   "metadata": {},
   "outputs": [],
   "source": [
    "# !{path} train-topics --config {mallet_config_file}"
   ]
  },
  {
   "cell_type": "markdown",
   "metadata": {},
   "source": [
    "### Import corpus"
   ]
  },
  {
   "cell_type": "code",
   "execution_count": 37,
   "metadata": {},
   "outputs": [],
   "source": [
    "# !{path} import-file --input novels-corpus.csv --output novels-corpus.mallet --keep-sequence TRUE"
   ]
  },
  {
   "cell_type": "markdown",
   "metadata": {},
   "source": [
    "### Train topics"
   ]
  },
  {
   "cell_type": "code",
   "execution_count": 13,
   "metadata": {},
   "outputs": [
    {
     "name": "stdout",
     "output_type": "stream",
     "text": [
      "Mallet LDA: 20 topics, 5 topic bits, 11111 topic mask\n",
      "Data loaded.\n",
      "max tokens: 7303\n",
      "total tokens: 892340\n",
      "<10> LL/token: -9.2266\n",
      "<20> LL/token: -8.81185\n",
      "<30> LL/token: -8.63769\n",
      "<40> LL/token: -8.53073\n",
      "<50> LL/token: -8.45448\n",
      "<60> LL/token: -8.40038\n",
      "<70> LL/token: -8.35818\n",
      "<80> LL/token: -8.32151\n",
      "<90> LL/token: -8.28618\n",
      "\n",
      "0\t0.25\tharry said you the and malfoy neville him what over back all had here out going get just into this \n",
      "1\t0.25\tthe hermione ron they harry had and them were from out back that was but thought what around how two \n",
      "2\t0.25\tthe been and was harry for that know said his can you there here this out think have right hogwarts \n",
      "3\t0.25\tdumbledore you that said have not but harry for the and are your did voldemort this yes n't slughorn will \n",
      "4\t0.25\tsaid she you her and with ron harry for well just that not who hermione what was the table like \n",
      "5\t0.25\thad the his and that was not one when would about for even harry some say little with most after \n",
      "6\t0.25\tthe and harry they was one see their them from were off his toward its through then but head out \n",
      "7\t0.25\tharry his was and him wand the you death felt back had voldemort eyes that out eaters face could now \n",
      "8\t0.25\tthe you him was snape sirius and had his for then have lord room would voice been what her she \n",
      "9\t0.25\tthe harry uncle his vernon and dudley was aunt petunia had dursleys n't you but him back car out could \n",
      "10\t0.25\tthe her she umbridge and from not was said their again parchment yes cho were hand ministry fred down now \n",
      "11\t0.25\tyou the and her said that not they was harry but them have know ginny what then wand think had \n",
      "12\t0.25\tthe and she not that had was with like there upon voldemort their where into from death for which would \n",
      "13\t0.25\tthe professor and was mcgonagall that had gryffindor ron harry with his snape slytherin you george malfoy but team dobby \n",
      "14\t0.25\thagrid said yeh the ter you and lockhart all they him don there what with didn after were got fang \n",
      "15\t0.25\tthe his and with from were behind again around down was voice into saw dark door them through though face \n",
      "16\t0.25\tthe and moody crouch said him cedric was n't harry had krum bagman were dumbledore though them they dobby around \n",
      "17\t0.25\tthe said that not very but his fudge all had been well and are with this you more minister has \n",
      "18\t0.25\tn't was the his and did but said harry very him could black lupin with there you like would have \n",
      "19\t0.25\tweasley and said the mrs you fred they george harry all with percy ginny got bill out tonks ministry him \n",
      "\n",
      "<100> LL/token: -8.25299\n",
      "<110> LL/token: -8.22563\n",
      "<120> LL/token: -8.19875\n",
      "<130> LL/token: -8.17673\n",
      "<140> LL/token: -8.15529\n",
      "<150> LL/token: -8.13372\n",
      "<160> LL/token: -8.1155\n",
      "<170> LL/token: -8.09781\n",
      "<180> LL/token: -8.07912\n",
      "<190> LL/token: -8.05844\n",
      "\n",
      "0\t0.25\tharry said and you the malfoy neville his ginny out what hall got potter into room him look through behind \n",
      "1\t0.25\tharry ron hermione the they had was what out that back said but them thought around going and how from \n",
      "2\t0.25\tthe and been have you was what there know this can here that all think they time told look for \n",
      "3\t0.25\tdumbledore you harry that said not have but the voldemort was did are slughorn your yes will what this could \n",
      "4\t0.25\tsaid you she her and with not well just the who have this all looking more your like for table \n",
      "5\t0.25\tthe had his that was and for would him with been when not about now who which after were all \n",
      "6\t0.25\tthe and they harry was them their one out its over but into off were toward for eyes never head \n",
      "7\t0.25\tharry his was and him wand you had the death voldemort did could that eyes eaters back felt all now \n",
      "8\t0.25\tyou snape sirius him lupin the said have and black his was lord your what for that out know then \n",
      "9\t0.25\tharry uncle the vernon dudley and aunt his petunia dursleys had was out you back car hedwig owl boy dursley \n",
      "10\t0.25\tthe umbridge her not she professor towards sirius and cho was from head fred yes again trelawney now parchment their \n",
      "11\t0.25\tthe you said wand know bellatrix and they sword goblin fleur griphook luna can have cash that ollivander bill not \n",
      "12\t0.25\tthe and not she her there like that upon but with where into kreacher here knew cloak for their codes \n",
      "13\t0.25\tthe professor was and mcgonagall gryffindor snape harry that had slytherin his team ron quidditch malfoy george class will filch \n",
      "14\t0.25\thagrid said yeh ter him don they lockhart didn you back castle there fang yer fer got with were giant \n",
      "15\t0.25\tthe his and with from were was around into voice but behind potter down face again then saw who hand \n",
      "16\t0.25\tthe and harry moody dobby crouch cedric krum bagman dumbledore said him his their winky karkaroff rita diggory around were \n",
      "17\t0.25\tthe said that fudge ministry not and are minister very has well from now but had dementors magic there madam \n",
      "18\t0.25\tn't was you and did said the but him very could his there like with into something what they out \n",
      "19\t0.25\tweasley and said mrs the harry fred george they ginny you percy with bill tonks were muggle got all arthur \n",
      "\n",
      "<200> LL/token: -8.04536\n",
      "<210> LL/token: -8.02746\n",
      "<220> LL/token: -8.01426\n",
      "<230> LL/token: -8.00638\n",
      "<240> LL/token: -7.99505\n",
      "<250> LL/token: -7.98035\n",
      "<260> LL/token: -7.96219\n",
      "<270> LL/token: -7.95043\n",
      "<280> LL/token: -7.94529\n",
      "<290> LL/token: -7.92997\n",
      "\n",
      "0\t0.25\tharry malfoy said neville and the ginny what into him potter you out there corridor room luna goyle let crabbe \n",
      "1\t0.25\tron hermione harry the said they had that but out what them and going then back think get around with \n",
      "2\t0.25\tyou and the what been there back was know this they but out how for can have all harry think \n",
      "3\t0.25\tdumbledore you said harry that not have but voldemort the did slughorn your will think riddle yes then could are \n",
      "4\t0.25\tyou said and she her well with just not the are have your all over down more really who asked \n",
      "5\t0.25\tthe had that was his and for with him not would when now who have were been thought one all \n",
      "6\t0.25\tthe and harry they their over them were was out one through off like way could its into from see \n",
      "7\t0.25\tand harry his him was wand you had voldemort death not but could did back what eyes the there eaters \n",
      "8\t0.25\tsnape you lupin sirius said him have black lord has will for your james the severus office dementors father had \n",
      "9\t0.25\tharry uncle vernon dudley his aunt petunia dursleys had car the out owl boy hedwig going letter house dursley mrs \n",
      "10\t0.25\tumbridge her not professor she sirius towards cho their fred very now head george and trelawney from again yes the \n",
      "11\t0.25\tthe wand sword you griphook goblin know bellatrix ollivander not but bill luna said can greyback xenophilius tent fleur who \n",
      "12\t0.25\tthe and she her not that kreacher there don like cloak into promo savings cash their asked codes ebatescom death \n",
      "13\t0.25\tprofessor the was mcgonagall and gryffindor snape ron slytherin fred team george wood quidditch malfoy will hall class weasley their \n",
      "14\t0.25\thagrid said yeh ter don lockhart they didn there got forest fang castle back him yer all fer chamber giant \n",
      "15\t0.25\tthe his was and with from around into voice face her behind then down were again saw looked potter though \n",
      "16\t0.25\tthe moody crouch harry cedric dobby krum bagman dumbledore him around winky karkaroff said rita were into diggory their and \n",
      "17\t0.25\tthe fudge said ministry minister that are very but has and scrimgeour dementors magic office who witch man prime azkaban \n",
      "18\t0.25\tn't harry was him said did you his but and very could the about what got like into see there \n",
      "19\t0.25\tweasley said mrs and fred george they ginny harry percy with bill the you all were tonks got arthur into \n",
      "\n",
      "[beta: 0.01682] \n",
      "<300> LL/token: -7.91357\n",
      "<310> LL/token: -7.91616\n",
      "<320> LL/token: -7.90407\n",
      "<330> LL/token: -7.89429\n",
      "<340> LL/token: -7.88387\n",
      "<350> LL/token: -7.8739\n",
      "<360> LL/token: -7.86169\n",
      "<370> LL/token: -7.85196\n",
      "<380> LL/token: -7.8456\n",
      "<390> LL/token: -7.83875\n",
      "\n",
      "0\t0.29634\tharry malfoy neville said ginny potter dobby slughorn into filch room corridor sir crabbe goyle got potion luna myrtle chamber \n",
      "1\t0.34188\tron hermione harry said the they had them that what but dumbledore going around out got think get back could \n",
      "2\t0.37311\tyou what there but know this they out back can looked how still before have and been time told was \n",
      "3\t0.27953\tdumbledore you said harry not that but have voldemort your will did very riddle could are more then yes think \n",
      "4\t0.36347\tsaid you she her and with the well just looking are all not who your for like more really over \n",
      "5\t0.38618\tthe that was and had his for him not would been have when who with now from one were after \n",
      "6\t0.37587\tthe and harry they them their out were over one down like but all off now could through was had \n",
      "7\t0.31399\tand harry his him wand you voldemort not death had could that but did was there eaters felt what knew \n",
      "8\t0.25482\tsnape you lupin sirius black said him have has james potter your severus father office lord dementors pettigrew lily dark \n",
      "9\t0.17861\tharry uncle vernon dudley his aunt petunia dursleys had owl letter car boy your house dursley the hedwig drive privet \n",
      "10\t0.19325\tumbridge not her professor sirius towards she their cho fred now george very yes trelawney neville luna head students parchment \n",
      "11\t0.16507\twand sword goblin griphook luna bellatrix ollivander xenophilius bill narcissa greyback elder hallows fleur potter goblins the are said not \n",
      "12\t0.19854\tand she the her kreacher did don not codes promo cash asked savings ebatescom coupons like into albus didn place \n",
      "13\t0.24808\tprofessor mcgonagall gryffindor was and ron snape malfoy the fred quidditch slytherin team hall wood weasley their very george class \n",
      "14\t0.18946\thagrid said yeh ter they lockhart don him didn forest fang castle all there were yer fer back giant got \n",
      "15\t0.37317\tthe his was and with from into around back her behind him again then were face voice away saw seemed \n",
      "16\t0.16186\tmoody crouch cedric krum bagman the winky around karkaroff dobby rita dumbledore were diggory tournament into skeeter large madame maxime \n",
      "17\t0.25522\tfudge said the ministry minister very dementors man are magic prime witch magical wizard has office voice cornelius chair azkaban \n",
      "18\t0.35393\tn't harry said did was him his very could and you but got see then out into get about what \n",
      "19\t0.23453\tweasley mrs said and fred george harry ginny they ron percy bill got tonks with you sirius arthur were ministry \n",
      "\n"
     ]
    },
    {
     "name": "stdout",
     "output_type": "stream",
     "text": [
      "[beta: 0.01955] \n",
      "<400> LL/token: -7.83153\n",
      "<410> LL/token: -7.82971\n",
      "<420> LL/token: -7.82282\n",
      "<430> LL/token: -7.81572\n",
      "<440> LL/token: -7.81783\n",
      "<450> LL/token: -7.81196\n",
      "<460> LL/token: -7.80935\n",
      "<470> LL/token: -7.80236\n",
      "<480> LL/token: -7.80863\n",
      "<490> LL/token: -7.8026\n",
      "\n",
      "0\t0.2663\tharry malfoy slughorn dobby lockhart ginny said didn sir don potter potion riddle myrtle into filch nick slytherin chamber crabbe \n",
      "1\t0.39798\tron hermione harry said the they that them had what dumbledore think but going get around about out then yeah \n",
      "2\t0.49278\tyou but what and there know this out back they how been have can all looked the told was think \n",
      "3\t0.27774\tdumbledore you said harry have not voldemort that but will your more yes are think professor has lord never riddle \n",
      "4\t0.46724\tsaid you she her and with well just looking are the like your not who down got them more asked \n",
      "5\t0.52817\tthe that and was had his for him not would when with were been have now who could from about \n",
      "6\t0.50047\tthe and harry they them their had out into said were one all over was like could through from but \n",
      "7\t0.33843\tand harry you wand death voldemort him not but could eaters his did there had that upon what knew more \n",
      "8\t0.23342\tsnape lupin sirius you black said dementors james severus have office castle him pettigrew scabbers buckbeak lily crookshanks potter has \n",
      "9\t0.14055\tuncle vernon harry dudley aunt his petunia dursleys house boy owl letter dursley your car the had drive mrs hedwig \n",
      "10\t0.15336\tumbridge her not sirius professor she towards neville luna cho their very ginny george trelawney yeah fred can harry mcgonagall \n",
      "11\t0.11279\twand luna griphook goblin ollivander bellatrix xenophilius bill greyback narcissa asked sword hallows fleur are goblins the gringotts cloak vault \n",
      "12\t0.14968\tshe her and kreacher not don the codes coupons savings ebatescom cash promo did asked albus into like sword didn \n",
      "13\t0.2398\tprofessor malfoy mcgonagall gryffindor ron was snape fred neville hall team george slytherin wood weasley quidditch madam class students match \n",
      "14\t0.1578\thagrid yeh ter they said forest there fang don yer fer back castle cabin jus giant bin dragon cloak trees \n",
      "15\t0.49028\tthe his was and with him from back around her then saw into voice who again face down she were \n",
      "16\t0.11885\tmoody crouch cedric krum bagman winky dumbledore dobby karkaroff him around rita were diggory fleur tournament looked skeeter now maxime \n",
      "17\t0.21908\tfudge the minister ministry said magic dementors prime wizard very voice has witch man magical office muggle chair azkaban cornelius \n",
      "18\t0.42828\tn't harry did was said him very his about but into then see out got get room what and anything \n",
      "19\t0.21645\tweasley mrs said fred george ginny they ron and bill percy tonks sirius malfoy with arthur ministry all train hogwarts \n",
      "\n",
      "[beta: 0.02083] \n",
      "<500> LL/token: -7.80053\n",
      "<510> LL/token: -7.80674\n",
      "<520> LL/token: -7.80217\n",
      "<530> LL/token: -7.79971\n",
      "<540> LL/token: -7.79527\n",
      "<550> LL/token: -7.79332\n",
      "<560> LL/token: -7.79528\n",
      "<570> LL/token: -7.79049\n",
      "<580> LL/token: -7.79236\n",
      "<590> LL/token: -7.78779\n",
      "\n",
      "0\t0.19069\tharry malfoy slughorn lockhart dobby ginny didn don sir riddle potter myrtle potion filch ron very chamber bathroom snape goyle \n",
      "1\t0.43274\tron hermione harry they said the them that had dumbledore what about think going get around back but off then \n",
      "2\t0.60621\tyou what but and there out have said know all been they how back harry was looked this can think \n",
      "3\t0.27274\tdumbledore you said harry not have that voldemort but your will are more yes then has did think upon professor \n",
      "4\t0.55876\tsaid and she her you with well the are just looking your all got asked down them not who look \n",
      "5\t0.67007\tthe that had was and his for him not with would who from were when been now have about could \n",
      "6\t0.62127\tthe and harry they them had their into out were said was all could one over through off get down \n",
      "7\t0.33518\tand voldemort you death wand harry not him eaters but could did lord there eyes them upon body eater wormtail \n",
      "8\t0.21178\tsnape lupin sirius black said you james dementors severus him pettigrew castle crookshanks scabbers buckbeak office has lily your map \n",
      "9\t0.12357\tuncle vernon harry dudley his aunt petunia dursleys boy house letter dursley car owl marge your large drive mrs hedwig \n",
      "10\t0.1277\tumbridge her not professor sirius harry towards neville luna now she cho fred their ginny very trelawney george mcgonagall potter \n",
      "11\t0.08549\twand griphook luna goblin ollivander bill bellatrix xenophilius greyback sword narcissa hallows elder fleur goblins draco asked gringotts vault coupons \n",
      "12\t0.11607\ther she kreacher not don ebatescom savings codes cash promo coupons asked and did albus horcrux didn sword locket aberforth \n",
      "13\t0.23864\tprofessor malfoy mcgonagall ron gryffindor was snape neville fred slytherin team hall wood quidditch class george weasley students match seamus \n",
      "14\t0.135\thagrid yeh ter said they forest don yer fang fer cabin jus trelawney that trees after cloak giant knew malfoy \n",
      "15\t0.59877\tthe his was and him with from around back her she again then face saw voice were away head into \n",
      "16\t0.09434\tmoody crouch cedric krum bagman dobby winky karkaroff were rita diggory dumbledore tournament now skeeter looked maxime madame fleur though \n",
      "17\t0.18542\tfudge minister ministry the dementors voice very prime wizard said witch magical magic cornelius man muggle office frank azkaban lift \n",
      "18\t0.47194\tn't harry did was him very then about his could but see get around out into professor would got and \n",
      "19\t0.20111\tweasley mrs said fred george ginny ron and they percy bill tonks ministry arthur sirius with malfoy train mum wizard \n",
      "\n",
      "[beta: 0.02139] \n",
      "<600> LL/token: -7.7836\n",
      "<610> LL/token: -7.78062\n",
      "<620> LL/token: -7.77927\n",
      "<630> LL/token: -7.77539\n",
      "<640> LL/token: -7.76796\n",
      "<650> LL/token: -7.76875\n",
      "<660> LL/token: -7.7652\n",
      "<670> LL/token: -7.76474\n",
      "<680> LL/token: -7.76123\n",
      "<690> LL/token: -7.75879\n",
      "\n",
      "0\t0.13601\tharry malfoy slughorn lockhart ginny dobby didn sir don ron very riddle potion myrtle potter filch school chamber slytherin bathroom \n",
      "1\t0.44367\tron hermione the they them that harry dumbledore get what just back around way because three not about think anything \n",
      "2\t0.71822\tyou harry said but what and there know have out back all how they this been was like think can \n",
      "3\t0.27502\tdumbledore you not that have voldemort your are will but said harry yes did has professor than upon riddle very \n",
      "4\t0.63904\tsaid she her and you with well are looking the your who just not harry asked got look over voice \n",
      "5\t0.80763\tthe that was had and his for him not would when with who been were from could now about did \n",
      "6\t0.73359\tthe and harry they them had were out with their into all could over said through one wand down was \n",
      "7\t0.32465\tand voldemort wand death not you him eaters but harry n't lord did there neville upon malfoy could eater potter \n",
      "8\t0.19395\tsnape lupin sirius black professor said james you dementors severus scabbers pettigrew office buckbeak lily crookshanks map your potter madam \n",
      "9\t0.10918\tuncle vernon dudley his aunt petunia harry dursleys owl letter house dursley your car large mrs boy marge drive hedwig \n",
      "10\t0.1192\tumbridge not sirius her professor towards neville harry luna ginny cho now fred mcgonagall potter she george trelawney office very \n",
      "11\t0.0666\twand griphook goblin luna ollivander bill xenophilius greyback fleur sword hallows cloak asked goblins are elder vault coupons ebatescom dobby \n",
      "12\t0.09432\tshe her kreacher and don savings cash codes promo ebatescom coupons asked not did albus sword didn horcrux aberforth locket \n",
      "13\t0.23765\tprofessor malfoy mcgonagall gryffindor ron snape was neville fred team slytherin george hall wood students quidditch weasley filch crabbe class \n",
      "14\t0.12465\thagrid yeh ter said they forest don fang yer fer cabin jus bin giant there after trelawney cloak castle back \n",
      "15\t0.69594\tthe his was him from and around her back saw she face into again voice then head away still hand \n",
      "16\t0.08287\tmoody crouch cedric krum bagman dobby winky karkaroff rita diggory around were tournament skeeter very looked maxime madame elf though \n",
      "17\t0.16251\tfudge the minister ministry very wizard magic dementors prime door witch voice cornelius frank magical mrs office yes lift muggle \n",
      "18\t0.48969\tn't harry was did him very his about around see get got one out down going heard off into anything \n",
      "19\t0.19344\tweasley mrs fred george and ginny said ron bill they percy sirius tonks ministry arthur train malfoy hogwarts eye door \n",
      "\n"
     ]
    },
    {
     "name": "stdout",
     "output_type": "stream",
     "text": [
      "[beta: 0.02183] \n",
      "<700> LL/token: -7.75228\n",
      "<710> LL/token: -7.75211\n",
      "<720> LL/token: -7.74749\n",
      "<730> LL/token: -7.74952\n",
      "<740> LL/token: -7.74396\n",
      "<750> LL/token: -7.74374\n",
      "<760> LL/token: -7.74068\n",
      "<770> LL/token: -7.73668\n",
      "<780> LL/token: -7.73225\n",
      "<790> LL/token: -7.72954\n",
      "\n",
      "0\t0.11027\tmalfoy harry slughorn lockhart ginny dobby ron potter didn don sir riddle snape very myrtle potion filch school chamber book \n",
      "1\t0.45167\tron hermione they them said the think around that just dumbledore about their harry off get got what going yeah \n",
      "2\t0.83417\tyou harry said but what and was there know out have back then how all looked into been room they \n",
      "3\t0.26447\tdumbledore you have not that voldemort said but your will professor yes more did has riddle very are think than \n",
      "4\t0.70425\tsaid she her and with you well looking your harry who not asked the look down just over all face \n",
      "5\t0.94362\tthe that had his was and for him not would when with who were been now from have about could \n",
      "6\t0.83859\tthe and harry they had were them with out their could into through all one but from over was its \n",
      "7\t0.30526\tand voldemort death you not eaters wand lord n't could him neville did dark potter your malfoy upon eater body \n",
      "8\t0.18178\tsnape lupin sirius black professor dementors james him you office potter buckbeak pettigrew scabbers dumbledore castle severus map has mcgonagall \n",
      "9\t0.10781\tuncle vernon dudley aunt his petunia dursleys harry car boy large letter house dursley your kitchen owl marge hedwig drive \n",
      "10\t0.11299\tumbridge not professor sirius her towards luna neville cho ginny potter fred from george very trelawney mcgonagall office feeling students \n",
      "11\t0.05363\twand griphook luna goblin ollivander bill xenophilius greyback sword hallows fleur potter asked cloak goblins can gringotts bellatrix coupons cash \n",
      "12\t0.08741\ther she kreacher hermione and don promo codes savings ebatescom cash coupons albus asked not didn where sword locket horcrux \n",
      "13\t0.23589\tprofessor was malfoy mcgonagall gryffindor ron snape neville fred team slytherin hall quidditch wood will weasley george students class everyone \n",
      "14\t0.11823\thagrid yeh ter said they forest don yer fang fer back cabin trelawney jus cloak giant bin there castle trees \n",
      "15\t0.77532\tthe his was him from her around back she wand and face saw with then voice head again down into \n",
      "16\t0.07884\tmoody crouch cedric krum bagman dobby winky karkaroff potter rita diggory though skeeter tournament elf maxime madame were fleur task \n",
      "17\t0.14098\tfudge minister the ministry very dementors wizard prime voice witch magical cornelius mrs frank man magic office black yes muggle \n",
      "18\t0.49592\tn't did him very harry was his about get just one could around going anything see got out off they \n",
      "19\t0.18349\tweasley mrs said fred george ginny ron they bill percy tonks and malfoy arthur hogwarts sirius mum moody train eye \n",
      "\n",
      "[beta: 0.02221] \n",
      "<800> LL/token: -7.73033\n",
      "<810> LL/token: -7.73621\n",
      "<820> LL/token: -7.72997\n",
      "<830> LL/token: -7.72494\n",
      "<840> LL/token: -7.72605\n",
      "<850> LL/token: -7.72027\n",
      "<860> LL/token: -7.71266\n",
      "<870> LL/token: -7.7144\n",
      "<880> LL/token: -7.7089\n",
      "<890> LL/token: -7.70598\n",
      "\n",
      "0\t0.0974\tmalfoy slughorn lockhart ginny dobby didn don potter ron sir harry riddle myrtle filch very potion slytherin school snape chamber \n",
      "1\t0.45494\tron hermione they the them said harry about what their get got around that dumbledore because back way bit bag \n",
      "2\t0.95605\tyou harry said what but and there was know out have this all back are then how into think they \n",
      "3\t0.25154\tdumbledore not you have voldemort but that said will very professor yes your riddle did slughorn sir has upon tom \n",
      "4\t0.74521\tsaid she her with and you well looking just your asked over look voice has who face down table this \n",
      "5\t1.07945\tthe and that had his was for him not would been who with when from could were now about though \n",
      "6\t0.93789\tthe and harry they were had them with out their but through was could all one into from down over \n",
      "7\t0.28222\tvoldemort and death not him you lord eaters n't your potter have snape wand will malfoy eater body wormtail bellatrix \n",
      "8\t0.18001\tsnape lupin sirius black him professor dumbledore james very dementors office potter buckbeak your pettigrew scabbers crookshanks map castle lily \n",
      "9\t0.10566\tuncle vernon dudley his aunt petunia harry dursleys your car letter dursley boy house large owl mrs marge privet hedwig \n",
      "10\t0.10723\tumbridge not professor sirius towards her luna neville ginny potter cho very trelawney george fred mcgonagall n't through desk students \n",
      "11\t0.05035\twand griphook luna goblin ollivander bill xenophilius potter greyback hallows fleur sword savings goblins asked cash gringotts vault dragon coupons \n",
      "12\t0.08304\tshe her kreacher hermione not don ebatescom codes promo they coupons cash savings asked dumbledore did albus sword after horcrux \n",
      "13\t0.24319\tprofessor malfoy was gryffindor mcgonagall snape neville fred team ron slytherin quidditch george wood will weasley students everyone hall crabbe \n",
      "14\t0.11624\thagrid yeh ter said they forest him fang don castle yer fer back cabin giant dumbledore jus bin trelawney trees \n",
      "15\t0.83435\tthe his was him her wand around back she from then saw face and voice head again into with eyes \n",
      "16\t0.07383\tmoody crouch cedric krum bagman dobby winky karkaroff dumbledore potter diggory rita tournament skeeter very elf maxime madame looked fleur \n",
      "17\t0.13018\tfudge minister ministry prime dementors wizard very magic office witch has muggle frank cornelius magical voice man mrs wizards azkaban \n",
      "18\t0.49738\tn't did was very him his about see down get off they just anything one got went going around look \n",
      "19\t0.18123\tweasley mrs fred george said ron ginny they bill percy hogwarts and tonks malfoy ministry arthur got train moody mum \n",
      "\n",
      "[beta: 0.02233] \n",
      "<900> LL/token: -7.70686\n",
      "<910> LL/token: -7.70999\n",
      "<920> LL/token: -7.71178\n",
      "<930> LL/token: -7.71143\n",
      "<940> LL/token: -7.71216\n",
      "<950> LL/token: -7.71059\n",
      "<960> LL/token: -7.69909\n",
      "<970> LL/token: -7.70651\n",
      "<980> LL/token: -7.70641\n",
      "<990> LL/token: -7.70538\n",
      "\n",
      "0\t0.09054\tslughorn malfoy lockhart ron dobby ginny didn potter don sir riddle myrtle potion snape filch book very chamber slytherin school \n",
      "1\t0.46364\thermione ron they them the said harry about out their get what dumbledore just going got yeah can bit three \n",
      "2\t1.0811\tyou harry said and but what was there have know back then out all they how them this think like \n",
      "3\t0.2365\tdumbledore not have that voldemort you but yes professor riddle will your sir very slughorn said upon did has asked \n",
      "4\t0.76842\tsaid she her and with well you just asked looking down voice table over has are might all look looked \n",
      "5\t1.21867\tthe that had his and was for him not would with who been when could were did from now about \n",
      "6\t1.02771\tthe and harry they were had with out their them into but through all from over off was one said \n",
      "7\t0.26741\tvoldemort and death you not snape lord eaters will n't him dark eater body wormtail neville bellatrix your malfoy potter \n",
      "8\t0.17907\tsnape lupin sirius black dumbledore professor james dementors office him buckbeak pettigrew very scabbers crookshanks castle madam map mcgonagall lily \n",
      "9\t0.10427\tuncle vernon dudley his aunt petunia dursleys harry dursley letter house mrs marge boy window hedwig school car drive kitchen \n",
      "10\t0.10133\tumbridge sirius n't not towards professor luna neville ginny her cho very potter george trelawney from fred mcgonagall students room \n",
      "11\t0.04772\twand griphook luna goblin ollivander xenophilius bill greyback fleur sword hallows asked elder goblins gringotts vault potter wizards promo dobby \n",
      "12\t0.08236\tshe and her kreacher not don cash codes savings ebatescom coupons promo asked hermione albus dumbledore didn where sword horcrux \n",
      "13\t0.24612\tprofessor malfoy ron mcgonagall gryffindor was snape neville fred team quidditch hall slytherin george wood weasley students everyone filch match \n",
      "14\t0.11527\thagrid yeh ter said they forest castle don fang yer fer back cabin giant jus where dumbledore bin asked trelawney \n",
      "15\t0.87534\this the was him her wand from around could she back voice then saw face again head did who still \n",
      "16\t0.07355\tmoody crouch cedric krum bagman n't dobby winky karkaroff very dumbledore around rita looked diggory tournament madame fleur elf maxime \n",
      "17\t0.12923\tfudge minister ministry wizard dementors prime magic witch very has magical office door frank azkaban voice cornelius wizards muggle weasley \n",
      "18\t0.49915\tn't did his was him very about around off got get could one down out anything potter see went going \n",
      "19\t0.18291\tweasley mrs said fred ron george ginny bill they percy tonks malfoy arthur and ministry train hogwarts mum muggle old \n",
      "\n"
     ]
    },
    {
     "name": "stdout",
     "output_type": "stream",
     "text": [
      "[beta: 0.02253] \r\n",
      "<1000> LL/token: -7.70282\r\n",
      "\r\n",
      "Total time: 1 minutes 9 seconds\r\n"
     ]
    }
   ],
   "source": [
    "!{path} train-topics --input novels-corpus.mallet --num-topics {num_topics} --num-iterations {num_iters} \\\n",
    "--output-doc-topics novels-doc-topics.txt \\\n",
    "--output-topic-keys novels-topic-keys.txt \\\n",
    "--word-topic-counts-file novels-word-topic-counts-file.txt \\\n",
    "--topic-word-weights-file novels-topic-word-weights-file.txt \\\n",
    "--xml-topic-report novels-topic-report.xml \\\n",
    "--xml-topic-phrase-report novels-topic-phrase-report.xml \\\n",
    "--show-topics-interval {show_interval} \\\n",
    "--use-symmetric-alpha false  \\\n",
    "--optimize-interval 100 \\\n",
    "--diagnostics-file novels-diagnostics.xml\n"
   ]
  },
  {
   "cell_type": "code",
   "execution_count": null,
   "metadata": {},
   "outputs": [],
   "source": []
  }
 ],
 "metadata": {
  "kernelspec": {
   "display_name": "Python 3",
   "language": "python",
   "name": "python3"
  },
  "language_info": {
   "codemirror_mode": {
    "name": "ipython",
    "version": 3
   },
   "file_extension": ".py",
   "mimetype": "text/x-python",
   "name": "python",
   "nbconvert_exporter": "python",
   "pygments_lexer": "ipython3",
   "version": "3.6.5"
  }
 },
 "nbformat": 4,
 "nbformat_minor": 2
}
